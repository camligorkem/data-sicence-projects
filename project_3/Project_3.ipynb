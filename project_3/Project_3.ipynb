{
 "cells": [
  {
   "cell_type": "markdown",
   "id": "c776f1fa-09a8-4e04-b948-50b8bb44e397",
   "metadata": {},
   "source": [
    "# Project 3 Recommender Systems"
   ]
  },
  {
   "cell_type": "code",
   "execution_count": 1,
   "id": "adf493d0-c1e5-438d-be10-007d6e85eea3",
   "metadata": {},
   "outputs": [],
   "source": [
    "# "
   ]
  },
  {
   "cell_type": "code",
   "execution_count": 2,
   "id": "d52b2c1d-f58c-4956-9303-01653b2c9601",
   "metadata": {},
   "outputs": [],
   "source": [
    "import pandas as pd\n",
    "import numpy as np\n",
    "import random \n",
    "\n",
    "import matplotlib.pyplot as plt\n",
    "import seaborn as sns\n",
    "\n",
    "from surprise.model_selection.validation import cross_validate\n",
    "from surprise.prediction_algorithms.knns import KNNWithMeans\n",
    "from surprise import Reader, Dataset\n",
    "from surprise.model_selection import KFold\n",
    "from surprise import accuracy\n",
    "from surprise.model_selection import train_test_split\n",
    "\n",
    "from sklearn.metrics import roc_curve, auc, roc_auc_score, RocCurveDisplay"
   ]
  },
  {
   "cell_type": "code",
   "execution_count": 3,
   "id": "429108c1-2649-48dc-9c46-19a66bf04c16",
   "metadata": {},
   "outputs": [],
   "source": [
    "rand_seed = 42\n",
    "np.random.seed(rand_seed)\n",
    "random.seed(rand_seed)"
   ]
  },
  {
   "cell_type": "code",
   "execution_count": 4,
   "id": "497bdc07-5e64-4d22-b436-09decea147a9",
   "metadata": {},
   "outputs": [],
   "source": [
    "folder_name = 'Synthetic_Movie_Lens/'\n",
    "ratings_raw = pd.read_csv(folder_name+'ratings.csv', index_col=0)\n",
    "movie = pd.read_csv(folder_name+'movies.csv')"
   ]
  },
  {
   "cell_type": "code",
   "execution_count": 5,
   "id": "9013d249-049c-4101-9a6d-f4bef537713a",
   "metadata": {},
   "outputs": [
    {
     "data": {
      "text/html": [
       "<div>\n",
       "<style scoped>\n",
       "    .dataframe tbody tr th:only-of-type {\n",
       "        vertical-align: middle;\n",
       "    }\n",
       "\n",
       "    .dataframe tbody tr th {\n",
       "        vertical-align: top;\n",
       "    }\n",
       "\n",
       "    .dataframe thead th {\n",
       "        text-align: right;\n",
       "    }\n",
       "</style>\n",
       "<table border=\"1\" class=\"dataframe\">\n",
       "  <thead>\n",
       "    <tr style=\"text-align: right;\">\n",
       "      <th></th>\n",
       "      <th>userId</th>\n",
       "      <th>movieId</th>\n",
       "      <th>rating</th>\n",
       "      <th>timestamp</th>\n",
       "    </tr>\n",
       "  </thead>\n",
       "  <tbody>\n",
       "    <tr>\n",
       "      <th>0</th>\n",
       "      <td>496</td>\n",
       "      <td>112852</td>\n",
       "      <td>3.0</td>\n",
       "      <td>1415520462</td>\n",
       "    </tr>\n",
       "    <tr>\n",
       "      <th>1</th>\n",
       "      <td>391</td>\n",
       "      <td>1947</td>\n",
       "      <td>4.0</td>\n",
       "      <td>1030945141</td>\n",
       "    </tr>\n",
       "    <tr>\n",
       "      <th>2</th>\n",
       "      <td>387</td>\n",
       "      <td>1562</td>\n",
       "      <td>1.5</td>\n",
       "      <td>1095041022</td>\n",
       "    </tr>\n",
       "    <tr>\n",
       "      <th>3</th>\n",
       "      <td>474</td>\n",
       "      <td>2716</td>\n",
       "      <td>4.5</td>\n",
       "      <td>1053020930</td>\n",
       "    </tr>\n",
       "    <tr>\n",
       "      <th>4</th>\n",
       "      <td>483</td>\n",
       "      <td>88125</td>\n",
       "      <td>4.5</td>\n",
       "      <td>1311337237</td>\n",
       "    </tr>\n",
       "  </tbody>\n",
       "</table>\n",
       "</div>"
      ],
      "text/plain": [
       "   userId  movieId  rating   timestamp\n",
       "0     496   112852     3.0  1415520462\n",
       "1     391     1947     4.0  1030945141\n",
       "2     387     1562     1.5  1095041022\n",
       "3     474     2716     4.5  1053020930\n",
       "4     483    88125     4.5  1311337237"
      ]
     },
     "execution_count": 5,
     "metadata": {},
     "output_type": "execute_result"
    }
   ],
   "source": [
    "ratings_raw.head(5)"
   ]
  },
  {
   "cell_type": "code",
   "execution_count": 6,
   "id": "d6ffa6cd-8e10-4ddf-a089-6d81aebd2c7b",
   "metadata": {},
   "outputs": [
    {
     "data": {
      "text/html": [
       "<div>\n",
       "<style scoped>\n",
       "    .dataframe tbody tr th:only-of-type {\n",
       "        vertical-align: middle;\n",
       "    }\n",
       "\n",
       "    .dataframe tbody tr th {\n",
       "        vertical-align: top;\n",
       "    }\n",
       "\n",
       "    .dataframe thead th {\n",
       "        text-align: right;\n",
       "    }\n",
       "</style>\n",
       "<table border=\"1\" class=\"dataframe\">\n",
       "  <thead>\n",
       "    <tr style=\"text-align: right;\">\n",
       "      <th></th>\n",
       "      <th>movieId</th>\n",
       "      <th>title</th>\n",
       "      <th>genres</th>\n",
       "    </tr>\n",
       "  </thead>\n",
       "  <tbody>\n",
       "    <tr>\n",
       "      <th>0</th>\n",
       "      <td>1</td>\n",
       "      <td>Toy Story (1995)</td>\n",
       "      <td>Adventure|Animation|Children|Comedy|Fantasy</td>\n",
       "    </tr>\n",
       "    <tr>\n",
       "      <th>1</th>\n",
       "      <td>2</td>\n",
       "      <td>Jumanji (1995)</td>\n",
       "      <td>Adventure|Children|Fantasy</td>\n",
       "    </tr>\n",
       "    <tr>\n",
       "      <th>2</th>\n",
       "      <td>3</td>\n",
       "      <td>Grumpier Old Men (1995)</td>\n",
       "      <td>Comedy|Romance</td>\n",
       "    </tr>\n",
       "    <tr>\n",
       "      <th>3</th>\n",
       "      <td>4</td>\n",
       "      <td>Waiting to Exhale (1995)</td>\n",
       "      <td>Comedy|Drama|Romance</td>\n",
       "    </tr>\n",
       "    <tr>\n",
       "      <th>4</th>\n",
       "      <td>5</td>\n",
       "      <td>Father of the Bride Part II (1995)</td>\n",
       "      <td>Comedy</td>\n",
       "    </tr>\n",
       "  </tbody>\n",
       "</table>\n",
       "</div>"
      ],
      "text/plain": [
       "   movieId                               title  \\\n",
       "0        1                    Toy Story (1995)   \n",
       "1        2                      Jumanji (1995)   \n",
       "2        3             Grumpier Old Men (1995)   \n",
       "3        4            Waiting to Exhale (1995)   \n",
       "4        5  Father of the Bride Part II (1995)   \n",
       "\n",
       "                                        genres  \n",
       "0  Adventure|Animation|Children|Comedy|Fantasy  \n",
       "1                   Adventure|Children|Fantasy  \n",
       "2                               Comedy|Romance  \n",
       "3                         Comedy|Drama|Romance  \n",
       "4                                       Comedy  "
      ]
     },
     "execution_count": 6,
     "metadata": {},
     "output_type": "execute_result"
    }
   ],
   "source": [
    "movie.head(5)"
   ]
  },
  {
   "cell_type": "code",
   "execution_count": 7,
   "id": "9ad7845b-d2d1-4fcd-a58a-c0a4e95ee26f",
   "metadata": {},
   "outputs": [
    {
     "data": {
      "text/html": [
       "<div>\n",
       "<style scoped>\n",
       "    .dataframe tbody tr th:only-of-type {\n",
       "        vertical-align: middle;\n",
       "    }\n",
       "\n",
       "    .dataframe tbody tr th {\n",
       "        vertical-align: top;\n",
       "    }\n",
       "\n",
       "    .dataframe thead th {\n",
       "        text-align: right;\n",
       "    }\n",
       "</style>\n",
       "<table border=\"1\" class=\"dataframe\">\n",
       "  <thead>\n",
       "    <tr style=\"text-align: right;\">\n",
       "      <th>movieId</th>\n",
       "      <th>1</th>\n",
       "      <th>2</th>\n",
       "      <th>3</th>\n",
       "      <th>4</th>\n",
       "      <th>5</th>\n",
       "      <th>6</th>\n",
       "      <th>7</th>\n",
       "      <th>8</th>\n",
       "      <th>9</th>\n",
       "      <th>10</th>\n",
       "      <th>...</th>\n",
       "      <th>193565</th>\n",
       "      <th>193567</th>\n",
       "      <th>193571</th>\n",
       "      <th>193573</th>\n",
       "      <th>193579</th>\n",
       "      <th>193581</th>\n",
       "      <th>193583</th>\n",
       "      <th>193585</th>\n",
       "      <th>193587</th>\n",
       "      <th>193609</th>\n",
       "    </tr>\n",
       "    <tr>\n",
       "      <th>userId</th>\n",
       "      <th></th>\n",
       "      <th></th>\n",
       "      <th></th>\n",
       "      <th></th>\n",
       "      <th></th>\n",
       "      <th></th>\n",
       "      <th></th>\n",
       "      <th></th>\n",
       "      <th></th>\n",
       "      <th></th>\n",
       "      <th></th>\n",
       "      <th></th>\n",
       "      <th></th>\n",
       "      <th></th>\n",
       "      <th></th>\n",
       "      <th></th>\n",
       "      <th></th>\n",
       "      <th></th>\n",
       "      <th></th>\n",
       "      <th></th>\n",
       "      <th></th>\n",
       "    </tr>\n",
       "  </thead>\n",
       "  <tbody>\n",
       "    <tr>\n",
       "      <th>1</th>\n",
       "      <td>4.0</td>\n",
       "      <td>0.0</td>\n",
       "      <td>4.0</td>\n",
       "      <td>0.0</td>\n",
       "      <td>0.0</td>\n",
       "      <td>4.5</td>\n",
       "      <td>0.0</td>\n",
       "      <td>0</td>\n",
       "      <td>0.0</td>\n",
       "      <td>0.0</td>\n",
       "      <td>...</td>\n",
       "      <td>0.0</td>\n",
       "      <td>0</td>\n",
       "      <td>0</td>\n",
       "      <td>0</td>\n",
       "      <td>0.0</td>\n",
       "      <td>0</td>\n",
       "      <td>0.0</td>\n",
       "      <td>0.0</td>\n",
       "      <td>0.0</td>\n",
       "      <td>0</td>\n",
       "    </tr>\n",
       "    <tr>\n",
       "      <th>2</th>\n",
       "      <td>0.0</td>\n",
       "      <td>0.0</td>\n",
       "      <td>0.0</td>\n",
       "      <td>0.0</td>\n",
       "      <td>0.0</td>\n",
       "      <td>0.0</td>\n",
       "      <td>0.0</td>\n",
       "      <td>0</td>\n",
       "      <td>0.0</td>\n",
       "      <td>0.0</td>\n",
       "      <td>...</td>\n",
       "      <td>0.0</td>\n",
       "      <td>0</td>\n",
       "      <td>0</td>\n",
       "      <td>0</td>\n",
       "      <td>0.0</td>\n",
       "      <td>0</td>\n",
       "      <td>0.0</td>\n",
       "      <td>0.0</td>\n",
       "      <td>0.0</td>\n",
       "      <td>0</td>\n",
       "    </tr>\n",
       "    <tr>\n",
       "      <th>3</th>\n",
       "      <td>0.0</td>\n",
       "      <td>0.0</td>\n",
       "      <td>0.0</td>\n",
       "      <td>0.0</td>\n",
       "      <td>0.0</td>\n",
       "      <td>0.0</td>\n",
       "      <td>0.0</td>\n",
       "      <td>0</td>\n",
       "      <td>0.0</td>\n",
       "      <td>0.0</td>\n",
       "      <td>...</td>\n",
       "      <td>0.0</td>\n",
       "      <td>0</td>\n",
       "      <td>0</td>\n",
       "      <td>0</td>\n",
       "      <td>0.0</td>\n",
       "      <td>0</td>\n",
       "      <td>0.0</td>\n",
       "      <td>0.0</td>\n",
       "      <td>0.0</td>\n",
       "      <td>0</td>\n",
       "    </tr>\n",
       "    <tr>\n",
       "      <th>4</th>\n",
       "      <td>0.0</td>\n",
       "      <td>0.0</td>\n",
       "      <td>0.0</td>\n",
       "      <td>0.0</td>\n",
       "      <td>0.0</td>\n",
       "      <td>0.0</td>\n",
       "      <td>0.0</td>\n",
       "      <td>0</td>\n",
       "      <td>0.0</td>\n",
       "      <td>0.0</td>\n",
       "      <td>...</td>\n",
       "      <td>0.0</td>\n",
       "      <td>0</td>\n",
       "      <td>0</td>\n",
       "      <td>0</td>\n",
       "      <td>0.0</td>\n",
       "      <td>0</td>\n",
       "      <td>0.0</td>\n",
       "      <td>0.0</td>\n",
       "      <td>0.0</td>\n",
       "      <td>0</td>\n",
       "    </tr>\n",
       "    <tr>\n",
       "      <th>5</th>\n",
       "      <td>4.0</td>\n",
       "      <td>0.0</td>\n",
       "      <td>0.0</td>\n",
       "      <td>0.0</td>\n",
       "      <td>0.0</td>\n",
       "      <td>0.0</td>\n",
       "      <td>0.0</td>\n",
       "      <td>0</td>\n",
       "      <td>0.0</td>\n",
       "      <td>0.0</td>\n",
       "      <td>...</td>\n",
       "      <td>0.0</td>\n",
       "      <td>0</td>\n",
       "      <td>0</td>\n",
       "      <td>0</td>\n",
       "      <td>0.0</td>\n",
       "      <td>0</td>\n",
       "      <td>0.0</td>\n",
       "      <td>0.0</td>\n",
       "      <td>0.0</td>\n",
       "      <td>0</td>\n",
       "    </tr>\n",
       "    <tr>\n",
       "      <th>...</th>\n",
       "      <td>...</td>\n",
       "      <td>...</td>\n",
       "      <td>...</td>\n",
       "      <td>...</td>\n",
       "      <td>...</td>\n",
       "      <td>...</td>\n",
       "      <td>...</td>\n",
       "      <td>...</td>\n",
       "      <td>...</td>\n",
       "      <td>...</td>\n",
       "      <td>...</td>\n",
       "      <td>...</td>\n",
       "      <td>...</td>\n",
       "      <td>...</td>\n",
       "      <td>...</td>\n",
       "      <td>...</td>\n",
       "      <td>...</td>\n",
       "      <td>...</td>\n",
       "      <td>...</td>\n",
       "      <td>...</td>\n",
       "      <td>...</td>\n",
       "    </tr>\n",
       "    <tr>\n",
       "      <th>606</th>\n",
       "      <td>2.5</td>\n",
       "      <td>0.0</td>\n",
       "      <td>0.0</td>\n",
       "      <td>0.0</td>\n",
       "      <td>0.0</td>\n",
       "      <td>0.0</td>\n",
       "      <td>2.5</td>\n",
       "      <td>0</td>\n",
       "      <td>0.0</td>\n",
       "      <td>0.0</td>\n",
       "      <td>...</td>\n",
       "      <td>0.0</td>\n",
       "      <td>0</td>\n",
       "      <td>0</td>\n",
       "      <td>0</td>\n",
       "      <td>0.0</td>\n",
       "      <td>0</td>\n",
       "      <td>0.0</td>\n",
       "      <td>0.0</td>\n",
       "      <td>0.0</td>\n",
       "      <td>0</td>\n",
       "    </tr>\n",
       "    <tr>\n",
       "      <th>607</th>\n",
       "      <td>4.0</td>\n",
       "      <td>0.0</td>\n",
       "      <td>0.0</td>\n",
       "      <td>0.0</td>\n",
       "      <td>0.0</td>\n",
       "      <td>0.0</td>\n",
       "      <td>0.0</td>\n",
       "      <td>0</td>\n",
       "      <td>0.0</td>\n",
       "      <td>0.0</td>\n",
       "      <td>...</td>\n",
       "      <td>0.0</td>\n",
       "      <td>0</td>\n",
       "      <td>0</td>\n",
       "      <td>0</td>\n",
       "      <td>0.0</td>\n",
       "      <td>0</td>\n",
       "      <td>0.0</td>\n",
       "      <td>0.0</td>\n",
       "      <td>0.0</td>\n",
       "      <td>0</td>\n",
       "    </tr>\n",
       "    <tr>\n",
       "      <th>608</th>\n",
       "      <td>2.5</td>\n",
       "      <td>2.0</td>\n",
       "      <td>2.0</td>\n",
       "      <td>0.0</td>\n",
       "      <td>0.0</td>\n",
       "      <td>0.0</td>\n",
       "      <td>0.0</td>\n",
       "      <td>0</td>\n",
       "      <td>0.0</td>\n",
       "      <td>4.0</td>\n",
       "      <td>...</td>\n",
       "      <td>0.0</td>\n",
       "      <td>0</td>\n",
       "      <td>0</td>\n",
       "      <td>0</td>\n",
       "      <td>0.0</td>\n",
       "      <td>0</td>\n",
       "      <td>0.0</td>\n",
       "      <td>0.0</td>\n",
       "      <td>0.0</td>\n",
       "      <td>0</td>\n",
       "    </tr>\n",
       "    <tr>\n",
       "      <th>609</th>\n",
       "      <td>3.0</td>\n",
       "      <td>0.0</td>\n",
       "      <td>0.0</td>\n",
       "      <td>0.0</td>\n",
       "      <td>0.0</td>\n",
       "      <td>0.0</td>\n",
       "      <td>0.0</td>\n",
       "      <td>0</td>\n",
       "      <td>0.0</td>\n",
       "      <td>4.0</td>\n",
       "      <td>...</td>\n",
       "      <td>0.0</td>\n",
       "      <td>0</td>\n",
       "      <td>0</td>\n",
       "      <td>0</td>\n",
       "      <td>0.0</td>\n",
       "      <td>0</td>\n",
       "      <td>0.0</td>\n",
       "      <td>0.0</td>\n",
       "      <td>0.0</td>\n",
       "      <td>0</td>\n",
       "    </tr>\n",
       "    <tr>\n",
       "      <th>610</th>\n",
       "      <td>5.0</td>\n",
       "      <td>0.0</td>\n",
       "      <td>0.0</td>\n",
       "      <td>0.0</td>\n",
       "      <td>0.0</td>\n",
       "      <td>5.0</td>\n",
       "      <td>0.0</td>\n",
       "      <td>0</td>\n",
       "      <td>0.0</td>\n",
       "      <td>0.0</td>\n",
       "      <td>...</td>\n",
       "      <td>0.0</td>\n",
       "      <td>0</td>\n",
       "      <td>0</td>\n",
       "      <td>0</td>\n",
       "      <td>0.0</td>\n",
       "      <td>0</td>\n",
       "      <td>0.0</td>\n",
       "      <td>0.0</td>\n",
       "      <td>0.0</td>\n",
       "      <td>0</td>\n",
       "    </tr>\n",
       "  </tbody>\n",
       "</table>\n",
       "<p>610 rows × 9724 columns</p>\n",
       "</div>"
      ],
      "text/plain": [
       "movieId  1       2       3       4       5       6       7       8       \\\n",
       "userId                                                                    \n",
       "1           4.0     0.0     4.0     0.0     0.0     4.5     0.0       0   \n",
       "2           0.0     0.0     0.0     0.0     0.0     0.0     0.0       0   \n",
       "3           0.0     0.0     0.0     0.0     0.0     0.0     0.0       0   \n",
       "4           0.0     0.0     0.0     0.0     0.0     0.0     0.0       0   \n",
       "5           4.0     0.0     0.0     0.0     0.0     0.0     0.0       0   \n",
       "...         ...     ...     ...     ...     ...     ...     ...     ...   \n",
       "606         2.5     0.0     0.0     0.0     0.0     0.0     2.5       0   \n",
       "607         4.0     0.0     0.0     0.0     0.0     0.0     0.0       0   \n",
       "608         2.5     2.0     2.0     0.0     0.0     0.0     0.0       0   \n",
       "609         3.0     0.0     0.0     0.0     0.0     0.0     0.0       0   \n",
       "610         5.0     0.0     0.0     0.0     0.0     5.0     0.0       0   \n",
       "\n",
       "movieId  9       10      ...  193565  193567  193571  193573  193579  193581  \\\n",
       "userId                   ...                                                   \n",
       "1           0.0     0.0  ...     0.0       0       0       0     0.0       0   \n",
       "2           0.0     0.0  ...     0.0       0       0       0     0.0       0   \n",
       "3           0.0     0.0  ...     0.0       0       0       0     0.0       0   \n",
       "4           0.0     0.0  ...     0.0       0       0       0     0.0       0   \n",
       "5           0.0     0.0  ...     0.0       0       0       0     0.0       0   \n",
       "...         ...     ...  ...     ...     ...     ...     ...     ...     ...   \n",
       "606         0.0     0.0  ...     0.0       0       0       0     0.0       0   \n",
       "607         0.0     0.0  ...     0.0       0       0       0     0.0       0   \n",
       "608         0.0     4.0  ...     0.0       0       0       0     0.0       0   \n",
       "609         0.0     4.0  ...     0.0       0       0       0     0.0       0   \n",
       "610         0.0     0.0  ...     0.0       0       0       0     0.0       0   \n",
       "\n",
       "movieId  193583  193585  193587  193609  \n",
       "userId                                   \n",
       "1           0.0     0.0     0.0       0  \n",
       "2           0.0     0.0     0.0       0  \n",
       "3           0.0     0.0     0.0       0  \n",
       "4           0.0     0.0     0.0       0  \n",
       "5           0.0     0.0     0.0       0  \n",
       "...         ...     ...     ...     ...  \n",
       "606         0.0     0.0     0.0       0  \n",
       "607         0.0     0.0     0.0       0  \n",
       "608         0.0     0.0     0.0       0  \n",
       "609         0.0     0.0     0.0       0  \n",
       "610         0.0     0.0     0.0       0  \n",
       "\n",
       "[610 rows x 9724 columns]"
      ]
     },
     "execution_count": 7,
     "metadata": {},
     "output_type": "execute_result"
    }
   ],
   "source": [
    "ratings_mat_df = ratings_raw.pivot_table(index='userId', columns='movieId', values='rating', fill_value=0)\n",
    "ratings_mat_df"
   ]
  },
  {
   "cell_type": "code",
   "execution_count": 8,
   "id": "6794e96e-6281-4ca3-be8b-1e2a3c8292c1",
   "metadata": {},
   "outputs": [
    {
     "name": "stdout",
     "output_type": "stream",
     "text": [
      "Number of users: 610\n",
      "Number of movies: 9724\n"
     ]
    }
   ],
   "source": [
    "print(f'Number of users: {ratings_mat_df.shape[0]}')\n",
    "print(f'Number of movies: {ratings_mat_df.shape[1]}')"
   ]
  },
  {
   "cell_type": "markdown",
   "id": "53174855-697b-4e0d-b9b3-c557946ad84c",
   "metadata": {
    "tags": []
   },
   "source": [
    "### Question 1\n"
   ]
  },
  {
   "cell_type": "markdown",
   "id": "43cf1c38-6930-4927-8fed-075dfa2373bc",
   "metadata": {
    "jp-MarkdownHeadingCollapsed": true,
    "tags": []
   },
   "source": [
    "#### Question 1.A\n",
    "\n",
    "Computethe sparsity of the movie rating dataset:\n",
    "\n",
    "Sparsity = Total number of available ratings / Total number of possible ratings\n"
   ]
  },
  {
   "cell_type": "code",
   "execution_count": 9,
   "id": "3c8230b7-7207-47b1-9ac8-fd5f19f1c537",
   "metadata": {},
   "outputs": [
    {
     "name": "stdout",
     "output_type": "stream",
     "text": [
      "Total num of available ratings: 100836\n",
      "Total num of possible ratings: 5931640\n",
      "Sparsity: 0.016999683055613623\n"
     ]
    }
   ],
   "source": [
    "total_ratings = sum(ratings_mat_df.astype(bool).sum(axis=0))\n",
    "total_possible_ratings = ratings_mat_df.shape[0]*ratings_mat_df.shape[1]\n",
    "sparsity = total_ratings/total_possible_ratings\n",
    "\n",
    "print(f'Total num of available ratings: {total_ratings}' )\n",
    "print(f'Total num of possible ratings: {total_possible_ratings}' )\n",
    "print(f'Sparsity: {sparsity}' )"
   ]
  },
  {
   "cell_type": "markdown",
   "id": "f5045222-faad-4350-aa04-d86b6475358d",
   "metadata": {
    "jp-MarkdownHeadingCollapsed": true,
    "tags": []
   },
   "source": [
    "#### Question 1.B\n",
    "\n",
    "Plot a histogram showing the frequency of the rating values: Bin the raw rating values into intervals of width 0.5 and use the binned rating values as the horizontal axis. Count the number of entries in the ratings matrix R that fall within each bin and use this count as the height of the vertical axis for that particular bin. Comment on the shape of the histogram."
   ]
  },
  {
   "cell_type": "code",
   "execution_count": 10,
   "id": "a67d834a-73f6-444c-8767-9ad00ad7314a",
   "metadata": {},
   "outputs": [
    {
     "data": {
      "text/plain": [
       "[0.5, 1.0, 1.5, 2.0, 2.5, 3.0, 3.5, 4.0, 4.5, 5.0]"
      ]
     },
     "execution_count": 10,
     "metadata": {},
     "output_type": "execute_result"
    }
   ],
   "source": [
    "# Ratings are made on a 5-star scale, with half-star increments (0.5 stars - 5.0 stars).\n",
    "sorted(ratings_raw.rating.unique())"
   ]
  },
  {
   "cell_type": "code",
   "execution_count": 11,
   "id": "249a9aa1-b7f7-469b-94b3-346ef8cb7099",
   "metadata": {},
   "outputs": [
    {
     "data": {
      "text/plain": [
       "Text(0, 0.5, 'Number of Ratings')"
      ]
     },
     "execution_count": 11,
     "metadata": {},
     "output_type": "execute_result"
    },
    {
     "data": {
      "image/png": "[encoded data removed]",
      "text/plain": [
       "<Figure size 720x360 with 1 Axes>"
      ]
     },
     "metadata": {
      "needs_background": "light"
     },
     "output_type": "display_data"
    }
   ],
   "source": [
    "bins_range = sorted(ratings_raw.rating.unique())\n",
    "plt.figure(figsize=(10,5))\n",
    "g = sns.histplot(data=ratings_raw, x=\"rating\", bins=bins_range)\n",
    "#g.set(xticklabels=bins_range)\n",
    "plt.xticks(bins_range)\n",
    "plt.title('Rating Values Histogram')\n",
    "plt.ylabel('Number of Ratings')"
   ]
  },
  {
   "cell_type": "markdown",
   "id": "d4d0779d-0b9d-4535-89e8-521888faae31",
   "metadata": {},
   "source": [
    "The ratings are within the 0.5 to 5.0 range. Users who gave ratings tends to give higher rating scores since the trend of the histogram is towards the higher ratings. Around 81% of the ratings are 3 and above and 21.5% is 4.5 and above. One possible interpretation is that users may tend to give ratings to the movies they like or they liked the movies they watched.\n"
   ]
  },
  {
   "cell_type": "code",
   "execution_count": 12,
   "id": "6c591968-0361-4964-8c15-fca4e90b0a76",
   "metadata": {},
   "outputs": [
    {
     "name": "stdout",
     "output_type": "stream",
     "text": [
      "4.0    26816\n",
      "3.0    20046\n",
      "5.0    13211\n",
      "3.5    13136\n",
      "4.5     8553\n",
      "2.0     7551\n",
      "2.5     5551\n",
      "1.0     2811\n",
      "1.5     1791\n",
      "0.5     1370\n",
      "Name: rating, dtype: int64\n",
      "4.0    0.265937\n",
      "3.0    0.198798\n",
      "5.0    0.131015\n",
      "3.5    0.130271\n",
      "4.5    0.084821\n",
      "2.0    0.074884\n",
      "2.5    0.055050\n",
      "1.0    0.027877\n",
      "1.5    0.017762\n",
      "0.5    0.013586\n",
      "Name: rating, dtype: float64\n"
     ]
    }
   ],
   "source": [
    "print(ratings_raw.rating.value_counts(sort=True))\n",
    "print(ratings_raw.rating.value_counts(sort=True, normalize=True))"
   ]
  },
  {
   "cell_type": "markdown",
   "id": "497c65fa-babe-4549-b602-66c343b80d88",
   "metadata": {
    "tags": []
   },
   "source": [
    "#### Question 1.C\n",
    "\n",
    "Plot the distribution of the number of ratings received among movies: The X-axis should be the movie index ordered by decreasing frequency and the Y -axis should be the number of ratings the movie has received; ties can broken in any way. A monotonically decreasing trend is expected."
   ]
  },
  {
   "cell_type": "code",
   "execution_count": 13,
   "id": "0843e2f8-99a5-4082-8dc8-e236100dfc33",
   "metadata": {},
   "outputs": [
    {
     "data": {
      "text/html": [
       "<div>\n",
       "<style scoped>\n",
       "    .dataframe tbody tr th:only-of-type {\n",
       "        vertical-align: middle;\n",
       "    }\n",
       "\n",
       "    .dataframe tbody tr th {\n",
       "        vertical-align: top;\n",
       "    }\n",
       "\n",
       "    .dataframe thead th {\n",
       "        text-align: right;\n",
       "    }\n",
       "</style>\n",
       "<table border=\"1\" class=\"dataframe\">\n",
       "  <thead>\n",
       "    <tr style=\"text-align: right;\">\n",
       "      <th></th>\n",
       "      <th>movieId</th>\n",
       "      <th>rating</th>\n",
       "    </tr>\n",
       "  </thead>\n",
       "  <tbody>\n",
       "    <tr>\n",
       "      <th>0</th>\n",
       "      <td>356</td>\n",
       "      <td>329</td>\n",
       "    </tr>\n",
       "    <tr>\n",
       "      <th>1</th>\n",
       "      <td>318</td>\n",
       "      <td>317</td>\n",
       "    </tr>\n",
       "    <tr>\n",
       "      <th>2</th>\n",
       "      <td>296</td>\n",
       "      <td>307</td>\n",
       "    </tr>\n",
       "    <tr>\n",
       "      <th>3</th>\n",
       "      <td>593</td>\n",
       "      <td>279</td>\n",
       "    </tr>\n",
       "    <tr>\n",
       "      <th>4</th>\n",
       "      <td>2571</td>\n",
       "      <td>278</td>\n",
       "    </tr>\n",
       "    <tr>\n",
       "      <th>...</th>\n",
       "      <td>...</td>\n",
       "      <td>...</td>\n",
       "    </tr>\n",
       "    <tr>\n",
       "      <th>9719</th>\n",
       "      <td>57502</td>\n",
       "      <td>1</td>\n",
       "    </tr>\n",
       "    <tr>\n",
       "      <th>9720</th>\n",
       "      <td>57522</td>\n",
       "      <td>1</td>\n",
       "    </tr>\n",
       "    <tr>\n",
       "      <th>9721</th>\n",
       "      <td>57526</td>\n",
       "      <td>1</td>\n",
       "    </tr>\n",
       "    <tr>\n",
       "      <th>9722</th>\n",
       "      <td>4032</td>\n",
       "      <td>1</td>\n",
       "    </tr>\n",
       "    <tr>\n",
       "      <th>9723</th>\n",
       "      <td>193609</td>\n",
       "      <td>1</td>\n",
       "    </tr>\n",
       "  </tbody>\n",
       "</table>\n",
       "<p>9724 rows × 2 columns</p>\n",
       "</div>"
      ],
      "text/plain": [
       "      movieId  rating\n",
       "0         356     329\n",
       "1         318     317\n",
       "2         296     307\n",
       "3         593     279\n",
       "4        2571     278\n",
       "...       ...     ...\n",
       "9719    57502       1\n",
       "9720    57522       1\n",
       "9721    57526       1\n",
       "9722     4032       1\n",
       "9723   193609       1\n",
       "\n",
       "[9724 rows x 2 columns]"
      ]
     },
     "execution_count": 13,
     "metadata": {},
     "output_type": "execute_result"
    }
   ],
   "source": [
    "rating_count_per_movie = pd.DataFrame(ratings_raw.groupby(by='movieId').rating.count().sort_values(ascending=False))\n",
    "rating_count_per_movie.reset_index(inplace=True)\n",
    "rating_count_per_movie"
   ]
  },
  {
   "cell_type": "code",
   "execution_count": 14,
   "id": "e756684f-09d9-4dbd-bb3a-2b1222d6666b",
   "metadata": {},
   "outputs": [
    {
     "data": {
      "text/plain": [
       "Text(0, 0.5, 'Number of Ratings')"
      ]
     },
     "execution_count": 14,
     "metadata": {},
     "output_type": "execute_result"
    },
    {
     "data": {
      "image/png": "[encoded data removed]",
      "text/plain": [
       "<Figure size 432x288 with 1 Axes>"
      ]
     },
     "metadata": {
      "needs_background": "light"
     },
     "output_type": "display_data"
    }
   ],
   "source": [
    "plt.plot(rating_count_per_movie.rating.values)\n",
    "plt.title('Distribution of number of ratings among movies:')\n",
    "plt.xlabel('Movie Index')\n",
    "plt.ylabel('Number of Ratings')"
   ]
  },
  {
   "cell_type": "code",
   "execution_count": 15,
   "id": "1c3b2bbc-2eb1-4b6b-8cd3-bb52d0a61d2e",
   "metadata": {},
   "outputs": [
    {
     "data": {
      "text/html": [
       "<div>\n",
       "<style scoped>\n",
       "    .dataframe tbody tr th:only-of-type {\n",
       "        vertical-align: middle;\n",
       "    }\n",
       "\n",
       "    .dataframe tbody tr th {\n",
       "        vertical-align: top;\n",
       "    }\n",
       "\n",
       "    .dataframe thead th {\n",
       "        text-align: right;\n",
       "    }\n",
       "</style>\n",
       "<table border=\"1\" class=\"dataframe\">\n",
       "  <thead>\n",
       "    <tr style=\"text-align: right;\">\n",
       "      <th></th>\n",
       "      <th>count</th>\n",
       "      <th>mean</th>\n",
       "      <th>std</th>\n",
       "      <th>min</th>\n",
       "      <th>25%</th>\n",
       "      <th>50%</th>\n",
       "      <th>75%</th>\n",
       "      <th>max</th>\n",
       "    </tr>\n",
       "  </thead>\n",
       "  <tbody>\n",
       "    <tr>\n",
       "      <th>movieId</th>\n",
       "      <td>9724.0</td>\n",
       "      <td>42245.024373</td>\n",
       "      <td>52191.137320</td>\n",
       "      <td>1.0</td>\n",
       "      <td>3245.5</td>\n",
       "      <td>7300.0</td>\n",
       "      <td>76739.25</td>\n",
       "      <td>193609.0</td>\n",
       "    </tr>\n",
       "    <tr>\n",
       "      <th>rating</th>\n",
       "      <td>9724.0</td>\n",
       "      <td>10.369807</td>\n",
       "      <td>22.401005</td>\n",
       "      <td>1.0</td>\n",
       "      <td>1.0</td>\n",
       "      <td>3.0</td>\n",
       "      <td>9.00</td>\n",
       "      <td>329.0</td>\n",
       "    </tr>\n",
       "  </tbody>\n",
       "</table>\n",
       "</div>"
      ],
      "text/plain": [
       "          count          mean           std  min     25%     50%       75%  \\\n",
       "movieId  9724.0  42245.024373  52191.137320  1.0  3245.5  7300.0  76739.25   \n",
       "rating   9724.0     10.369807     22.401005  1.0     1.0     3.0      9.00   \n",
       "\n",
       "              max  \n",
       "movieId  193609.0  \n",
       "rating      329.0  "
      ]
     },
     "execution_count": 15,
     "metadata": {},
     "output_type": "execute_result"
    }
   ],
   "source": [
    "rating_count_per_movie.describe().T"
   ]
  },
  {
   "cell_type": "code",
   "execution_count": 16,
   "id": "b498d50b-baed-466e-9962-f92899baa978",
   "metadata": {},
   "outputs": [
    {
     "data": {
      "text/plain": [
       "1      0.354381\n",
       "2      0.133484\n",
       "3      0.082271\n",
       "4      0.054504\n",
       "5      0.039284\n",
       "         ...   \n",
       "203    0.000103\n",
       "211    0.000103\n",
       "251    0.000103\n",
       "215    0.000103\n",
       "307    0.000103\n",
       "Name: rating, Length: 177, dtype: float64"
      ]
     },
     "execution_count": 16,
     "metadata": {},
     "output_type": "execute_result"
    }
   ],
   "source": [
    "rating_count_per_movie.rating.value_counts(normalize=True)"
   ]
  },
  {
   "cell_type": "markdown",
   "id": "bc57256b-0720-48da-a5ff-6ae0d1f803bf",
   "metadata": {},
   "source": [
    "As expected we observe a monotonically decreasing trend. Majority of the movies rated very few or 1 times."
   ]
  },
  {
   "cell_type": "markdown",
   "id": "772e2ca0-17d6-41f7-b613-3da089e6135a",
   "metadata": {
    "jp-MarkdownHeadingCollapsed": true,
    "tags": []
   },
   "source": [
    "#### Question 1.D\n",
    "\n",
    "Plot the distribution of ratings among users: The X-axis should be the user index ordered by decreasing frequency and the Y -axis should be the number of movies the user has rated. The requirement of the plot is similar to that in Question C."
   ]
  },
  {
   "cell_type": "code",
   "execution_count": 17,
   "id": "c561780b-5f9e-452b-8bc8-915873e96935",
   "metadata": {},
   "outputs": [
    {
     "data": {
      "text/html": [
       "<div>\n",
       "<style scoped>\n",
       "    .dataframe tbody tr th:only-of-type {\n",
       "        vertical-align: middle;\n",
       "    }\n",
       "\n",
       "    .dataframe tbody tr th {\n",
       "        vertical-align: top;\n",
       "    }\n",
       "\n",
       "    .dataframe thead th {\n",
       "        text-align: right;\n",
       "    }\n",
       "</style>\n",
       "<table border=\"1\" class=\"dataframe\">\n",
       "  <thead>\n",
       "    <tr style=\"text-align: right;\">\n",
       "      <th></th>\n",
       "      <th>userId</th>\n",
       "      <th>rating</th>\n",
       "    </tr>\n",
       "  </thead>\n",
       "  <tbody>\n",
       "    <tr>\n",
       "      <th>0</th>\n",
       "      <td>414</td>\n",
       "      <td>2698</td>\n",
       "    </tr>\n",
       "    <tr>\n",
       "      <th>1</th>\n",
       "      <td>599</td>\n",
       "      <td>2478</td>\n",
       "    </tr>\n",
       "    <tr>\n",
       "      <th>2</th>\n",
       "      <td>474</td>\n",
       "      <td>2108</td>\n",
       "    </tr>\n",
       "    <tr>\n",
       "      <th>3</th>\n",
       "      <td>448</td>\n",
       "      <td>1864</td>\n",
       "    </tr>\n",
       "    <tr>\n",
       "      <th>4</th>\n",
       "      <td>274</td>\n",
       "      <td>1346</td>\n",
       "    </tr>\n",
       "    <tr>\n",
       "      <th>...</th>\n",
       "      <td>...</td>\n",
       "      <td>...</td>\n",
       "    </tr>\n",
       "    <tr>\n",
       "      <th>605</th>\n",
       "      <td>569</td>\n",
       "      <td>20</td>\n",
       "    </tr>\n",
       "    <tr>\n",
       "      <th>606</th>\n",
       "      <td>194</td>\n",
       "      <td>20</td>\n",
       "    </tr>\n",
       "    <tr>\n",
       "      <th>607</th>\n",
       "      <td>147</td>\n",
       "      <td>20</td>\n",
       "    </tr>\n",
       "    <tr>\n",
       "      <th>608</th>\n",
       "      <td>406</td>\n",
       "      <td>20</td>\n",
       "    </tr>\n",
       "    <tr>\n",
       "      <th>609</th>\n",
       "      <td>442</td>\n",
       "      <td>20</td>\n",
       "    </tr>\n",
       "  </tbody>\n",
       "</table>\n",
       "<p>610 rows × 2 columns</p>\n",
       "</div>"
      ],
      "text/plain": [
       "     userId  rating\n",
       "0       414    2698\n",
       "1       599    2478\n",
       "2       474    2108\n",
       "3       448    1864\n",
       "4       274    1346\n",
       "..      ...     ...\n",
       "605     569      20\n",
       "606     194      20\n",
       "607     147      20\n",
       "608     406      20\n",
       "609     442      20\n",
       "\n",
       "[610 rows x 2 columns]"
      ]
     },
     "execution_count": 17,
     "metadata": {},
     "output_type": "execute_result"
    }
   ],
   "source": [
    "rating_count_per_user = pd.DataFrame(ratings_raw.groupby(by='userId').rating.count().sort_values(ascending=False))\n",
    "rating_count_per_user.reset_index(inplace=True)\n",
    "rating_count_per_user"
   ]
  },
  {
   "cell_type": "code",
   "execution_count": 18,
   "id": "491232ff-cb5e-42a8-a258-b4d3d50562b7",
   "metadata": {},
   "outputs": [
    {
     "data": {
      "text/plain": [
       "Text(0, 0.5, 'Number of Ratings')"
      ]
     },
     "execution_count": 18,
     "metadata": {},
     "output_type": "execute_result"
    },
    {
     "data": {
      "image/png": "[encoded data removed]",
      "text/plain": [
       "<Figure size 432x288 with 1 Axes>"
      ]
     },
     "metadata": {
      "needs_background": "light"
     },
     "output_type": "display_data"
    }
   ],
   "source": [
    "plt.plot(rating_count_per_user.rating.values)\n",
    "plt.title('Distribution of number of ratings among users:')\n",
    "plt.xlabel('User Index')\n",
    "plt.ylabel('Number of Ratings')"
   ]
  },
  {
   "cell_type": "code",
   "execution_count": 19,
   "id": "24aadc15-041b-47f7-a52c-613deafd22fe",
   "metadata": {},
   "outputs": [
    {
     "data": {
      "text/html": [
       "<div>\n",
       "<style scoped>\n",
       "    .dataframe tbody tr th:only-of-type {\n",
       "        vertical-align: middle;\n",
       "    }\n",
       "\n",
       "    .dataframe tbody tr th {\n",
       "        vertical-align: top;\n",
       "    }\n",
       "\n",
       "    .dataframe thead th {\n",
       "        text-align: right;\n",
       "    }\n",
       "</style>\n",
       "<table border=\"1\" class=\"dataframe\">\n",
       "  <thead>\n",
       "    <tr style=\"text-align: right;\">\n",
       "      <th></th>\n",
       "      <th>count</th>\n",
       "      <th>mean</th>\n",
       "      <th>std</th>\n",
       "      <th>min</th>\n",
       "      <th>25%</th>\n",
       "      <th>50%</th>\n",
       "      <th>75%</th>\n",
       "      <th>max</th>\n",
       "    </tr>\n",
       "  </thead>\n",
       "  <tbody>\n",
       "    <tr>\n",
       "      <th>userId</th>\n",
       "      <td>610.0</td>\n",
       "      <td>305.500000</td>\n",
       "      <td>176.236111</td>\n",
       "      <td>1.0</td>\n",
       "      <td>153.25</td>\n",
       "      <td>305.5</td>\n",
       "      <td>457.75</td>\n",
       "      <td>610.0</td>\n",
       "    </tr>\n",
       "    <tr>\n",
       "      <th>rating</th>\n",
       "      <td>610.0</td>\n",
       "      <td>165.304918</td>\n",
       "      <td>269.480584</td>\n",
       "      <td>20.0</td>\n",
       "      <td>35.00</td>\n",
       "      <td>70.5</td>\n",
       "      <td>168.00</td>\n",
       "      <td>2698.0</td>\n",
       "    </tr>\n",
       "  </tbody>\n",
       "</table>\n",
       "</div>"
      ],
      "text/plain": [
       "        count        mean         std   min     25%    50%     75%     max\n",
       "userId  610.0  305.500000  176.236111   1.0  153.25  305.5  457.75   610.0\n",
       "rating  610.0  165.304918  269.480584  20.0   35.00   70.5  168.00  2698.0"
      ]
     },
     "execution_count": 19,
     "metadata": {},
     "output_type": "execute_result"
    }
   ],
   "source": [
    "rating_count_per_user.describe().T"
   ]
  },
  {
   "cell_type": "code",
   "execution_count": 20,
   "id": "326ad5fc-65b2-408b-ae8e-3b9ac23d2401",
   "metadata": {},
   "outputs": [
    {
     "data": {
      "text/plain": [
       "20      0.022951\n",
       "21      0.024590\n",
       "22      0.022951\n",
       "23      0.021311\n",
       "24      0.011475\n",
       "          ...   \n",
       "1346    0.001639\n",
       "1864    0.001639\n",
       "2108    0.001639\n",
       "2478    0.001639\n",
       "2698    0.001639\n",
       "Name: rating, Length: 261, dtype: float64"
      ]
     },
     "execution_count": 20,
     "metadata": {},
     "output_type": "execute_result"
    }
   ],
   "source": [
    "rating_count_per_user.rating.value_counts(normalize=True).sort_index()"
   ]
  },
  {
   "cell_type": "code",
   "execution_count": 21,
   "id": "cd0f6454-5e3d-4f57-ad43-abc12741defb",
   "metadata": {},
   "outputs": [
    {
     "data": {
      "text/plain": [
       "20    0.022951\n",
       "21    0.047541\n",
       "22    0.070492\n",
       "23    0.091803\n",
       "24    0.103279\n",
       "25    0.118033\n",
       "26    0.139344\n",
       "27    0.152459\n",
       "28    0.165574\n",
       "29    0.178689\n",
       "30    0.183607\n",
       "31    0.195082\n",
       "32    0.206557\n",
       "33    0.222951\n",
       "34    0.237705\n",
       "35    0.255738\n",
       "36    0.270492\n",
       "37    0.280328\n",
       "38    0.291803\n",
       "39    0.298361\n",
       "40    0.308197\n",
       "41    0.314754\n",
       "42    0.322951\n",
       "43    0.327869\n",
       "44    0.332787\n",
       "45    0.342623\n",
       "46    0.350820\n",
       "47    0.357377\n",
       "48    0.368852\n",
       "50    0.380328\n",
       "51    0.388525\n",
       "52    0.391803\n",
       "53    0.398361\n",
       "54    0.403279\n",
       "55    0.406557\n",
       "56    0.429508\n",
       "57    0.436066\n",
       "58    0.444262\n",
       "59    0.449180\n",
       "60    0.452459\n",
       "61    0.460656\n",
       "62    0.463934\n",
       "63    0.465574\n",
       "64    0.473770\n",
       "65    0.480328\n",
       "66    0.483607\n",
       "67    0.486885\n",
       "68    0.488525\n",
       "69    0.496721\n",
       "70    0.500000\n",
       "71    0.501639\n",
       "Name: rating, dtype: float64"
      ]
     },
     "execution_count": 21,
     "metadata": {},
     "output_type": "execute_result"
    }
   ],
   "source": [
    "rating_count_per_user.rating.value_counts(normalize=True).sort_index().cumsum().head(51)"
   ]
  },
  {
   "cell_type": "markdown",
   "id": "6c4a1d2c-443e-419b-a214-ec627b90bf52",
   "metadata": {},
   "source": [
    "Again we see a decreasing trend with a tailed curve. There are some users who did a lot of ratings but majority seems to did low number of ratings. The minimum number of ratings among the users is 20. "
   ]
  },
  {
   "cell_type": "markdown",
   "id": "8420a265-4b88-49ac-b785-46d573f185f2",
   "metadata": {
    "tags": []
   },
   "source": [
    "#### Question 1.E\n",
    "\n",
    "Discuss the salient features of the distributions from Questions C,D and their implications for the recommendation process."
   ]
  },
  {
   "cell_type": "markdown",
   "id": "83e65923-4ae1-41b7-b2a5-6a659255e3e0",
   "metadata": {},
   "source": [
    "In 1.C, the number of ratings given to movies has a monotonically decreasing trend with a long tail on the right. This means majority of the movies get very low number of ratings where few of the movies get majority of the ratings. Around 35.4% movies get only 1 rating. Similarly, in 1.D, the number of ratings given by users has a monotonically decreasing trend with a long tail as well. This means majority of the users gave few ratings, and there are few users with very high number of ratings. Half of the users gave at least 20 and at most 70 movie ratings. Given that we have 610 users and 9724 movies, the ratings matrix R is a sparse matrix. The sparsity wee calculate in Q1.A with 0.0169 confirms this. Having a sparse matrix makes recommendation systems job harder, as there are few links between users and movies. Given the sparsity of matrix finding the similarities between users or movies will be challenging because we will have to work on small number of ratings, given that majority of the values are 0. \n",
    "\n",
    "TODO add regularization oage 6 descrip"
   ]
  },
  {
   "cell_type": "markdown",
   "id": "8e6b5914-ac87-432d-8941-faca6dbf4c41",
   "metadata": {
    "tags": []
   },
   "source": [
    "#### Question 1.F\n",
    "\n",
    "Compute the variance of the rating values received by each movie: Bin the variance values into intervals of width 0.5 and use the binned variance values as the horizontal axis. Count the number of movies with variance values in the binned intervals and use this count as the vertical axis. Briefly comment on the shape of the resulting histogram.\n",
    " "
   ]
  },
  {
   "cell_type": "code",
   "execution_count": 22,
   "id": "0f93a38f-c7d8-4aa3-a8fa-1adaab7fe783",
   "metadata": {},
   "outputs": [
    {
     "data": {
      "text/html": [
       "<div>\n",
       "<style scoped>\n",
       "    .dataframe tbody tr th:only-of-type {\n",
       "        vertical-align: middle;\n",
       "    }\n",
       "\n",
       "    .dataframe tbody tr th {\n",
       "        vertical-align: top;\n",
       "    }\n",
       "\n",
       "    .dataframe thead th {\n",
       "        text-align: right;\n",
       "    }\n",
       "</style>\n",
       "<table border=\"1\" class=\"dataframe\">\n",
       "  <thead>\n",
       "    <tr style=\"text-align: right;\">\n",
       "      <th></th>\n",
       "      <th>0</th>\n",
       "      <th>1</th>\n",
       "      <th>2</th>\n",
       "      <th>3</th>\n",
       "      <th>4</th>\n",
       "      <th>5</th>\n",
       "      <th>6</th>\n",
       "      <th>7</th>\n",
       "      <th>8</th>\n",
       "      <th>9</th>\n",
       "      <th>...</th>\n",
       "      <th>20</th>\n",
       "      <th>21</th>\n",
       "      <th>22</th>\n",
       "      <th>23</th>\n",
       "      <th>24</th>\n",
       "      <th>25</th>\n",
       "      <th>26</th>\n",
       "      <th>27</th>\n",
       "      <th>28</th>\n",
       "      <th>29</th>\n",
       "    </tr>\n",
       "  </thead>\n",
       "  <tbody>\n",
       "    <tr>\n",
       "      <th>movieId</th>\n",
       "      <td>1.00000</td>\n",
       "      <td>2.000000</td>\n",
       "      <td>3.000000</td>\n",
       "      <td>4.000000</td>\n",
       "      <td>5.000000</td>\n",
       "      <td>6.000000</td>\n",
       "      <td>7.000000</td>\n",
       "      <td>8.000000</td>\n",
       "      <td>9.000</td>\n",
       "      <td>10.000000</td>\n",
       "      <td>...</td>\n",
       "      <td>21.000000</td>\n",
       "      <td>22.000000</td>\n",
       "      <td>23.000</td>\n",
       "      <td>24.000000</td>\n",
       "      <td>25.0000</td>\n",
       "      <td>26.000</td>\n",
       "      <td>27.000000</td>\n",
       "      <td>28.000000</td>\n",
       "      <td>29.000000</td>\n",
       "      <td>30.0</td>\n",
       "    </tr>\n",
       "    <tr>\n",
       "      <th>max_rating</th>\n",
       "      <td>5.00000</td>\n",
       "      <td>5.000000</td>\n",
       "      <td>5.000000</td>\n",
       "      <td>3.000000</td>\n",
       "      <td>5.000000</td>\n",
       "      <td>5.000000</td>\n",
       "      <td>5.000000</td>\n",
       "      <td>5.000000</td>\n",
       "      <td>5.000</td>\n",
       "      <td>5.000000</td>\n",
       "      <td>...</td>\n",
       "      <td>5.000000</td>\n",
       "      <td>5.000000</td>\n",
       "      <td>5.000</td>\n",
       "      <td>5.000000</td>\n",
       "      <td>5.0000</td>\n",
       "      <td>4.000</td>\n",
       "      <td>5.000000</td>\n",
       "      <td>5.000000</td>\n",
       "      <td>5.000000</td>\n",
       "      <td>4.0</td>\n",
       "    </tr>\n",
       "    <tr>\n",
       "      <th>min_rating</th>\n",
       "      <td>0.50000</td>\n",
       "      <td>0.500000</td>\n",
       "      <td>0.500000</td>\n",
       "      <td>1.000000</td>\n",
       "      <td>0.500000</td>\n",
       "      <td>1.000000</td>\n",
       "      <td>1.000000</td>\n",
       "      <td>1.000000</td>\n",
       "      <td>1.500</td>\n",
       "      <td>0.500000</td>\n",
       "      <td>...</td>\n",
       "      <td>1.000000</td>\n",
       "      <td>1.000000</td>\n",
       "      <td>1.000</td>\n",
       "      <td>1.000000</td>\n",
       "      <td>1.0000</td>\n",
       "      <td>2.500</td>\n",
       "      <td>2.000000</td>\n",
       "      <td>2.500000</td>\n",
       "      <td>2.000000</td>\n",
       "      <td>1.0</td>\n",
       "    </tr>\n",
       "    <tr>\n",
       "      <th>rating_variance</th>\n",
       "      <td>0.69699</td>\n",
       "      <td>0.777419</td>\n",
       "      <td>1.112651</td>\n",
       "      <td>0.726190</td>\n",
       "      <td>0.822917</td>\n",
       "      <td>0.670841</td>\n",
       "      <td>0.955625</td>\n",
       "      <td>1.267857</td>\n",
       "      <td>0.950</td>\n",
       "      <td>0.738535</td>\n",
       "      <td>...</td>\n",
       "      <td>0.752809</td>\n",
       "      <td>0.677778</td>\n",
       "      <td>1.250</td>\n",
       "      <td>1.030093</td>\n",
       "      <td>1.2475</td>\n",
       "      <td>0.375</td>\n",
       "      <td>1.437500</td>\n",
       "      <td>0.618182</td>\n",
       "      <td>0.682255</td>\n",
       "      <td>3.0</td>\n",
       "    </tr>\n",
       "    <tr>\n",
       "      <th>rating_count</th>\n",
       "      <td>215.00000</td>\n",
       "      <td>110.000000</td>\n",
       "      <td>52.000000</td>\n",
       "      <td>7.000000</td>\n",
       "      <td>49.000000</td>\n",
       "      <td>102.000000</td>\n",
       "      <td>54.000000</td>\n",
       "      <td>8.000000</td>\n",
       "      <td>16.000</td>\n",
       "      <td>132.000000</td>\n",
       "      <td>...</td>\n",
       "      <td>89.000000</td>\n",
       "      <td>36.000000</td>\n",
       "      <td>16.000</td>\n",
       "      <td>28.000000</td>\n",
       "      <td>76.0000</td>\n",
       "      <td>13.000</td>\n",
       "      <td>9.000000</td>\n",
       "      <td>11.000000</td>\n",
       "      <td>38.000000</td>\n",
       "      <td>3.0</td>\n",
       "    </tr>\n",
       "    <tr>\n",
       "      <th>rating_mean</th>\n",
       "      <td>3.92093</td>\n",
       "      <td>3.431818</td>\n",
       "      <td>3.259615</td>\n",
       "      <td>2.357143</td>\n",
       "      <td>3.071429</td>\n",
       "      <td>3.950980</td>\n",
       "      <td>3.185185</td>\n",
       "      <td>2.875000</td>\n",
       "      <td>3.125</td>\n",
       "      <td>3.496212</td>\n",
       "      <td>...</td>\n",
       "      <td>3.494382</td>\n",
       "      <td>3.222222</td>\n",
       "      <td>3.125</td>\n",
       "      <td>3.125000</td>\n",
       "      <td>3.6250</td>\n",
       "      <td>3.500</td>\n",
       "      <td>3.333333</td>\n",
       "      <td>4.227273</td>\n",
       "      <td>4.013158</td>\n",
       "      <td>3.0</td>\n",
       "    </tr>\n",
       "  </tbody>\n",
       "</table>\n",
       "<p>6 rows × 30 columns</p>\n",
       "</div>"
      ],
      "text/plain": [
       "                        0           1          2         3          4   \\\n",
       "movieId            1.00000    2.000000   3.000000  4.000000   5.000000   \n",
       "max_rating         5.00000    5.000000   5.000000  3.000000   5.000000   \n",
       "min_rating         0.50000    0.500000   0.500000  1.000000   0.500000   \n",
       "rating_variance    0.69699    0.777419   1.112651  0.726190   0.822917   \n",
       "rating_count     215.00000  110.000000  52.000000  7.000000  49.000000   \n",
       "rating_mean        3.92093    3.431818   3.259615  2.357143   3.071429   \n",
       "\n",
       "                         5          6         7       8           9   ...  \\\n",
       "movieId            6.000000   7.000000  8.000000   9.000   10.000000  ...   \n",
       "max_rating         5.000000   5.000000  5.000000   5.000    5.000000  ...   \n",
       "min_rating         1.000000   1.000000  1.000000   1.500    0.500000  ...   \n",
       "rating_variance    0.670841   0.955625  1.267857   0.950    0.738535  ...   \n",
       "rating_count     102.000000  54.000000  8.000000  16.000  132.000000  ...   \n",
       "rating_mean        3.950980   3.185185  2.875000   3.125    3.496212  ...   \n",
       "\n",
       "                        20         21      22         23       24      25  \\\n",
       "movieId          21.000000  22.000000  23.000  24.000000  25.0000  26.000   \n",
       "max_rating        5.000000   5.000000   5.000   5.000000   5.0000   4.000   \n",
       "min_rating        1.000000   1.000000   1.000   1.000000   1.0000   2.500   \n",
       "rating_variance   0.752809   0.677778   1.250   1.030093   1.2475   0.375   \n",
       "rating_count     89.000000  36.000000  16.000  28.000000  76.0000  13.000   \n",
       "rating_mean       3.494382   3.222222   3.125   3.125000   3.6250   3.500   \n",
       "\n",
       "                        26         27         28    29  \n",
       "movieId          27.000000  28.000000  29.000000  30.0  \n",
       "max_rating        5.000000   5.000000   5.000000   4.0  \n",
       "min_rating        2.000000   2.500000   2.000000   1.0  \n",
       "rating_variance   1.437500   0.618182   0.682255   3.0  \n",
       "rating_count      9.000000  11.000000  38.000000   3.0  \n",
       "rating_mean       3.333333   4.227273   4.013158   3.0  \n",
       "\n",
       "[6 rows x 30 columns]"
      ]
     },
     "execution_count": 22,
     "metadata": {},
     "output_type": "execute_result"
    }
   ],
   "source": [
    "rating_count_per_movie_var = pd.DataFrame(ratings_raw.groupby(by='movieId').agg(max_rating=('rating', 'max'), min_rating=('rating', 'min'), rating_variance=('rating', 'var'), rating_count=('rating', 'count'), rating_mean=('rating', 'mean'))).reset_index()\n",
    "rating_count_per_movie_var.head(30).T\n"
   ]
  },
  {
   "cell_type": "code",
   "execution_count": 23,
   "id": "9251b8dd-d913-4a8f-af96-fe8734a28092",
   "metadata": {},
   "outputs": [
    {
     "data": {
      "text/html": [
       "<div>\n",
       "<style scoped>\n",
       "    .dataframe tbody tr th:only-of-type {\n",
       "        vertical-align: middle;\n",
       "    }\n",
       "\n",
       "    .dataframe tbody tr th {\n",
       "        vertical-align: top;\n",
       "    }\n",
       "\n",
       "    .dataframe thead th {\n",
       "        text-align: right;\n",
       "    }\n",
       "</style>\n",
       "<table border=\"1\" class=\"dataframe\">\n",
       "  <thead>\n",
       "    <tr style=\"text-align: right;\">\n",
       "      <th></th>\n",
       "      <th>movieId</th>\n",
       "      <th>max_rating</th>\n",
       "      <th>min_rating</th>\n",
       "      <th>rating_variance</th>\n",
       "      <th>rating_count</th>\n",
       "      <th>rating_mean</th>\n",
       "    </tr>\n",
       "  </thead>\n",
       "  <tbody>\n",
       "    <tr>\n",
       "      <th>count</th>\n",
       "      <td>9724.000000</td>\n",
       "      <td>9724.000000</td>\n",
       "      <td>9724.000000</td>\n",
       "      <td>6278.000000</td>\n",
       "      <td>9724.000000</td>\n",
       "      <td>9724.000000</td>\n",
       "    </tr>\n",
       "    <tr>\n",
       "      <th>mean</th>\n",
       "      <td>42245.024373</td>\n",
       "      <td>3.912999</td>\n",
       "      <td>2.416495</td>\n",
       "      <td>0.857169</td>\n",
       "      <td>10.369807</td>\n",
       "      <td>3.262448</td>\n",
       "    </tr>\n",
       "    <tr>\n",
       "      <th>std</th>\n",
       "      <td>52191.137320</td>\n",
       "      <td>1.056532</td>\n",
       "      <td>1.241600</td>\n",
       "      <td>0.795839</td>\n",
       "      <td>22.401005</td>\n",
       "      <td>0.869874</td>\n",
       "    </tr>\n",
       "    <tr>\n",
       "      <th>min</th>\n",
       "      <td>1.000000</td>\n",
       "      <td>0.500000</td>\n",
       "      <td>0.500000</td>\n",
       "      <td>0.000000</td>\n",
       "      <td>1.000000</td>\n",
       "      <td>0.500000</td>\n",
       "    </tr>\n",
       "    <tr>\n",
       "      <th>25%</th>\n",
       "      <td>3245.500000</td>\n",
       "      <td>3.500000</td>\n",
       "      <td>1.500000</td>\n",
       "      <td>0.395833</td>\n",
       "      <td>1.000000</td>\n",
       "      <td>2.800000</td>\n",
       "    </tr>\n",
       "    <tr>\n",
       "      <th>50%</th>\n",
       "      <td>7300.000000</td>\n",
       "      <td>4.000000</td>\n",
       "      <td>2.500000</td>\n",
       "      <td>0.702111</td>\n",
       "      <td>3.000000</td>\n",
       "      <td>3.416667</td>\n",
       "    </tr>\n",
       "    <tr>\n",
       "      <th>75%</th>\n",
       "      <td>76739.250000</td>\n",
       "      <td>5.000000</td>\n",
       "      <td>3.500000</td>\n",
       "      <td>1.105310</td>\n",
       "      <td>9.000000</td>\n",
       "      <td>3.911765</td>\n",
       "    </tr>\n",
       "    <tr>\n",
       "      <th>max</th>\n",
       "      <td>193609.000000</td>\n",
       "      <td>5.000000</td>\n",
       "      <td>5.000000</td>\n",
       "      <td>10.125000</td>\n",
       "      <td>329.000000</td>\n",
       "      <td>5.000000</td>\n",
       "    </tr>\n",
       "  </tbody>\n",
       "</table>\n",
       "</div>"
      ],
      "text/plain": [
       "             movieId   max_rating   min_rating  rating_variance  rating_count  \\\n",
       "count    9724.000000  9724.000000  9724.000000      6278.000000   9724.000000   \n",
       "mean    42245.024373     3.912999     2.416495         0.857169     10.369807   \n",
       "std     52191.137320     1.056532     1.241600         0.795839     22.401005   \n",
       "min         1.000000     0.500000     0.500000         0.000000      1.000000   \n",
       "25%      3245.500000     3.500000     1.500000         0.395833      1.000000   \n",
       "50%      7300.000000     4.000000     2.500000         0.702111      3.000000   \n",
       "75%     76739.250000     5.000000     3.500000         1.105310      9.000000   \n",
       "max    193609.000000     5.000000     5.000000        10.125000    329.000000   \n",
       "\n",
       "       rating_mean  \n",
       "count  9724.000000  \n",
       "mean      3.262448  \n",
       "std       0.869874  \n",
       "min       0.500000  \n",
       "25%       2.800000  \n",
       "50%       3.416667  \n",
       "75%       3.911765  \n",
       "max       5.000000  "
      ]
     },
     "execution_count": 23,
     "metadata": {},
     "output_type": "execute_result"
    }
   ],
   "source": [
    "rating_count_per_movie_var.describe()"
   ]
  },
  {
   "cell_type": "code",
   "execution_count": 24,
   "id": "4c5de432-9f2d-4af7-b8d9-31a0acab0c23",
   "metadata": {},
   "outputs": [
    {
     "name": "stdout",
     "output_type": "stream",
     "text": [
      "[ 0.   0.5  1.   1.5  2.   2.5  3.   3.5  4.   4.5  5.   5.5  6.   6.5\n",
      "  7.   7.5  8.   8.5  9.   9.5 10. ]\n"
     ]
    },
    {
     "data": {
      "text/plain": [
       "Text(0.5, 1.0, 'Histogram of Rating Values Variance per movie')"
      ]
     },
     "execution_count": 24,
     "metadata": {},
     "output_type": "execute_result"
    },
    {
     "data": {
      "image/png": "[encoded data removed]",
      "text/plain": [
       "<Figure size 432x288 with 1 Axes>"
      ]
     },
     "metadata": {
      "needs_background": "light"
     },
     "output_type": "display_data"
    }
   ],
   "source": [
    "bin_vals = np.arange(rating_count_per_movie_var.rating_variance.min(), rating_count_per_movie_var.rating_variance.max(),0.5)\n",
    "print(bin_vals)\n",
    "sns.histplot(data=rating_count_per_movie_var, x=\"rating_variance\", bins=bin_vals)\n",
    "plt.title('Histogram of Rating Values Variance per movie')"
   ]
  },
  {
   "cell_type": "code",
   "execution_count": 25,
   "id": "28647237-aa4b-46e3-85b4-c68c8599cf5c",
   "metadata": {},
   "outputs": [
    {
     "data": {
      "text/plain": [
       "0.500000    353\n",
       "0.125000    345\n",
       "0.000000    298\n",
       "1.125000    182\n",
       "2.000000    129\n",
       "           ... \n",
       "0.773958      1\n",
       "1.118577      1\n",
       "1.725000      1\n",
       "0.618182      1\n",
       "1.055556      1\n",
       "Name: rating_variance, Length: 2841, dtype: int64"
      ]
     },
     "execution_count": 25,
     "metadata": {},
     "output_type": "execute_result"
    }
   ],
   "source": [
    "rating_count_per_movie_var.rating_variance.value_counts()"
   ]
  },
  {
   "cell_type": "markdown",
   "id": "4c61cc23-d740-4ec7-b764-7ab98b005155",
   "metadata": {},
   "source": [
    "I used unbiased estimator.\n",
    "\n",
    "</color=red> TODO comment on the resulting shape\n",
    "explained diff btw biased vs unbiased histogram"
   ]
  },
  {
   "cell_type": "markdown",
   "id": "d361c863-1b48-4ed0-ae32-e305c88b6eef",
   "metadata": {
    "jp-MarkdownHeadingCollapsed": true,
    "tags": []
   },
   "source": [
    "### Question 2"
   ]
  },
  {
   "cell_type": "markdown",
   "id": "3ec7bb4f-c916-45ae-b78d-f487707174bc",
   "metadata": {
    "jp-MarkdownHeadingCollapsed": true,
    "tags": []
   },
   "source": [
    "#### Question 2.A\n",
    "\n",
    "Write down the formula for $μ_u$ in terms of $I_u$ and $r_{uk}$\n"
   ]
  },
  {
   "cell_type": "markdown",
   "id": "a8aade69-f8db-4524-b212-899b24b92b51",
   "metadata": {},
   "source": [
    " $$ \\mu_u = \\frac{\\text{Sum of ratings given by user u}}{\\text{Number of ratings given by user u}} $$\n",
    " \n",
    " \n",
    " $$  \\mu_u = \\frac{\\sum_{k\t\\in I_u} r_{uk}}{|I_u|}    $$"
   ]
  },
  {
   "cell_type": "markdown",
   "id": "127cf170-8b63-409d-b946-5619d13e086e",
   "metadata": {
    "jp-MarkdownHeadingCollapsed": true,
    "tags": []
   },
   "source": [
    "#### Question 2.B\n",
    "\n",
    "In plain words, explain the meaning of $I_u ∩ I_v$. Can $ I_u ∩ I_v = ∅$ ? (Hint: Rating matrix R is sparse)"
   ]
  },
  {
   "cell_type": "markdown",
   "id": "8b1cbb00-1978-41fa-af26-0cb01ce40fa5",
   "metadata": {},
   "source": [
    "$I_u ∩ I_v$ are the set of movies where both user u and user v rated. Because R matrix is sparse, it is very likely that for some user u and user v, they don't have any common movies they rated, hence the intersection of them is empty ($ I_u ∩ I_v = ∅$)."
   ]
  },
  {
   "cell_type": "markdown",
   "id": "a34a8bdf-8a09-4353-8603-ccd26dc9823c",
   "metadata": {
    "jp-MarkdownHeadingCollapsed": true,
    "tags": []
   },
   "source": [
    "### Question 3"
   ]
  },
  {
   "cell_type": "markdown",
   "id": "c2f058d2-9494-42f6-88b8-1c5950764e0b",
   "metadata": {},
   "source": [
    "Understanding the Prediction function: Can you explain the reason behind mean-centering the raw ratings $(r_{vj} − μ_v)$ in the prediction function? (Hint: Consider users who either rate all items highly or rate all items poorly and the impact of these users on the prediction function.)"
   ]
  },
  {
   "cell_type": "markdown",
   "id": "80bd2397-95b4-4022-84d2-d28aa5e25af9",
   "metadata": {},
   "source": [
    " Ratings can be subjective for every person, some people might be more prone to give higher scores and some prone to give lower scores. Therefore, score distribution of users also could be very different. We are not interested in the absolute rating for a movie from a user, because let's say an average rating for user A is 4 and he gave a movie rating 2.5 to movie X, thinks movie is bad, and user B has an average rating of 2. Then when we try to predict User B's rating, if we use absolute score, user B will think like user A liked the movie (user B's avg was 2) and become prone to like movie X. If both users have similar tastes, B should have dislike the movie as well. \n",
    "\n",
    "To reduce subjectivity and bias, we should interpret the score given by users relatively rather than absolute rating, and standardize them. Otherwise we might end up misinterpreting the score. To standardize user ratings we do mean centering around each user. In this way, mean centering can reduce the user bias, and help us predict more accurate and unbiased rating scores."
   ]
  },
  {
   "cell_type": "markdown",
   "id": "638a6ae5-0a2b-4d9e-a0f8-550e103e8c3c",
   "metadata": {
    "tags": []
   },
   "source": [
    "### Question 4"
   ]
  },
  {
   "cell_type": "markdown",
   "id": "35f7a098-515e-43a0-a0f2-f4410875e71d",
   "metadata": {},
   "source": [
    "Design a k-NN collaborative filter to predict the ratings of the movies in the original dataset and evaluate its performance using 10-fold cross validation. Sweep k (number of neighbors) from 2 to 100 in step sizes of 2, and for each k compute the average RMSE and average MAE obtained by averaging the RMSE and MAE across all 10 folds. Plot average RMSE (Y-axis) against k (X-axis) and average MAE (Y-axis) against k (X-axis).\n"
   ]
  },
  {
   "cell_type": "code",
   "execution_count": 26,
   "id": "ef57ed24-b642-4da4-a8e3-719024ec188e",
   "metadata": {},
   "outputs": [],
   "source": [
    "reader = Reader(rating_scale=(0.5, 5))\n",
    "ratings_data = Dataset.load_from_df(ratings_raw[['userId', 'movieId', 'rating']], reader)"
   ]
  },
  {
   "cell_type": "code",
   "execution_count": 27,
   "id": "05853102-fc2c-41ab-81eb-724e527842b9",
   "metadata": {},
   "outputs": [],
   "source": [
    "def evaluate_model(data, k_range, plot_dets, is_plot=True, print_update=False):\n",
    "    avg_rmse, avg_mae = [], []\n",
    "    cv_results_list = []\n",
    "    for i, k in enumerate(k_range):\n",
    "        if i % 10==0 and print_update:\n",
    "            print(f'{i} / {len(k_range)} -- k: {k}')\n",
    "        model = KNNWithMeans(k=k, sim_options = {'name':'pearson', 'user_based':True}, verbose=0) \n",
    "        cv_results = cross_validate(model, data, measures=['RMSE', 'MAE'], cv=10, verbose=False)\n",
    "        cv_results_list.append(cv_results)\n",
    "        avg_rmse.append(np.mean(cv_results['test_rmse']))\n",
    "        avg_mae.append(np.mean(cv_results['test_mae']))\n",
    "        \n",
    "    if is_plot: \n",
    "        plot_evaluation_metric(x= k_range, \n",
    "                               ys=[avg_rmse],\n",
    "                               x_label=plot_dets['x_label'],\n",
    "                               y_label='Average RMSE accross 10-fold CV',\n",
    "                               title=plot_dets['title'], \n",
    "                               labels=['Average RMSE'])\n",
    "        plot_evaluation_metric(x= k_range, \n",
    "                               ys=[avg_mae],\n",
    "                               x_label=plot_dets['x_label'],\n",
    "                               y_label='Avergae MAE accross 10-fold CV',\n",
    "                               title=plot_dets['title'], \n",
    "                               labels=['Average MAE'])\n",
    "        res_pdf = pd.DataFrame({'k': k_range, 'avg_rmse':avg_rmse, 'avg_mae':avg_mae, 'cv_results':cv_results_list })\n",
    "        return res_pdf\n",
    "\n",
    "def plot_evaluation_metric(x, ys, x_label, y_label, title, labels,  fig_size=(10,7)):\n",
    "    colors = ['blue','green','orange','purple']\n",
    "    plt.figure(figsize=fig_size)\n",
    "    for i, y in enumerate(ys):\n",
    "        plt.plot(x, y, label = labels[i], color=colors[i])\n",
    "    plt.xlabel(x_label)\n",
    "    plt.ylabel(y_label)\n",
    "    plt.title(title)\n",
    "    plt.legend(bbox_to_anchor=(1, 1), loc='upper left', ncol=1)\n",
    "    plt.show()"
   ]
  },
  {
   "cell_type": "code",
   "execution_count": 31,
   "id": "72dfa786-a7fa-4c30-8950-8948908fd488",
   "metadata": {},
   "outputs": [
    {
     "data": {
      "image/png": "[encoded data removed]",
      "text/plain": [
       "<Figure size 720x504 with 1 Axes>"
      ]
     },
     "metadata": {
      "needs_background": "light"
     },
     "output_type": "display_data"
    },
    {
     "data": {
      "image/png": "[encoded data removed]",
      "text/plain": [
       "<Figure size 720x504 with 1 Axes>"
      ]
     },
     "metadata": {
      "needs_background": "light"
     },
     "output_type": "display_data"
    }
   ],
   "source": [
    "plot_dets_q4 = {\n",
    "    'x_label': 'Number of neighbors (k)',\n",
    "    'y_label': 'Average Test Error accross 10-fold CV',\n",
    "    'title': 'K-NN Collaborative Filter Results \\n for different k values on 10-fold cross validation '\n",
    "}\n",
    "k_range_q4 = list(range(2, 5, 2))   # to do change range to 100\n",
    "q4_exp_df = evaluate_model(data=ratings_data, k_range=k_range_q4, plot_dets=plot_dets_q4)"
   ]
  },
  {
   "cell_type": "code",
   "execution_count": 33,
   "id": "b4599e94-090e-4ca6-8ecc-d95cc269a9eb",
   "metadata": {},
   "outputs": [
    {
     "data": {
      "text/html": [
       "<div>\n",
       "<style scoped>\n",
       "    .dataframe tbody tr th:only-of-type {\n",
       "        vertical-align: middle;\n",
       "    }\n",
       "\n",
       "    .dataframe tbody tr th {\n",
       "        vertical-align: top;\n",
       "    }\n",
       "\n",
       "    .dataframe thead th {\n",
       "        text-align: right;\n",
       "    }\n",
       "</style>\n",
       "<table border=\"1\" class=\"dataframe\">\n",
       "  <thead>\n",
       "    <tr style=\"text-align: right;\">\n",
       "      <th></th>\n",
       "      <th>k</th>\n",
       "      <th>avg_rmse</th>\n",
       "      <th>avg_mae</th>\n",
       "      <th>cv_results</th>\n",
       "    </tr>\n",
       "  </thead>\n",
       "  <tbody>\n",
       "    <tr>\n",
       "      <th>0</th>\n",
       "      <td>2</td>\n",
       "      <td>1.018401</td>\n",
       "      <td>0.785199</td>\n",
       "      <td>{'test_rmse': [1.0064455149967226, 1.031740256...</td>\n",
       "    </tr>\n",
       "    <tr>\n",
       "      <th>1</th>\n",
       "      <td>4</td>\n",
       "      <td>0.943863</td>\n",
       "      <td>0.725791</td>\n",
       "      <td>{'test_rmse': [0.9361455127443382, 0.936461550...</td>\n",
       "    </tr>\n",
       "  </tbody>\n",
       "</table>\n",
       "</div>"
      ],
      "text/plain": [
       "   k  avg_rmse   avg_mae                                         cv_results\n",
       "0  2  1.018401  0.785199  {'test_rmse': [1.0064455149967226, 1.031740256...\n",
       "1  4  0.943863  0.725791  {'test_rmse': [0.9361455127443382, 0.936461550..."
      ]
     },
     "execution_count": 33,
     "metadata": {},
     "output_type": "execute_result"
    }
   ],
   "source": [
    "q4_exp_df.head(3)"
   ]
  },
  {
   "cell_type": "markdown",
   "id": "1bd8b88f-3ed6-4824-8c52-b59b50067b5b",
   "metadata": {
    "tags": []
   },
   "source": [
    "### Question 5"
   ]
  },
  {
   "cell_type": "markdown",
   "id": "63f6181d-5cfb-4d17-be0f-39c459b1d53f",
   "metadata": {},
   "source": [
    "Use the plot from question 4, to find a ’minimum k’. Note: The term ’minimum k’ in this context means that increasing k above the minimum value would not result in a significant decrease in average RMSE or average MAE. If you get the plot correct, then ’minimum k’ would correspond to the k value for which average RMSE and average MAE converges to a steady-state value. Please report the steady state values of average RMSE and average MAE."
   ]
  },
  {
   "cell_type": "code",
   "execution_count": 35,
   "id": "67c2fecd-9062-47c6-902e-4abbe9a55c7f",
   "metadata": {},
   "outputs": [
    {
     "data": {
      "text/html": [
       "<div>\n",
       "<style scoped>\n",
       "    .dataframe tbody tr th:only-of-type {\n",
       "        vertical-align: middle;\n",
       "    }\n",
       "\n",
       "    .dataframe tbody tr th {\n",
       "        vertical-align: top;\n",
       "    }\n",
       "\n",
       "    .dataframe thead th {\n",
       "        text-align: right;\n",
       "    }\n",
       "</style>\n",
       "<table border=\"1\" class=\"dataframe\">\n",
       "  <thead>\n",
       "    <tr style=\"text-align: right;\">\n",
       "      <th></th>\n",
       "      <th>k</th>\n",
       "      <th>avg_rmse</th>\n",
       "      <th>avg_mae</th>\n",
       "    </tr>\n",
       "  </thead>\n",
       "  <tbody>\n",
       "    <tr>\n",
       "      <th>0</th>\n",
       "      <td>2</td>\n",
       "      <td>1.018401</td>\n",
       "      <td>0.785199</td>\n",
       "    </tr>\n",
       "    <tr>\n",
       "      <th>1</th>\n",
       "      <td>4</td>\n",
       "      <td>0.943863</td>\n",
       "      <td>0.725791</td>\n",
       "    </tr>\n",
       "  </tbody>\n",
       "</table>\n",
       "</div>"
      ],
      "text/plain": [
       "   k  avg_rmse   avg_mae\n",
       "0  2  1.018401  0.785199\n",
       "1  4  0.943863  0.725791"
      ]
     },
     "execution_count": 35,
     "metadata": {},
     "output_type": "execute_result"
    }
   ],
   "source": [
    "q4_exp_df[['k','avg_rmse','avg_mae']]"
   ]
  },
  {
   "cell_type": "code",
   "execution_count": 36,
   "id": "f462cf43-16fe-42ba-85dd-44ea00b38b3f",
   "metadata": {},
   "outputs": [],
   "source": [
    "# TODO answer question"
   ]
  },
  {
   "cell_type": "markdown",
   "id": "555f3198-7c19-4b32-a290-e1805ce9b13f",
   "metadata": {},
   "source": [
    "### Question 6"
   ]
  },
  {
   "cell_type": "code",
   "execution_count": 37,
   "id": "7e19d9a8-f887-499d-a882-259cda269d71",
   "metadata": {},
   "outputs": [
    {
     "name": "stdout",
     "output_type": "stream",
     "text": [
      "Number of popular movies: 4980\n",
      "Number of unpopular movies: 4744\n",
      "Number of high variance movies: 87\n"
     ]
    }
   ],
   "source": [
    "popular_movies = rating_count_per_movie_var[rating_count_per_movie_var.rating_count > 2].movieId.values\n",
    "unpopular_movies = rating_count_per_movie_var[rating_count_per_movie_var.rating_count <= 2].movieId.values\n",
    "high_var_movies = rating_count_per_movie_var[(rating_count_per_movie_var.rating_count >= 5) & (rating_count_per_movie_var.rating_variance >= 2)].movieId.values\n",
    "\n",
    "print(f'Number of popular movies: {len(popular_movies)}')\n",
    "print(f'Number of unpopular movies: {len(unpopular_movies)}')\n",
    "print(f'Number of high variance movies: {len(high_var_movies)}')"
   ]
  },
  {
   "cell_type": "code",
   "execution_count": 41,
   "id": "200a440c-649c-47d6-982a-182c790d0e73",
   "metadata": {},
   "outputs": [],
   "source": [
    "def clean_based_on_trim_type(data, trim_type):\n",
    "    trimmed_data = None\n",
    "    if trim_type == 'popular':\n",
    "        trimmed_data = trim_popular(data)\n",
    "    elif trim_type == 'unpopular':\n",
    "        trimmed_data = trim_unpopular(data)\n",
    "    elif trim_type == 'high_variance':\n",
    "        trimmed_data = trim_high_variance(data)\n",
    "    else: \n",
    "        raise 'Wrong trim type: select from popular, unpopular or high_variance'\n",
    "    return trimmed_data\n",
    "\n",
    "def trim_popular(data):\n",
    "    trimmed_data = [x for x in data if x[0] in popular_movies] \n",
    "    return trimmed_data\n",
    "\n",
    "def trim_unpopular(data):\n",
    "    trimmed_data = [x for x in data if x[0] in unpopular_movies] \n",
    "    return trimmed_data\n",
    "\n",
    "def trim_high_variance(data):    \n",
    "    trimmed_data = [x for x in data if x[0] in high_var_movies] \n",
    "    return trimmed_data\n",
    "\n",
    "def get_model(model_type, k):\n",
    "    model = None\n",
    "    if model_type == 'knn':\n",
    "        model = KNNWithMeans(k=k, sim_options = {'name':'pearson', 'user_based':True}, verbose=0) \n",
    "        \n",
    "    else: \n",
    "        raise 'Wrong trim type: select from popular, unpopular or high_variance'\n",
    "        \n",
    "    return model"
   ]
  },
  {
   "cell_type": "code",
   "execution_count": 71,
   "id": "da4334ac-4a4c-421b-84c4-2e77157172cb",
   "metadata": {},
   "outputs": [],
   "source": [
    "def evaluate_model_on_trimsets(data, model_type, k_range, plot_dets, trim_types, is_plot=True, print_update=False):\n",
    " \n",
    "    kf = KFold(n_splits=10)\n",
    "    all_rmses, all_maes, res_dfs = [],[], []\n",
    "    for trim_type in trim_types:\n",
    "        avg_rmse, avg_mae = [], []\n",
    "        cv_results_dict = {}\n",
    "        for i, k in enumerate(k_range):\n",
    "            if i % 10==0 and print_update:\n",
    "                    print(f'{i} / {len(k_range)} -- k: {k}')\n",
    "\n",
    "            k_rmses, k_maes = [], []\n",
    "            for train_data, test_data in kf.split(data):\n",
    "                model = get_model(model_type=model_type, k=k)    #KNNWithMeans(k=k, sim_options = {'name':'pearson', 'user_based':True}, verbose=0) \n",
    "                model.fit(train_data)\n",
    "\n",
    "                # clean test set based on trim type (popular, unpopular, high variance)\n",
    "                if not trim_type:\n",
    "                    test_data_trimmed=test_data\n",
    "                else:\n",
    "                    test_data_trimmed = clean_based_on_trim_type(data=test_data, trim_type=trim_type)\n",
    "                preds = model.test(test_data_trimmed)\n",
    "\n",
    "                k_rmses.append(accuracy.rmse(preds, verbose=False))\n",
    "                k_maes.append(accuracy.mae(preds, verbose=False))\n",
    "\n",
    "            cv_results_dict[k]={'rmse_results':k_rmses, 'mae_results':k_maes}    \n",
    "            avg_rmse.append(np.mean(k_rmses))\n",
    "            avg_mae.append(np.mean(k_maes))\n",
    "        trim_type_name = trim_type if trim_type else 'original'\n",
    "        res_df = pd.DataFrame({'k': k_range, f'avg_rmse_{trim_type_name}':avg_rmse, f'avg_mae_{trim_type_name}':avg_mae}) #, 'cv_results':[cv_results_dict]})\n",
    "        res_dfs.append(res_df)\n",
    "        all_rmses.append(avg_rmse)\n",
    "        all_maes.append(avg_mae)\n",
    "         \n",
    "    if is_plot: \n",
    "        title = f'K-NN Collaborative Filter Results \\n for different test set and k values \\n on 10-fold cross validation '\n",
    "        trim_names = []\n",
    "        for trim_type in trim_types:\n",
    "            trim_name=None\n",
    "            if not trim_type:\n",
    "                trim_name = 'Original'\n",
    "            elif trim_type=='high_variance':\n",
    "                trim_name = 'High Variance'\n",
    "            else:\n",
    "                trim_name = trim_type.capitalize()\n",
    "            trim_names.append(trim_name)\n",
    "        plot_evaluation_metric(x= k_range, \n",
    "                               ys=all_rmses,\n",
    "                               x_label=plot_dets['x_label'],\n",
    "                               y_label='Average RMSE',\n",
    "                               title=f'K-NN Collaborative Filter Results \\n Avergae RMSE on 10-fold cross validation \\n for different test set and k values', \n",
    "                               labels=[f'Average RMSE - {x} test set' for x in trim_names])\n",
    "        plot_evaluation_metric(x= k_range, \n",
    "                               ys=all_maes,\n",
    "                               x_label=plot_dets['x_label'],\n",
    "                               y_label='Avergae MAE',\n",
    "                               title=f'K-NN Collaborative Filter Results \\n Avergae MAE on 10-fold cross validation \\n for different test set and k values', \n",
    "                               labels=[f'Average MAE - {x} test set' for x in trim_names])\n",
    "       \n",
    "    return res_dfs\n",
    "    "
   ]
  },
  {
   "cell_type": "code",
   "execution_count": 39,
   "id": "faaae4b9-f342-4961-a21c-dd07a7088b62",
   "metadata": {},
   "outputs": [],
   "source": [
    "def plot_roc(fprs, tprs, thresholds, aucs, axs=None, title=''):\n",
    "    lw = 2\n",
    "    colors = ['green', 'orange','pink','blue']\n",
    "    \n",
    "    if not axs:\n",
    "        plt.figure(figsize=(12,12))\n",
    "    for i in range(len(thresholds)):\n",
    "        if not axs:\n",
    "            plt.scatter(\n",
    "                fprs[i],\n",
    "                tprs[i],\n",
    "                color=colors[i],\n",
    "                lw=lw,\n",
    "                label=f\"THR {thresholds[i]}:  AUC: {aucs[i]:.3f})\",\n",
    "            )\n",
    "        else:\n",
    "            axs.scatter(\n",
    "                fprs[i],\n",
    "                tprs[i],\n",
    "                color=colors[i],\n",
    "                lw=lw,\n",
    "                label=f\"THR {thresholds[i]}:  AUC: {aucs[i]:.3f})\",\n",
    "            )\n",
    "    if not axs:\n",
    "        plt.plot([0, 1], [0, 1], color=\"navy\", lw=lw, linestyle=\"--\")\n",
    "        plt.xlim([0.0, 1.0])\n",
    "        plt.ylim([0.0, 1.05])\n",
    "        plt.xlabel(\"False Positive Rate (FPR)\")\n",
    "        plt.ylabel(\"True Positive Rate (TPR)\")\n",
    "        plt.title(\"ROC Curve \")\n",
    "        plt.legend(loc=\"lower right\")\n",
    "        plt.legend(bbox_to_anchor=(0, 1), loc='upper left', ncol=1)\n",
    "        plt.show()\n",
    "    else:\n",
    "        axs.plot([0, 1], [0, 1], color=\"navy\", lw=lw, linestyle=\"--\")\n",
    "        axs.set_xlim([0.0, 1.0])\n",
    "        axs.set_ylim([0.0, 1.05])\n",
    "        axs.set(xlabel=\"False Positive Rate (FPR)\", ylabel=\"True Positive Rate (TPR)\")\n",
    "        axs.set_title(\"ROC Curve \"+title)\n",
    "        axs.legend(loc=\"lower right\")\n",
    "    \n",
    "def plot_roc_curves(data, model_type, trim_type, chosen_k, thresholds, axes=None):\n",
    "    train_data, test_data = train_test_split(data, test_size=.1)\n",
    "\n",
    "    model = get_model(model_type=model_type, k=chosen_k)\n",
    "    model.fit(train_data)\n",
    "    if not trim_type:\n",
    "        test_data_trimmed= test_data\n",
    "    else:\n",
    "        test_data_trimmed = clean_based_on_trim_type(data=test_data, trim_type=trim_type)\n",
    "    preds = model.test(test_data_trimmed)\n",
    "    aucs, fprs, tprs = [], [], []\n",
    "           \n",
    "    for thr in thresholds:\n",
    "\n",
    "        preds_vals = [pred.est for pred in preds]\n",
    "        preds_vals_thresholded = [1 if pred.est > thr else 0 for pred in preds ]\n",
    "        ground_truth_thresholded = [1 if pred.r_ui > thr else 0 for pred in preds ]\n",
    "\n",
    "        fpr, tpr, ths = roc_curve(y_true=ground_truth_thresholded, y_score=preds_vals_thresholded)\n",
    "        fprs.append(fpr)\n",
    "        tprs.append(tpr)\n",
    "        roc_auc_score = auc(fpr, tpr)\n",
    "        aucs.append(roc_auc_score)\n",
    "\n",
    "    trim_name=None\n",
    "    if not trim_type:\n",
    "        trim_name = 'Original'\n",
    "    elif trim_type=='high_variance':\n",
    "        trim_name = 'High Variance'\n",
    "    else:\n",
    "        trim_name = trim_type.capitalize() \n",
    "    plot_roc(fprs=fprs, tprs=tprs, thresholds=thresholds, aucs=aucs, axs=axes, title=f'for {model_type.upper()} on {trim_name} test set')\n",
    "\n",
    "\n",
    "def multiple_rocs(data, model_type, trim_types,  chosen_k, thresholds, suptitle=''):\n",
    "    fig, axs = plt.subplots(2, 2, figsize=(12,12))\n",
    "    indices = [(0,0), (0,1),(1,0), (1,1)]\n",
    "    for idx, (i,j) in  enumerate(indices):\n",
    "        plot_roc_curves(data, model_type, trim_types[idx], chosen_k, thresholds, axes=axs[i,j])\n",
    "    plt.suptitle(suptitle)\n",
    "    plt.show()"
   ]
  },
  {
   "cell_type": "markdown",
   "id": "78370944-f295-4cac-8bfe-4648b5548ae4",
   "metadata": {
    "tags": []
   },
   "source": [
    "##### Results on Original Test set and Popular, Unpopular, High Variance Trimmed Test Sets"
   ]
  },
  {
   "cell_type": "code",
   "execution_count": 72,
   "id": "a4c4f93d-af7d-4af8-95f7-8b7684aad87c",
   "metadata": {},
   "outputs": [
    {
     "name": "stdout",
     "output_type": "stream",
     "text": [
      "0 / 3 -- k: 2\n",
      "0 / 3 -- k: 2\n",
      "0 / 3 -- k: 2\n",
      "0 / 3 -- k: 2\n"
     ]
    },
    {
     "data": {
      "image/png": "[encoded data removed]",
      "text/plain": [
       "<Figure size 720x504 with 1 Axes>"
      ]
     },
     "metadata": {
      "needs_background": "light"
     },
     "output_type": "display_data"
    },
    {
     "data": {
      "image/png": "[encoded data removed]",
      "text/plain": [
       "<Figure size 720x504 with 1 Axes>"
      ]
     },
     "metadata": {
      "needs_background": "light"
     },
     "output_type": "display_data"
    }
   ],
   "source": [
    "plot_dets_q6 = {\n",
    "    'x_label': 'Number of neighbors (k)',\n",
    "    'y_label': 'Average Test Error accross 10-fold CV'\n",
    "}\n",
    "k_range_q6 = list(range(2, 7, 2))  # to do change range to 100\n",
    "q6_knn_res_dfs = evaluate_model_on_trimsets(data=ratings_data,\n",
    "                                                   model_type='knn',\n",
    "                                                   k_range=k_range_q6, \n",
    "                                                   plot_dets=plot_dets_q6, \n",
    "                                                   trim_types = [None, 'popular','unpopular','high_variance'],\n",
    "                                                   is_plot=True, \n",
    "                                                   print_update=True) #TODO make it false later"
   ]
  },
  {
   "cell_type": "code",
   "execution_count": 70,
   "id": "bdc78848-351f-4d49-8448-d59792f147f2",
   "metadata": {},
   "outputs": [
    {
     "data": {
      "text/html": [
       "<div>\n",
       "<style scoped>\n",
       "    .dataframe tbody tr th:only-of-type {\n",
       "        vertical-align: middle;\n",
       "    }\n",
       "\n",
       "    .dataframe tbody tr th {\n",
       "        vertical-align: top;\n",
       "    }\n",
       "\n",
       "    .dataframe thead th {\n",
       "        text-align: right;\n",
       "    }\n",
       "</style>\n",
       "<table border=\"1\" class=\"dataframe\">\n",
       "  <thead>\n",
       "    <tr style=\"text-align: right;\">\n",
       "      <th></th>\n",
       "      <th>avg_mae_high_variance</th>\n",
       "      <th>avg_mae_original</th>\n",
       "      <th>avg_mae_popular</th>\n",
       "      <th>avg_mae_unpopular</th>\n",
       "      <th>avg_rmse_high_variance</th>\n",
       "      <th>avg_rmse_original</th>\n",
       "      <th>avg_rmse_popular</th>\n",
       "      <th>avg_rmse_unpopular</th>\n",
       "    </tr>\n",
       "    <tr>\n",
       "      <th>k</th>\n",
       "      <th></th>\n",
       "      <th></th>\n",
       "      <th></th>\n",
       "      <th></th>\n",
       "      <th></th>\n",
       "      <th></th>\n",
       "      <th></th>\n",
       "      <th></th>\n",
       "    </tr>\n",
       "  </thead>\n",
       "  <tbody>\n",
       "    <tr>\n",
       "      <th>2</th>\n",
       "      <td>0.868735</td>\n",
       "      <td>0.784176</td>\n",
       "      <td>0.781019</td>\n",
       "      <td>0.808709</td>\n",
       "      <td>1.095345</td>\n",
       "      <td>1.016071</td>\n",
       "      <td>1.012169</td>\n",
       "      <td>1.048724</td>\n",
       "    </tr>\n",
       "    <tr>\n",
       "      <th>4</th>\n",
       "      <td>0.798695</td>\n",
       "      <td>0.727495</td>\n",
       "      <td>0.722298</td>\n",
       "      <td>0.746608</td>\n",
       "      <td>1.006261</td>\n",
       "      <td>0.947032</td>\n",
       "      <td>0.940057</td>\n",
       "      <td>0.965965</td>\n",
       "    </tr>\n",
       "    <tr>\n",
       "      <th>6</th>\n",
       "      <td>0.772542</td>\n",
       "      <td>0.704407</td>\n",
       "      <td>0.700704</td>\n",
       "      <td>0.723106</td>\n",
       "      <td>0.979831</td>\n",
       "      <td>0.919091</td>\n",
       "      <td>0.914202</td>\n",
       "      <td>0.943851</td>\n",
       "    </tr>\n",
       "  </tbody>\n",
       "</table>\n",
       "</div>"
      ],
      "text/plain": [
       "   avg_mae_high_variance  avg_mae_original  avg_mae_popular  \\\n",
       "k                                                             \n",
       "2               0.868735          0.784176         0.781019   \n",
       "4               0.798695          0.727495         0.722298   \n",
       "6               0.772542          0.704407         0.700704   \n",
       "\n",
       "   avg_mae_unpopular  avg_rmse_high_variance  avg_rmse_original  \\\n",
       "k                                                                 \n",
       "2           0.808709                1.095345           1.016071   \n",
       "4           0.746608                1.006261           0.947032   \n",
       "6           0.723106                0.979831           0.919091   \n",
       "\n",
       "   avg_rmse_popular  avg_rmse_unpopular  \n",
       "k                                        \n",
       "2          1.012169            1.048724  \n",
       "4          0.940057            0.965965  \n",
       "6          0.914202            0.943851  "
      ]
     },
     "metadata": {},
     "output_type": "display_data"
    },
    {
     "data": {
      "text/html": [
       "<div>\n",
       "<style scoped>\n",
       "    .dataframe tbody tr th:only-of-type {\n",
       "        vertical-align: middle;\n",
       "    }\n",
       "\n",
       "    .dataframe tbody tr th {\n",
       "        vertical-align: top;\n",
       "    }\n",
       "\n",
       "    .dataframe thead th {\n",
       "        text-align: right;\n",
       "    }\n",
       "</style>\n",
       "<table border=\"1\" class=\"dataframe\">\n",
       "  <thead>\n",
       "    <tr style=\"text-align: right;\">\n",
       "      <th></th>\n",
       "      <th>avg_mae_high_variance</th>\n",
       "      <th>avg_mae_original</th>\n",
       "      <th>avg_mae_popular</th>\n",
       "      <th>avg_mae_unpopular</th>\n",
       "      <th>avg_rmse_high_variance</th>\n",
       "      <th>avg_rmse_original</th>\n",
       "      <th>avg_rmse_popular</th>\n",
       "      <th>avg_rmse_unpopular</th>\n",
       "    </tr>\n",
       "  </thead>\n",
       "  <tbody>\n",
       "    <tr>\n",
       "      <th>count</th>\n",
       "      <td>3.000000</td>\n",
       "      <td>3.000000</td>\n",
       "      <td>3.000000</td>\n",
       "      <td>3.000000</td>\n",
       "      <td>3.000000</td>\n",
       "      <td>3.000000</td>\n",
       "      <td>3.000000</td>\n",
       "      <td>3.000000</td>\n",
       "    </tr>\n",
       "    <tr>\n",
       "      <th>mean</th>\n",
       "      <td>0.813324</td>\n",
       "      <td>0.738693</td>\n",
       "      <td>0.734674</td>\n",
       "      <td>0.759474</td>\n",
       "      <td>1.027146</td>\n",
       "      <td>0.960731</td>\n",
       "      <td>0.955476</td>\n",
       "      <td>0.986180</td>\n",
       "    </tr>\n",
       "    <tr>\n",
       "      <th>std</th>\n",
       "      <td>0.049737</td>\n",
       "      <td>0.041046</td>\n",
       "      <td>0.041564</td>\n",
       "      <td>0.044228</td>\n",
       "      <td>0.060523</td>\n",
       "      <td>0.049920</td>\n",
       "      <td>0.050771</td>\n",
       "      <td>0.055282</td>\n",
       "    </tr>\n",
       "    <tr>\n",
       "      <th>min</th>\n",
       "      <td>0.772542</td>\n",
       "      <td>0.704407</td>\n",
       "      <td>0.700704</td>\n",
       "      <td>0.723106</td>\n",
       "      <td>0.979831</td>\n",
       "      <td>0.919091</td>\n",
       "      <td>0.914202</td>\n",
       "      <td>0.943851</td>\n",
       "    </tr>\n",
       "    <tr>\n",
       "      <th>25%</th>\n",
       "      <td>0.785618</td>\n",
       "      <td>0.715951</td>\n",
       "      <td>0.711501</td>\n",
       "      <td>0.734857</td>\n",
       "      <td>0.993046</td>\n",
       "      <td>0.933061</td>\n",
       "      <td>0.927129</td>\n",
       "      <td>0.954908</td>\n",
       "    </tr>\n",
       "    <tr>\n",
       "      <th>50%</th>\n",
       "      <td>0.798695</td>\n",
       "      <td>0.727495</td>\n",
       "      <td>0.722298</td>\n",
       "      <td>0.746608</td>\n",
       "      <td>1.006261</td>\n",
       "      <td>0.947032</td>\n",
       "      <td>0.940057</td>\n",
       "      <td>0.965965</td>\n",
       "    </tr>\n",
       "    <tr>\n",
       "      <th>75%</th>\n",
       "      <td>0.833715</td>\n",
       "      <td>0.755835</td>\n",
       "      <td>0.751659</td>\n",
       "      <td>0.777658</td>\n",
       "      <td>1.050803</td>\n",
       "      <td>0.981551</td>\n",
       "      <td>0.976113</td>\n",
       "      <td>1.007345</td>\n",
       "    </tr>\n",
       "    <tr>\n",
       "      <th>max</th>\n",
       "      <td>0.868735</td>\n",
       "      <td>0.784176</td>\n",
       "      <td>0.781019</td>\n",
       "      <td>0.808709</td>\n",
       "      <td>1.095345</td>\n",
       "      <td>1.016071</td>\n",
       "      <td>1.012169</td>\n",
       "      <td>1.048724</td>\n",
       "    </tr>\n",
       "  </tbody>\n",
       "</table>\n",
       "</div>"
      ],
      "text/plain": [
       "       avg_mae_high_variance  avg_mae_original  avg_mae_popular  \\\n",
       "count               3.000000          3.000000         3.000000   \n",
       "mean                0.813324          0.738693         0.734674   \n",
       "std                 0.049737          0.041046         0.041564   \n",
       "min                 0.772542          0.704407         0.700704   \n",
       "25%                 0.785618          0.715951         0.711501   \n",
       "50%                 0.798695          0.727495         0.722298   \n",
       "75%                 0.833715          0.755835         0.751659   \n",
       "max                 0.868735          0.784176         0.781019   \n",
       "\n",
       "       avg_mae_unpopular  avg_rmse_high_variance  avg_rmse_original  \\\n",
       "count           3.000000                3.000000           3.000000   \n",
       "mean            0.759474                1.027146           0.960731   \n",
       "std             0.044228                0.060523           0.049920   \n",
       "min             0.723106                0.979831           0.919091   \n",
       "25%             0.734857                0.993046           0.933061   \n",
       "50%             0.746608                1.006261           0.947032   \n",
       "75%             0.777658                1.050803           0.981551   \n",
       "max             0.808709                1.095345           1.016071   \n",
       "\n",
       "       avg_rmse_popular  avg_rmse_unpopular  \n",
       "count          3.000000            3.000000  \n",
       "mean           0.955476            0.986180  \n",
       "std            0.050771            0.055282  \n",
       "min            0.914202            0.943851  \n",
       "25%            0.927129            0.954908  \n",
       "50%            0.940057            0.965965  \n",
       "75%            0.976113            1.007345  \n",
       "max            1.012169            1.048724  "
      ]
     },
     "metadata": {},
     "output_type": "display_data"
    },
    {
     "name": "stdout",
     "output_type": "stream",
     "text": [
      "Min Avg RMSE and Avg MAE for each test set:\n",
      "avg_mae_high_variance     0.772542\n",
      "avg_mae_original          0.704407\n",
      "avg_mae_popular           0.700704\n",
      "avg_mae_unpopular         0.723106\n",
      "avg_rmse_high_variance    0.979831\n",
      "avg_rmse_original         0.919091\n",
      "avg_rmse_popular          0.914202\n",
      "avg_rmse_unpopular        0.943851\n",
      "dtype: float64\n"
     ]
    }
   ],
   "source": [
    "q6_knn_res_df = pd.concat(q6_knn_res_dfs)\n",
    "q6_knn_res_df_pivot = q6_knn_res_df.pivot_table(columns='k').T\n",
    "display(q6_knn_res_df_pivot.head(10))\n",
    "display(q6_knn_res_df_pivot.describe())\n",
    "print('Min Avg RMSE and Avg MAE for each test set:')\n",
    "print(q6_knn_res_df_pivot.min())"
   ]
  },
  {
   "cell_type": "markdown",
   "id": "7488554d-c362-4cf1-a040-3c63709c7505",
   "metadata": {},
   "source": [
    "#### ROC Curves for each test set"
   ]
  },
  {
   "cell_type": "code",
   "execution_count": 44,
   "id": "3c73493a-a8d6-416e-abd1-ff8671b32abe",
   "metadata": {},
   "outputs": [
    {
     "data": {
      "image/png": "[encoded data removed]",
      "text/plain": [
       "<Figure size 864x864 with 4 Axes>"
      ]
     },
     "metadata": {
      "needs_background": "light"
     },
     "output_type": "display_data"
    }
   ],
   "source": [
    "thresholds = [2.5, 3, 3.5, 4]\n",
    "chosen_k = 20  # to do correct this later\n",
    "\n",
    "multiple_rocs(data=ratings_data,\n",
    "              model_type='knn', \n",
    "              trim_types = [None, 'popular','unpopular','high_variance'],\n",
    "              chosen_k=chosen_k, \n",
    "              thresholds=thresholds,\n",
    "              suptitle='ROC Curves for KNN on different test sets')"
   ]
  },
  {
   "cell_type": "markdown",
   "id": "cf1e0aa7-958d-4266-823b-c890f5d4012c",
   "metadata": {},
   "source": [
    "TODO report AUCS"
   ]
  },
  {
   "cell_type": "code",
   "execution_count": null,
   "id": "664b21a7-8a3f-4464-b7d4-5318407dc8f0",
   "metadata": {},
   "outputs": [],
   "source": [
    "# TODO generalize the above functions for each model type\n",
    "# TODO check if ROC curve correctly created?"
   ]
  },
  {
   "cell_type": "markdown",
   "id": "bf8f5ff6-3f9c-40fc-9e2b-7f783e9414ec",
   "metadata": {},
   "source": [
    "## Model-based Collaborative Filtering"
   ]
  },
  {
   "cell_type": "markdown",
   "id": "44859d0d-1f16-478e-ba56-ddccff16f5bf",
   "metadata": {},
   "source": [
    "### Question 7"
   ]
  },
  {
   "cell_type": "code",
   "execution_count": null,
   "id": "e218cad4-27aa-4e69-b917-b5ec5a8f7fbc",
   "metadata": {},
   "outputs": [],
   "source": []
  },
  {
   "cell_type": "markdown",
   "id": "2f492ec6-ee68-45c0-89d9-60928637474a",
   "metadata": {},
   "source": [
    "### Question 8"
   ]
  },
  {
   "cell_type": "code",
   "execution_count": null,
   "id": "369d5174-7ff5-42ce-ac42-2ce5fc0d48a8",
   "metadata": {},
   "outputs": [],
   "source": []
  },
  {
   "cell_type": "code",
   "execution_count": null,
   "id": "37ae68e4-9bd7-46d4-8a4c-48518a3362b2",
   "metadata": {},
   "outputs": [],
   "source": []
  },
  {
   "cell_type": "markdown",
   "id": "3f008332-248b-486c-83a0-dfbee7847d10",
   "metadata": {},
   "source": [
    "### Question 9"
   ]
  },
  {
   "cell_type": "markdown",
   "id": "0ef2955c-840e-4cc2-9c33-16f5b97cb448",
   "metadata": {},
   "source": [
    "### Question 10"
   ]
  },
  {
   "cell_type": "markdown",
   "id": "308dcfbe-c0bb-4a56-9bf2-f9346614619c",
   "metadata": {},
   "source": [
    "### Question 11"
   ]
  },
  {
   "cell_type": "markdown",
   "id": "a8d302a5-ec88-49ce-8197-86bd11991dd2",
   "metadata": {},
   "source": [
    "### Question 12"
   ]
  },
  {
   "cell_type": "markdown",
   "id": "b73680fc-7ca4-4296-aa98-34a3ee969a46",
   "metadata": {},
   "source": [
    "### Question 13"
   ]
  },
  {
   "cell_type": "markdown",
   "id": "83d013b0-f524-41e8-91de-c4cebae88fac",
   "metadata": {},
   "source": [
    "### Question 14"
   ]
  }
 ],
 "metadata": {
  "kernelspec": {
   "display_name": "ece219_p3",
   "language": "python",
   "name": "ece219_p3"
  },
  "language_info": {
   "codemirror_mode": {
    "name": "ipython",
    "version": 3
   },
   "file_extension": ".py",
   "mimetype": "text/x-python",
   "name": "python",
   "nbconvert_exporter": "python",
   "pygments_lexer": "ipython3",
   "version": "3.7.11"
  }
 },
 "nbformat": 4,
 "nbformat_minor": 5
}
