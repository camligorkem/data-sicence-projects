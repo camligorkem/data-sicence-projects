{
 "cells": [
  {
   "cell_type": "markdown",
   "id": "efe84e36-5ec8-405a-bb76-977f7919b4b0",
   "metadata": {},
   "source": [
    "# Project 4 - Part 2 Twitter Data"
   ]
  },
  {
   "cell_type": "markdown",
   "id": "7c3d3875-c6f6-43e6-b857-639a06692f54",
   "metadata": {},
   "source": [
    "Gorkem Camli (105709280)"
   ]
  },
  {
   "cell_type": "markdown",
   "id": "14c53d07-3caa-4ab5-936f-7de765190a21",
   "metadata": {
    "jp-MarkdownHeadingCollapsed": true,
    "tags": []
   },
   "source": [
    "#### Library imports"
   ]
  },
  {
   "cell_type": "code",
   "execution_count": 1,
   "id": "adb94749-f0fb-4576-ac9f-499cb5858603",
   "metadata": {},
   "outputs": [],
   "source": [
    "import pandas as pd\n",
    "import json\n",
    "import pytz\n",
    "import datetime\n",
    "\n",
    "\n",
    "\n",
    "import re\n",
    "import collections\n",
    "from collections import Counter\n",
    "\n",
    "import matplotlib.pyplot as plt\n",
    "import seaborn as sns\n",
    "\n",
    "import os.path\n",
    "\n",
    "import warnings\n",
    "warnings.filterwarnings('ignore')"
   ]
  },
  {
   "cell_type": "code",
   "execution_count": 99,
   "id": "04dec901-24d4-41af-980b-226acc71696e",
   "metadata": {},
   "outputs": [],
   "source": [
    "from sklearn.model_selection import TimeSeriesSplit\n",
    "from sklearn.ensemble import GradientBoostingClassifier\n",
    "from sklearn.model_selection import cross_validate\n",
    "from sklearn.linear_model import LogisticRegression\n",
    "from sklearn.ensemble import RandomForestClassifier\n",
    "from sklearn.neural_network import MLPClassifier\n",
    "from sklearn.model_selection import train_test_split\n",
    "from sklearn.preprocessing import StandardScaler,OrdinalEncoder, OneHotEncoder\n",
    "from sklearn.pipeline import Pipeline"
   ]
  },
  {
   "cell_type": "code",
   "execution_count": 3,
   "id": "5796f3b3-f7dd-4c44-8c10-c6157d12c83d",
   "metadata": {},
   "outputs": [
    {
     "name": "stderr",
     "output_type": "stream",
     "text": [
      "[nltk_data] Downloading package vader_lexicon to\n",
      "[nltk_data]     /Users/gorkemcamli/nltk_data...\n",
      "[nltk_data]   Package vader_lexicon is already up-to-date!\n"
     ]
    }
   ],
   "source": [
    "import nltk\n",
    "\n",
    "nltk.download('vader_lexicon')\n",
    "\n",
    "from nltk.sentiment import SentimentIntensityAnalyzer\n",
    "from textblob import TextBlob"
   ]
  },
  {
   "cell_type": "markdown",
   "id": "9ed717b1-c74a-47a1-861b-f1a23df4718b",
   "metadata": {
    "jp-MarkdownHeadingCollapsed": true,
    "tags": []
   },
   "source": [
    "#### Read Data"
   ]
  },
  {
   "cell_type": "code",
   "execution_count": 4,
   "id": "50fb4d48-4b22-4da3-94b8-79ba285d7757",
   "metadata": {},
   "outputs": [],
   "source": [
    "repo_name = 'ECE219_tweet_data/'\n",
    "file_names= ['tweets_#gohawks.txt',\n",
    "             'tweets_#gopatriots.txt',\n",
    "             'tweets_#nfl.txt',\n",
    "             'tweets_#patriots.txt',\n",
    "             'tweets_#sb49.txt',\n",
    "             'tweets_#superbowl.txt'\n",
    "]\n",
    "\n",
    "df_names = []\n",
    "for file_name in file_names:\n",
    "    file_name_key = file_name[file_name.find('#')+1: file_name.find('.')]\n",
    "    df_names.append(file_name_key)"
   ]
  },
  {
   "cell_type": "code",
   "execution_count": 5,
   "id": "2b5f6a65-1d60-40c3-a324-15f4c40f0764",
   "metadata": {},
   "outputs": [],
   "source": [
    "def read_txt_file(fname):\n",
    "    \"takes too long for the last sb49 and superbowl txt files\"\n",
    "    with open(fname) as f:\n",
    "        lines = f.read().splitlines()\n",
    "\n",
    "    df_inter = pd.DataFrame(lines)\n",
    "    df_inter.columns = ['json_element']\n",
    "    df_inter['json_element'].apply(json.loads)\n",
    "    df_final = pd.json_normalize(df_inter['json_element'].apply(json.loads))    \n",
    "    return df_final\n",
    "\n",
    "def read_txt_file2(fname):\n",
    "    \"read line by line and get only what you need for Q27 and Q28\"\n",
    "    df_dict = collections.defaultdict(list)\n",
    "    with open(fname, 'r') as f:\n",
    "        for line in f:\n",
    "            tweet = json.loads(line)\n",
    "            df_dict['title'].append(tweet['title'])\n",
    "            df_dict['citation_date'].append(tweet['citation_date'])\n",
    "            df_dict['retweet_count'].append(tweet['metrics']['citations']['total']) \n",
    "            df_dict['followers_count'].append(tweet['author']['followers'])\n",
    "\n",
    "    df_final = pd.DataFrame(df_dict)\n",
    "    return df_final"
   ]
  },
  {
   "cell_type": "code",
   "execution_count": 6,
   "id": "4ffe9ef6-8913-4a54-9a26-19481c034ee8",
   "metadata": {},
   "outputs": [],
   "source": [
    "TIME_ZONE = 'US/Pacific'\n",
    "PST_TZ = pytz.timezone(TIME_ZONE) # PST time zone "
   ]
  },
  {
   "cell_type": "markdown",
   "id": "f8115ffd-3273-4bab-9df4-ce50637e3048",
   "metadata": {
    "jp-MarkdownHeadingCollapsed": true,
    "tags": []
   },
   "source": [
    "## Question 27"
   ]
  },
  {
   "cell_type": "markdown",
   "id": "12642d5c-2b5d-40c8-b6b6-1ed4323b36d6",
   "metadata": {},
   "source": [
    "__Report the following statistics for each hashtag, i.e. each file.__\n",
    "\n",
    "• Average number of tweets per hour\n",
    "\n",
    "• Average number of followers of users posting the tweets per tweet (to make it simple, we average over the number of tweets; if a users posted twice, we count the user and the user’s followers twice as well)\n",
    "\n",
    "• Average number of retweets per tweet\n"
   ]
  },
  {
   "cell_type": "code",
   "execution_count": 7,
   "id": "96998e34-34f1-4a7b-8bcd-d95281026bef",
   "metadata": {},
   "outputs": [
    {
     "name": "stdout",
     "output_type": "stream",
     "text": [
      "gohawks (169122, 4)\n",
      "gopatriots (23511, 4)\n",
      "nfl (233022, 4)\n"
     ]
    },
    {
     "ename": "KeyboardInterrupt",
     "evalue": "",
     "output_type": "error",
     "traceback": [
      "\u001b[0;31m---------------------------------------------------------------------------\u001b[0m",
      "\u001b[0;31mKeyboardInterrupt\u001b[0m                         Traceback (most recent call last)",
      "\u001b[0;32m<ipython-input-7-5f16bbf53009>\u001b[0m in \u001b[0;36m<module>\u001b[0;34m\u001b[0m\n\u001b[1;32m      2\u001b[0m \u001b[0;32mfor\u001b[0m \u001b[0mfile_name\u001b[0m \u001b[0;32min\u001b[0m \u001b[0mfile_names\u001b[0m\u001b[0;34m:\u001b[0m\u001b[0;34m\u001b[0m\u001b[0;34m\u001b[0m\u001b[0m\n\u001b[1;32m      3\u001b[0m     \u001b[0mfile_name_key\u001b[0m \u001b[0;34m=\u001b[0m \u001b[0mfile_name\u001b[0m\u001b[0;34m[\u001b[0m\u001b[0mfile_name\u001b[0m\u001b[0;34m.\u001b[0m\u001b[0mfind\u001b[0m\u001b[0;34m(\u001b[0m\u001b[0;34m'#'\u001b[0m\u001b[0;34m)\u001b[0m\u001b[0;34m+\u001b[0m\u001b[0;36m1\u001b[0m\u001b[0;34m:\u001b[0m \u001b[0mfile_name\u001b[0m\u001b[0;34m.\u001b[0m\u001b[0mfind\u001b[0m\u001b[0;34m(\u001b[0m\u001b[0;34m'.'\u001b[0m\u001b[0;34m)\u001b[0m\u001b[0;34m]\u001b[0m\u001b[0;34m\u001b[0m\u001b[0;34m\u001b[0m\u001b[0m\n\u001b[0;32m----> 4\u001b[0;31m     \u001b[0mtweet_dfs\u001b[0m\u001b[0;34m[\u001b[0m\u001b[0mfile_name_key\u001b[0m\u001b[0;34m]\u001b[0m \u001b[0;34m=\u001b[0m \u001b[0mread_txt_file2\u001b[0m\u001b[0;34m(\u001b[0m\u001b[0mfname\u001b[0m\u001b[0;34m=\u001b[0m\u001b[0mrepo_name\u001b[0m\u001b[0;34m+\u001b[0m\u001b[0mfile_name\u001b[0m\u001b[0;34m)\u001b[0m\u001b[0;34m\u001b[0m\u001b[0;34m\u001b[0m\u001b[0m\n\u001b[0m\u001b[1;32m      5\u001b[0m     \u001b[0mprint\u001b[0m\u001b[0;34m(\u001b[0m\u001b[0mfile_name_key\u001b[0m\u001b[0;34m,\u001b[0m \u001b[0mtweet_dfs\u001b[0m\u001b[0;34m[\u001b[0m\u001b[0mfile_name_key\u001b[0m\u001b[0;34m]\u001b[0m\u001b[0;34m.\u001b[0m\u001b[0mshape\u001b[0m\u001b[0;34m)\u001b[0m\u001b[0;34m\u001b[0m\u001b[0;34m\u001b[0m\u001b[0m\n\u001b[1;32m      6\u001b[0m     \u001b[0;31m#display(tweet_dfs[file_name_key].head(3))\u001b[0m\u001b[0;34m\u001b[0m\u001b[0;34m\u001b[0m\u001b[0;34m\u001b[0m\u001b[0m\n",
      "\u001b[0;32m<ipython-input-5-f646851d3eac>\u001b[0m in \u001b[0;36mread_txt_file2\u001b[0;34m(fname)\u001b[0m\n\u001b[1;32m     15\u001b[0m     \u001b[0;32mwith\u001b[0m \u001b[0mopen\u001b[0m\u001b[0;34m(\u001b[0m\u001b[0mfname\u001b[0m\u001b[0;34m,\u001b[0m \u001b[0;34m'r'\u001b[0m\u001b[0;34m)\u001b[0m \u001b[0;32mas\u001b[0m \u001b[0mf\u001b[0m\u001b[0;34m:\u001b[0m\u001b[0;34m\u001b[0m\u001b[0;34m\u001b[0m\u001b[0m\n\u001b[1;32m     16\u001b[0m         \u001b[0;32mfor\u001b[0m \u001b[0mline\u001b[0m \u001b[0;32min\u001b[0m \u001b[0mf\u001b[0m\u001b[0;34m:\u001b[0m\u001b[0;34m\u001b[0m\u001b[0;34m\u001b[0m\u001b[0m\n\u001b[0;32m---> 17\u001b[0;31m             \u001b[0mtweet\u001b[0m \u001b[0;34m=\u001b[0m \u001b[0mjson\u001b[0m\u001b[0;34m.\u001b[0m\u001b[0mloads\u001b[0m\u001b[0;34m(\u001b[0m\u001b[0mline\u001b[0m\u001b[0;34m)\u001b[0m\u001b[0;34m\u001b[0m\u001b[0;34m\u001b[0m\u001b[0m\n\u001b[0m\u001b[1;32m     18\u001b[0m             \u001b[0mdf_dict\u001b[0m\u001b[0;34m[\u001b[0m\u001b[0;34m'title'\u001b[0m\u001b[0;34m]\u001b[0m\u001b[0;34m.\u001b[0m\u001b[0mappend\u001b[0m\u001b[0;34m(\u001b[0m\u001b[0mtweet\u001b[0m\u001b[0;34m[\u001b[0m\u001b[0;34m'title'\u001b[0m\u001b[0;34m]\u001b[0m\u001b[0;34m)\u001b[0m\u001b[0;34m\u001b[0m\u001b[0;34m\u001b[0m\u001b[0m\n\u001b[1;32m     19\u001b[0m             \u001b[0mdf_dict\u001b[0m\u001b[0;34m[\u001b[0m\u001b[0;34m'citation_date'\u001b[0m\u001b[0;34m]\u001b[0m\u001b[0;34m.\u001b[0m\u001b[0mappend\u001b[0m\u001b[0;34m(\u001b[0m\u001b[0mtweet\u001b[0m\u001b[0;34m[\u001b[0m\u001b[0;34m'citation_date'\u001b[0m\u001b[0;34m]\u001b[0m\u001b[0;34m)\u001b[0m\u001b[0;34m\u001b[0m\u001b[0;34m\u001b[0m\u001b[0m\n",
      "\u001b[0;32m~/opt/anaconda3/envs/ece219_p4/lib/python3.7/json/__init__.py\u001b[0m in \u001b[0;36mloads\u001b[0;34m(s, encoding, cls, object_hook, parse_float, parse_int, parse_constant, object_pairs_hook, **kw)\u001b[0m\n\u001b[1;32m    346\u001b[0m             \u001b[0mparse_int\u001b[0m \u001b[0;32mis\u001b[0m \u001b[0;32mNone\u001b[0m \u001b[0;32mand\u001b[0m \u001b[0mparse_float\u001b[0m \u001b[0;32mis\u001b[0m \u001b[0;32mNone\u001b[0m \u001b[0;32mand\u001b[0m\u001b[0;34m\u001b[0m\u001b[0;34m\u001b[0m\u001b[0m\n\u001b[1;32m    347\u001b[0m             parse_constant is None and object_pairs_hook is None and not kw):\n\u001b[0;32m--> 348\u001b[0;31m         \u001b[0;32mreturn\u001b[0m \u001b[0m_default_decoder\u001b[0m\u001b[0;34m.\u001b[0m\u001b[0mdecode\u001b[0m\u001b[0;34m(\u001b[0m\u001b[0ms\u001b[0m\u001b[0;34m)\u001b[0m\u001b[0;34m\u001b[0m\u001b[0;34m\u001b[0m\u001b[0m\n\u001b[0m\u001b[1;32m    349\u001b[0m     \u001b[0;32mif\u001b[0m \u001b[0mcls\u001b[0m \u001b[0;32mis\u001b[0m \u001b[0;32mNone\u001b[0m\u001b[0;34m:\u001b[0m\u001b[0;34m\u001b[0m\u001b[0;34m\u001b[0m\u001b[0m\n\u001b[1;32m    350\u001b[0m         \u001b[0mcls\u001b[0m \u001b[0;34m=\u001b[0m \u001b[0mJSONDecoder\u001b[0m\u001b[0;34m\u001b[0m\u001b[0;34m\u001b[0m\u001b[0m\n",
      "\u001b[0;32m~/opt/anaconda3/envs/ece219_p4/lib/python3.7/json/decoder.py\u001b[0m in \u001b[0;36mdecode\u001b[0;34m(self, s, _w)\u001b[0m\n\u001b[1;32m    335\u001b[0m \u001b[0;34m\u001b[0m\u001b[0m\n\u001b[1;32m    336\u001b[0m         \"\"\"\n\u001b[0;32m--> 337\u001b[0;31m         \u001b[0mobj\u001b[0m\u001b[0;34m,\u001b[0m \u001b[0mend\u001b[0m \u001b[0;34m=\u001b[0m \u001b[0mself\u001b[0m\u001b[0;34m.\u001b[0m\u001b[0mraw_decode\u001b[0m\u001b[0;34m(\u001b[0m\u001b[0ms\u001b[0m\u001b[0;34m,\u001b[0m \u001b[0midx\u001b[0m\u001b[0;34m=\u001b[0m\u001b[0m_w\u001b[0m\u001b[0;34m(\u001b[0m\u001b[0ms\u001b[0m\u001b[0;34m,\u001b[0m \u001b[0;36m0\u001b[0m\u001b[0;34m)\u001b[0m\u001b[0;34m.\u001b[0m\u001b[0mend\u001b[0m\u001b[0;34m(\u001b[0m\u001b[0;34m)\u001b[0m\u001b[0;34m)\u001b[0m\u001b[0;34m\u001b[0m\u001b[0;34m\u001b[0m\u001b[0m\n\u001b[0m\u001b[1;32m    338\u001b[0m         \u001b[0mend\u001b[0m \u001b[0;34m=\u001b[0m \u001b[0m_w\u001b[0m\u001b[0;34m(\u001b[0m\u001b[0ms\u001b[0m\u001b[0;34m,\u001b[0m \u001b[0mend\u001b[0m\u001b[0;34m)\u001b[0m\u001b[0;34m.\u001b[0m\u001b[0mend\u001b[0m\u001b[0;34m(\u001b[0m\u001b[0;34m)\u001b[0m\u001b[0;34m\u001b[0m\u001b[0;34m\u001b[0m\u001b[0m\n\u001b[1;32m    339\u001b[0m         \u001b[0;32mif\u001b[0m \u001b[0mend\u001b[0m \u001b[0;34m!=\u001b[0m \u001b[0mlen\u001b[0m\u001b[0;34m(\u001b[0m\u001b[0ms\u001b[0m\u001b[0;34m)\u001b[0m\u001b[0;34m:\u001b[0m\u001b[0;34m\u001b[0m\u001b[0;34m\u001b[0m\u001b[0m\n",
      "\u001b[0;32m~/opt/anaconda3/envs/ece219_p4/lib/python3.7/json/decoder.py\u001b[0m in \u001b[0;36mraw_decode\u001b[0;34m(self, s, idx)\u001b[0m\n\u001b[1;32m    351\u001b[0m         \"\"\"\n\u001b[1;32m    352\u001b[0m         \u001b[0;32mtry\u001b[0m\u001b[0;34m:\u001b[0m\u001b[0;34m\u001b[0m\u001b[0;34m\u001b[0m\u001b[0m\n\u001b[0;32m--> 353\u001b[0;31m             \u001b[0mobj\u001b[0m\u001b[0;34m,\u001b[0m \u001b[0mend\u001b[0m \u001b[0;34m=\u001b[0m \u001b[0mself\u001b[0m\u001b[0;34m.\u001b[0m\u001b[0mscan_once\u001b[0m\u001b[0;34m(\u001b[0m\u001b[0ms\u001b[0m\u001b[0;34m,\u001b[0m \u001b[0midx\u001b[0m\u001b[0;34m)\u001b[0m\u001b[0;34m\u001b[0m\u001b[0;34m\u001b[0m\u001b[0m\n\u001b[0m\u001b[1;32m    354\u001b[0m         \u001b[0;32mexcept\u001b[0m \u001b[0mStopIteration\u001b[0m \u001b[0;32mas\u001b[0m \u001b[0merr\u001b[0m\u001b[0;34m:\u001b[0m\u001b[0;34m\u001b[0m\u001b[0;34m\u001b[0m\u001b[0m\n\u001b[1;32m    355\u001b[0m             \u001b[0;32mraise\u001b[0m \u001b[0mJSONDecodeError\u001b[0m\u001b[0;34m(\u001b[0m\u001b[0;34m\"Expecting value\"\u001b[0m\u001b[0;34m,\u001b[0m \u001b[0ms\u001b[0m\u001b[0;34m,\u001b[0m \u001b[0merr\u001b[0m\u001b[0;34m.\u001b[0m\u001b[0mvalue\u001b[0m\u001b[0;34m)\u001b[0m \u001b[0;32mfrom\u001b[0m \u001b[0;32mNone\u001b[0m\u001b[0;34m\u001b[0m\u001b[0;34m\u001b[0m\u001b[0m\n",
      "\u001b[0;31mKeyboardInterrupt\u001b[0m: "
     ]
    }
   ],
   "source": [
    "tweet_dfs = {}\n",
    "for file_name in file_names:\n",
    "    file_name_key = file_name[file_name.find('#')+1: file_name.find('.')]\n",
    "    tweet_dfs[file_name_key] = read_txt_file2(fname=repo_name+file_name)\n",
    "    print(file_name_key, tweet_dfs[file_name_key].shape)\n",
    "    #display(tweet_dfs[file_name_key].head(3))"
   ]
  },
  {
   "cell_type": "code",
   "execution_count": null,
   "id": "7f9a3505-a613-4333-a958-f331dc95fecf",
   "metadata": {},
   "outputs": [],
   "source": [
    "for df_name in df_names:\n",
    "    cur_df = tweet_dfs[df_name]\n",
    "    new_cols = ['citation_date_year', 'citation_date_month','citation_date_day','citation_date_hour']\n",
    "    cur_df['citation_date_fixed'] = cur_df.citation_date.apply(lambda x:  datetime.datetime.fromtimestamp(x, PST_TZ)) \n",
    "    cur_df[new_cols] = cur_df.apply(lambda x: [x['citation_date_fixed'].year, x['citation_date_fixed'].month,\n",
    "                                               x['citation_date_fixed'].day, x['citation_date_fixed'].hour], axis=1, result_type='expand')\n",
    "    cur_df['citation_date_rounded_hour']= cur_df.citation_date_fixed.apply(lambda x: x.replace(second=0, microsecond=0, minute=0))\n",
    "  "
   ]
  },
  {
   "cell_type": "code",
   "execution_count": null,
   "id": "3a1a6493-7894-4fff-9951-49446ad0dad6",
   "metadata": {},
   "outputs": [],
   "source": [
    "def avg_tweet_per_hour(df):\n",
    "    cols_group = ['citation_date_year', 'citation_date_month','citation_date_day','citation_date_hour']\n",
    "    return df.groupby(by=cols_group).title.count().mean()\n",
    "\n",
    "def avg_num_followers(df):\n",
    "    '''\n",
    "    Average number of followers of users posting the tweets per tweet \n",
    "    (to make it simple, we average over the number of tweets; \n",
    "    if a users posted twice, we count the user and the user’s followers twice as well)\n",
    "    '''\n",
    "    avg_followers = df['followers_count'].mean()\n",
    "    return avg_followers\n",
    "\n",
    "def avg_retweet_per_tweet(df):\n",
    "    return df['retweet_count'].mean()"
   ]
  },
  {
   "cell_type": "code",
   "execution_count": null,
   "id": "6b339a74-5965-41d1-a2a9-3f978ba4d102",
   "metadata": {},
   "outputs": [],
   "source": [
    "for df_name in df_names:\n",
    "    cur_df = tweet_dfs[df_name]\n",
    "    \n",
    "    print(f'\\n\\n--- Stats for #{df_name} ---')\n",
    "    avg_twt = avg_tweet_per_hour(cur_df)\n",
    "    print('Average # tweet per hour', round(avg_twt,3))\n",
    "    \n",
    "    avg_flws = avg_num_followers(cur_df)\n",
    "    print('Average # followers', round(avg_flws,3))\n",
    "    \n",
    "    avg_retweet_per_twt = avg_retweet_per_tweet(cur_df)\n",
    "    print('Average # retweet per tweet', round(avg_retweet_per_twt,3))"
   ]
  },
  {
   "cell_type": "markdown",
   "id": "c2732ac6-0c8f-45e9-91fc-e2fcc96882bf",
   "metadata": {
    "jp-MarkdownHeadingCollapsed": true,
    "tags": []
   },
   "source": [
    "## Question 28"
   ]
  },
  {
   "cell_type": "markdown",
   "id": "11aff1b9-a222-43b0-a835-fb8a6e40f267",
   "metadata": {},
   "source": [
    "__Plot “number of tweets in hour” over time for #SuperBowl and #NFL (a bar plot with 1-hour bins). The tweets are stored in separate files for different hashtags and files are named as tweet [#hashtag].txt.__"
   ]
  },
  {
   "cell_type": "code",
   "execution_count": null,
   "id": "1db058a9-726f-4ae7-b750-d0db1ebd675a",
   "metadata": {},
   "outputs": [],
   "source": [
    "def plot_num_tweet_per_hour(df, df_name, x_ticks_freq=10):\n",
    "    cols = ['citation_date_rounded_hour']\n",
    "    gp_df = pd.DataFrame(df.groupby(by=cols).title.count())\n",
    "    gp_df.sort_index(inplace=True)\n",
    "    #gp_df.reset_index(inplace=True)\n",
    "    gp_df.rename(columns={'title':'tweet_count_per_hour'}, inplace=True)\n",
    "    \n",
    "    ax = gp_df.plot(kind='bar',figsize=(30,7), rot=90)\n",
    "    plt.title(f'{df_name} Bar Plot for Number of Tweets in hour over time')\n",
    "    ax.set_ylabel('Tweet Count Per Hour')\n",
    "    ax.set_xlabel('Citation Date')\n",
    "    ticks = ax.xaxis.get_ticklocs()\n",
    "    ticklabels = [l.get_text()[:-9] for l in ax.xaxis.get_ticklabels()]\n",
    "    ax.xaxis.set_ticks(ticks[::x_ticks_freq])\n",
    "    ax.xaxis.set_ticklabels(ticklabels[::x_ticks_freq])\n",
    "    plt.show()\n",
    "    \n",
    "    \n"
   ]
  },
  {
   "cell_type": "code",
   "execution_count": null,
   "id": "c3ab6a6e-8b1c-4d37-bb7e-de7a9a9b7061",
   "metadata": {},
   "outputs": [],
   "source": [
    "for df_name in ['superbowl','nfl']:\n",
    "    cur_df = tweet_dfs[df_name]\n",
    "    plot_num_tweet_per_hour(cur_df, df_name, x_ticks_freq=20)"
   ]
  },
  {
   "cell_type": "code",
   "execution_count": null,
   "id": "1f1e67a7-9f2a-4e04-850c-3df3de89661a",
   "metadata": {},
   "outputs": [],
   "source": []
  },
  {
   "cell_type": "markdown",
   "id": "60d1b0d8-04e4-495c-a9e4-35c6f9430510",
   "metadata": {
    "tags": []
   },
   "source": [
    "## Question 29"
   ]
  },
  {
   "cell_type": "markdown",
   "id": "c65af4e0-95e6-4e04-bb6f-864c2c743464",
   "metadata": {
    "jp-MarkdownHeadingCollapsed": true,
    "tags": []
   },
   "source": [
    "### Task Explanation"
   ]
  },
  {
   "cell_type": "markdown",
   "id": "392c252c-3c13-496c-a737-da638f1855b9",
   "metadata": {},
   "source": [
    "Follow the steps outlined below: \n",
    "\n",
    "- Describe your task.\n",
    "- Explore the data and any metadata (you can even incorporate additional datasets if you choose).\n",
    "- Describe the feature engineering process. Implement it with reason: Why are you extracting features this way - why not in any other way?\n",
    "- Generate baselines for your final ML model.\n",
    "- A thorough evaluation is necessary.\n",
    "- Be creative in your task design - use things you have learned in other classes too if you are excited about them!"
   ]
  },
  {
   "cell_type": "markdown",
   "id": "16fecf8f-71d0-42ea-8dbd-1df67d298eaf",
   "metadata": {},
   "source": [
    "__Intro:__\n",
    "\n",
    "In this design question I explored the twitter dataset from several different point of views: sentiment analysis, fan prediction and impression prediction.\n",
    "\n",
    "The main objective is to understand which different ways we can consume the Twitter data.\n",
    "\n",
    "__Task Description:__\n",
    "\n",
    "\n",
    "__Subtasks:__\n",
    "\n",
    "- Task 1: Character-centric time-series tracking: average perceived emotion across tweets about each player in the game across time in each fan base? Can we correlate these emotions with the team winning game?\n",
    "\n",
    "- Task 2: With user and tweet meta data, can we predict the hashtag used?\n",
    "\n",
    "- Task 3: TBD predict impressions\n",
    "\n",
    "__Data Used:__\n",
    "\n",
    "- '#gopatriots.csv' and '#gohawks.csv' files.\n",
    "-  Additional data: \n",
    "    - Players information: I collected team player names, positions, position category information for Patriots and Seahawks team members who played at Superbowl 49.  \n",
    "    - Game information: I used the score plays information to extract relative score times from tweets and label which team is the leading the game (patriots, sehawks, tie) when a tweet posted.\n",
    "\n",
    "\n",
    "__Feature Engineering__\n",
    "\n",
    "- emotion data\n",
    "- label\n",
    "- player data\n",
    "\n",
    "__Prediction Models__\n",
    "- Baselines\n",
    "- Models\n"
   ]
  },
  {
   "cell_type": "markdown",
   "id": "1401933f-f9ed-4570-9e59-f708d3f9d32b",
   "metadata": {
    "jp-MarkdownHeadingCollapsed": true,
    "tags": []
   },
   "source": [
    "### __Data Preparation__"
   ]
  },
  {
   "cell_type": "markdown",
   "id": "d8b851e5-775c-4fc4-b632-74473c395a19",
   "metadata": {
    "jp-MarkdownHeadingCollapsed": true,
    "tags": []
   },
   "source": [
    "##### __Set GAME_START and GAME_END times__"
   ]
  },
  {
   "cell_type": "code",
   "execution_count": 182,
   "id": "c5ea8343-d63a-4864-8fc6-a31d99cf2696",
   "metadata": {},
   "outputs": [
    {
     "name": "stdout",
     "output_type": "stream",
     "text": [
      "GAME_START 2015-02-01 15:30:00-08:00\n",
      "GAME_END 2015-02-01 19:06:00-08:00\n"
     ]
    }
   ],
   "source": [
    "# set naive datetime correctly\n",
    "# (Add timezone to a naive datetime) from : https://medium.com/@eleroy/10-things-you-need-to-know-about-date-and-time-in-python-with-datetime-pytz-dateutil-timedelta-309bfbafb3f7\n",
    "\n",
    "GAME_START = datetime.datetime(2015, 2, 1, 15, 30, 0, 0)\n",
    "GAME_START = PST_TZ.localize(GAME_START)\n",
    "\n",
    "GAME_END = datetime.datetime(2015, 2, 1, 19, 6, 0, 0)\n",
    "GAME_END = PST_TZ.localize(GAME_END)\n",
    "print('GAME_START',GAME_START)\n",
    "print('GAME_END',GAME_END)"
   ]
  },
  {
   "cell_type": "markdown",
   "id": "468344fc-dde5-4a63-8743-ef1f1cb711e8",
   "metadata": {
    "jp-MarkdownHeadingCollapsed": true,
    "tags": []
   },
   "source": [
    "##### Helper functions\n",
    "\n",
    "(to prepare data  extract features, feature engineering and prepare the dataset to be used in the tasks)"
   ]
  },
  {
   "cell_type": "code",
   "execution_count": 9,
   "id": "c3bcc2bd-e71a-42f5-8cfb-e348c74fdce3",
   "metadata": {},
   "outputs": [],
   "source": [
    "def read_q29_raw_data():\n",
    "    tweet_dfs2 = {}\n",
    "    for file_name in ['tweets_#gohawks.txt','tweets_#gopatriots.txt']:\n",
    "        file_name_key = file_name[file_name.find('#')+1: file_name.find('.')]\n",
    "        tweet_dfs2[file_name_key] = read_txt_file(fname=repo_name+file_name)\n",
    "        print(file_name_key, tweet_dfs2[file_name_key].shape)\n",
    "        #display(tweet_dfs[file_name_key].head(3))\n",
    "\n",
    "    tweet_dfs2['gohawks']['hashtag'] = '#gohawks'\n",
    "    tweet_dfs2['gopatriots']['hashtag'] = '#gopatriots'\n",
    "    return tweet_dfs2"
   ]
  },
  {
   "cell_type": "code",
   "execution_count": 10,
   "id": "ef1d6d5a-4781-4b12-810b-17a524cbcaa8",
   "metadata": {},
   "outputs": [],
   "source": [
    "def clean_mentions_links(text):\n",
    "    # clean mentions and links\n",
    "    # mention count, link count, hashtag count\n",
    "    \n",
    "    mention_count = 0\n",
    "    hashtag_count = 0\n",
    "    new_text = []\n",
    "    text_lower = text.lower()\n",
    "    for t in text_lower.split(\" \"):\n",
    "        if t.startswith('@') and len(t) > 1:\n",
    "            mention_count+=1\n",
    "        if t.startswith('#') and len(t) > 1:\n",
    "            hashtag_count+=1\n",
    "            \n",
    "        t = '' if t.startswith('@') and len(t) > 1 else t #'@user'\n",
    "        t = '' if t.startswith('http') else t  #'http' \n",
    "        new_text.append(t)\n",
    "    return [\" \".join(new_text), mention_count, hashtag_count]\n",
    "\n",
    "def clean_hashtag(text):\n",
    "    # clean hashtag\n",
    "    new_text = []\n",
    "    text_lower = text.lower()\n",
    "    for t in text_lower.split(\" \"):\n",
    "        t = '' if t.startswith('#') and len(t) > 1 else t #'@user'\n",
    "        new_text.append(t)\n",
    "    return \" \".join(new_text)\n",
    "\n",
    "\n",
    "def find_players_listed_in_tweet(tweet):\n",
    "    players = []\n",
    "    tweet_lower = tweet.lower()\n",
    "    for player in list(players_df.Player.unique()):\n",
    "        player_lower = player.lower()\n",
    "        player_first, player_last = player_lower.split(' ')[0], player_lower.split(' ')[-1]\n",
    "        \n",
    "        if player_lower in tweet_lower or player_first in tweet_lower or player_last in tweet_lower:\n",
    "            players.append(player)\n",
    "    return None if not players else players\n",
    "\n",
    "def game_interval(twt_time):\n",
    "    if twt_time < GAME_START :\n",
    "        return 'pre_game'\n",
    "    elif GAME_START < twt_time < GAME_END:\n",
    "        return 'during_game'\n",
    "    else:\n",
    "        return 'after_game'\n"
   ]
  },
  {
   "cell_type": "code",
   "execution_count": 73,
   "id": "566ad062-93ea-412b-9fbb-c4bc025bcd3a",
   "metadata": {},
   "outputs": [],
   "source": [
    "def assign_nltk_sentiment_label(compound):\n",
    "    # reference: https://github.com/cjhutto/vaderSentiment#about-the-scoring\n",
    "    label=None\n",
    "    if compound >= 0.05:\n",
    "        label='positive'\n",
    "    elif (compound > -0.05) & (compound <0.05):\n",
    "        label='neutral'\n",
    "    else:\n",
    "        label='negative'\n",
    "    return label\n",
    "\n",
    "def nltk_sentiment(data, tweet_feature_name='title'):\n",
    "    post_fix = '_'+tweet_feature_name\n",
    "    prefix ='sent_nltk_vader_'\n",
    "    col_names = [prefix+'neg'+post_fix, prefix+'neu'+post_fix,prefix+'pos'+post_fix,prefix+'compound'+post_fix]\n",
    "    \n",
    "    if col_names[-1] in data.columns:\n",
    "        return data\n",
    "    else:\n",
    "        sia = SentimentIntensityAnalyzer()\n",
    "        data[col_names] = data[tweet_feature_name].apply(lambda x: pd.Series(sia.polarity_scores(x)))\n",
    "        data['sent_nltk_vader_label'+post_fix] =  data['sent_nltk_vader_compound'+post_fix].apply(lambda x: assign_nltk_sentiment_label(x))\n",
    "        return data\n",
    "\n",
    "def textblob_sentiment(data, tweet_feature_name='title'):\n",
    "    post_fix = '_'+tweet_feature_name\n",
    "    prefix ='sent_textblob_'\n",
    "    col_names = [prefix+'polarity'+post_fix, prefix+'subjectivity'+post_fix]\n",
    "\n",
    "    if col_names[0] in data.columns:\n",
    "        return data\n",
    "    else:\n",
    "        data[col_names] = data[tweet_feature_name].apply(lambda x: pd.Series(TextBlob(x).sentiment))\n",
    "        data[prefix+'label'+post_fix] =  data[prefix+'polarity'+post_fix].apply(lambda x: assign_nltk_sentiment_label(x))\n",
    "        return data\n"
   ]
  },
  {
   "cell_type": "code",
   "execution_count": 53,
   "id": "22a3d563-0057-4885-9c66-89f5dfbc05f2",
   "metadata": {},
   "outputs": [],
   "source": [
    "def date_time_fix(data):\n",
    "    # prep posting time\n",
    "    print('Starting posting time datetime features...')\n",
    "    new_cols = ['citation_date_year', 'citation_date_month','citation_date_day','citation_date_hour']\n",
    "    data['citation_date_fixed'] = data.citation_date.apply(lambda x:  datetime.datetime.fromtimestamp(int(x), PST_TZ)) \n",
    "    data[new_cols] = data.apply(lambda x: [x['citation_date_fixed'].year, x['citation_date_fixed'].month,\n",
    "                                               x['citation_date_fixed'].day, x['citation_date_fixed'].hour], axis=1, result_type='expand')\n",
    "    data['citation_date_rounded_hour']= data.citation_date_fixed.apply(lambda x: x.replace(second=0, microsecond=0, minute=0))\n",
    " \n",
    "    return data\n",
    "\n",
    "def prep_tweet_emotion_data(tweet_dfs2):\n",
    "    fname = 'data/tweet_emt_df.csv'\n",
    "    #print('Creating tweet_dfs2...')\n",
    "    #tweet_dfs2 = read_q29_raw_data()\n",
    "    if os.path.isfile(fname):\n",
    "        tweet_emt_df = pd.read_csv(fname, index_col=0, lineterminator='\\n')\n",
    "        tweet_emt_df = date_time_fix(data=tweet_emt_df)\n",
    "        return tweet_emt_df\n",
    "    else:  \n",
    "        # create tweet_emt_df\n",
    "        print('Starting tweet_emt_df...')\n",
    "        cols = ['title', 'tweet.text', 'citation_date','hashtag', 'tweet.lang', 'tweet.user.name', 'original_author.name',\n",
    "                'tweet.entities.hashtags','tweet.entities.user_mentions','tweet.retweet_count','tweet.favorite_count',\n",
    "                'tweet.user.followers_count','tweet.user.friends_count','tweet.user.favourites_count','author.followers',\n",
    "                'original_author.followers','original_author.influence_level', 'metrics.ranking_score', 'metrics.citations.influential',\n",
    "                'metrics.citations.total','metrics.citations.matching','metrics.citations.replies','metrics.impressions','author.influence_level'\n",
    "            ]\n",
    "        # english tweets only\n",
    "        tweet_dfs2['gohawks'] =  tweet_dfs2['gohawks'][tweet_dfs2['gohawks']['tweet.lang']=='en'] # english tweets only\n",
    "        tweet_dfs2['gopatriots'] =  tweet_dfs2['gopatriots'][tweet_dfs2['gopatriots']['tweet.lang']=='en'] # english tweets only\n",
    "        \n",
    "        tweet_emt_df = pd.concat([tweet_dfs2['gohawks'][cols], tweet_dfs2['gopatriots'][cols]])\n",
    "        tweet_emt_df = tweet_emt_df.sort_values(by='citation_date')\n",
    "        #tweet_emt_df = tweet_emt_df[tweet_emt_df['tweet.lang']=='en'] # english tweets only\n",
    "\n",
    "        # prep posting time\n",
    "        tweet_emt_df = date_time_fix(data=tweet_emt_df)\n",
    "        \n",
    "        # clean mentions and links\n",
    "        #print('Starting cleaning title...')\n",
    "        #tweet_emt_df[['cleaned_title', 'mention_count', 'hashtag_count']] = tweet_emt_df.apply(lambda x: clean_mentions_links(x['title']), axis=1, result_type='expand')\n",
    "\n",
    "        # find players for each tweet \n",
    "        print('Starting find players...')\n",
    "        tweet_emt_df['player'] = tweet_emt_df['tweet.text'].apply(lambda x: find_players_listed_in_tweet(tweet=x))\n",
    "        tweet_emt_df['player_count'] = tweet_emt_df['player'].apply(lambda x: 0 if not x else len(x))\n",
    "        tweet_emt_df['players_str'] = tweet_emt_df['player'].apply(lambda x: ', '.join(x) if x else '')\n",
    "        tweet_emt_df['player2'] = tweet_emt_df['players_str'].astype(str).apply(lambda x:  'general' if x=='nan' or x=='' else x.split(',')[0])\n",
    "        tweet_emt_df['player2'] = tweet_emt_df.apply(lambda x:  x['hashtag'] if x['player2']=='general' else x['player2'], axis=1)\n",
    "\n",
    "        \n",
    "        # create game status\n",
    "        print('Starting game status...')\n",
    "        tweet_emt_df['game_status'] = tweet_emt_df['citation_date_fixed'].apply(lambda x: game_interval(twt_time=x))\n",
    "        \n",
    "        # nltk vader sentiment to title\n",
    "        print('Starting nltk vader sentiment...')\n",
    "        tweet_emt_df = nltk_sentiment(data=tweet_emt_df, tweet_feature_name='title')\n",
    "        \n",
    "        # textblob sentiment to title\n",
    "        print('Starting textblob sentiment...')\n",
    "        tweet_emt_df = textblob_sentiment(data=tweet_emt_df, tweet_feature_name='title')\n",
    "                \n",
    "        # write to not keep repeating same process\n",
    "        tweet_emt_df.to_csv(fname)\n",
    "        print(f'Saved file to {fname}...')\n",
    "        tweet_emt_df.head(5)\n",
    "        \n",
    "        return tweet_emt_df\n",
    "    "
   ]
  },
  {
   "cell_type": "code",
   "execution_count": 186,
   "id": "74fba041-ba4a-4361-9c76-81af8a9664de",
   "metadata": {},
   "outputs": [],
   "source": [
    "def create_players_data():\n",
    "    fname = 'data/players_df.csv'\n",
    "    if os.path.isfile(fname):\n",
    "        players_df = pd.read_csv(fname, index_col=0, lineterminator='\\n')\n",
    "        return players_df\n",
    "    else:\n",
    "        players_df = pd.read_csv('data/sb 49 - players.csv')\n",
    "        display(players_df.head(10).T)\n",
    "\n",
    "        positions_df = pd.read_csv('data/sb 49 - positions.csv')\n",
    "        display(positions_df.head(10).T)\n",
    "\n",
    "        res = players_df.merge(positions_df, left_on='Pos', right_on='Abbreviation' , how='left')\n",
    "        display(res.sample(10).T)\n",
    "\n",
    "        res['player_first_name'] = res.Player.apply(lambda x: x.split(' ')[0])\n",
    "        res['player_last_name']= res.Player.apply(lambda x: x.split(' ')[-1])\n",
    "\n",
    "        res.to_csv(fname)\n",
    "        return res\n"
   ]
  },
  {
   "cell_type": "markdown",
   "id": "b197808d-c85a-4e83-b013-667453d3d42b",
   "metadata": {
    "jp-MarkdownHeadingCollapsed": true,
    "tags": []
   },
   "source": [
    "#### __Prepare Twitter Data and Additional data__"
   ]
  },
  {
   "cell_type": "markdown",
   "id": "197b217c-ba7a-4b38-8a9c-dd92604f9a14",
   "metadata": {},
   "source": [
    "To be able to create the tasks mentioned above, I need to first prepare the data, but some of the informations I need is not available within the Twitter dataset provided.\n",
    "\n",
    "- Find Extra data:\n",
    "    - Finding players data for each team\n",
    "    - Finding game related scores, and significant events\n"
   ]
  },
  {
   "cell_type": "markdown",
   "id": "96a9cf04-8f84-4b30-98da-ee382cd11034",
   "metadata": {
    "jp-MarkdownHeadingCollapsed": true,
    "tags": []
   },
   "source": [
    "##### __Players Data__"
   ]
  },
  {
   "cell_type": "markdown",
   "id": "9d9e32d2-c2ec-4558-a726-49e99b67908b",
   "metadata": {},
   "source": [
    "I used players and american football positions data found from below resources. I also crosschecked the team players info from espn website and added the missing players. Also, I realized that some players such as Dan Connolly didn't play in 2015 superbowl 49 (according to ESPN), so I created a new column espn_team_list to keep track of the players who played/not played in SB49.\n",
    "\n",
    "References:\n",
    "- players data: https://www.pro-football-reference.com/boxscores/201502010sea.htm#all_team_stats\n",
    "- positions data: https://www.rookieroad.com/football/positions/position-abbreviations/\n",
    "\n",
    "The final combined players table preview:"
   ]
  },
  {
   "cell_type": "code",
   "execution_count": 189,
   "id": "29b2ec78-d8a4-4881-894e-20ce8ce083d8",
   "metadata": {},
   "outputs": [
    {
     "name": "stdout",
     "output_type": "stream",
     "text": [
      "(48, 9)\n"
     ]
    },
    {
     "data": {
      "text/html": [
       "<div>\n",
       "<style scoped>\n",
       "    .dataframe tbody tr th:only-of-type {\n",
       "        vertical-align: middle;\n",
       "    }\n",
       "\n",
       "    .dataframe tbody tr th {\n",
       "        vertical-align: top;\n",
       "    }\n",
       "\n",
       "    .dataframe thead th {\n",
       "        text-align: right;\n",
       "    }\n",
       "</style>\n",
       "<table border=\"1\" class=\"dataframe\">\n",
       "  <thead>\n",
       "    <tr style=\"text-align: right;\">\n",
       "      <th></th>\n",
       "      <th>Player</th>\n",
       "      <th>Pos</th>\n",
       "      <th>Team</th>\n",
       "      <th>espn_team_list</th>\n",
       "      <th>Abbreviation</th>\n",
       "      <th>Position</th>\n",
       "      <th>Category</th>\n",
       "      <th>player_first_name</th>\n",
       "      <th>player_last_name</th>\n",
       "    </tr>\n",
       "  </thead>\n",
       "  <tbody>\n",
       "    <tr>\n",
       "      <th>0</th>\n",
       "      <td>Tom Brady</td>\n",
       "      <td>QB</td>\n",
       "      <td>Patriots</td>\n",
       "      <td>True</td>\n",
       "      <td>QB</td>\n",
       "      <td>Quarterback</td>\n",
       "      <td>Offense</td>\n",
       "      <td>Tom</td>\n",
       "      <td>Brady</td>\n",
       "    </tr>\n",
       "    <tr>\n",
       "      <th>1</th>\n",
       "      <td>Shane Vereen</td>\n",
       "      <td>RB</td>\n",
       "      <td>Patriots</td>\n",
       "      <td>True</td>\n",
       "      <td>RB</td>\n",
       "      <td>Running Back</td>\n",
       "      <td>Offense</td>\n",
       "      <td>Shane</td>\n",
       "      <td>Vereen</td>\n",
       "    </tr>\n",
       "    <tr>\n",
       "      <th>2</th>\n",
       "      <td>Brandon LaFell</td>\n",
       "      <td>WR</td>\n",
       "      <td>Patriots</td>\n",
       "      <td>True</td>\n",
       "      <td>WR</td>\n",
       "      <td>Wide Receiver</td>\n",
       "      <td>Offense</td>\n",
       "      <td>Brandon</td>\n",
       "      <td>LaFell</td>\n",
       "    </tr>\n",
       "    <tr>\n",
       "      <th>3</th>\n",
       "      <td>Julian Edelman</td>\n",
       "      <td>WR</td>\n",
       "      <td>Patriots</td>\n",
       "      <td>True</td>\n",
       "      <td>WR</td>\n",
       "      <td>Wide Receiver</td>\n",
       "      <td>Offense</td>\n",
       "      <td>Julian</td>\n",
       "      <td>Edelman</td>\n",
       "    </tr>\n",
       "    <tr>\n",
       "      <th>4</th>\n",
       "      <td>Rob Gronkowski</td>\n",
       "      <td>TE</td>\n",
       "      <td>Patriots</td>\n",
       "      <td>True</td>\n",
       "      <td>TE</td>\n",
       "      <td>Tight End</td>\n",
       "      <td>Offense</td>\n",
       "      <td>Rob</td>\n",
       "      <td>Gronkowski</td>\n",
       "    </tr>\n",
       "  </tbody>\n",
       "</table>\n",
       "</div>"
      ],
      "text/plain": [
       "           Player Pos      Team  espn_team_list Abbreviation       Position  \\\n",
       "0       Tom Brady  QB  Patriots            True           QB    Quarterback   \n",
       "1    Shane Vereen  RB  Patriots            True           RB   Running Back   \n",
       "2  Brandon LaFell  WR  Patriots            True           WR  Wide Receiver   \n",
       "3  Julian Edelman  WR  Patriots            True           WR  Wide Receiver   \n",
       "4  Rob Gronkowski  TE  Patriots            True           TE      Tight End   \n",
       "\n",
       "  Category player_first_name player_last_name  \n",
       "0  Offense               Tom            Brady  \n",
       "1  Offense             Shane           Vereen  \n",
       "2  Offense           Brandon           LaFell  \n",
       "3  Offense            Julian          Edelman  \n",
       "4  Offense               Rob       Gronkowski  "
      ]
     },
     "metadata": {},
     "output_type": "display_data"
    }
   ],
   "source": [
    "players_df = create_players_data()\n",
    "print(players_df.shape)\n",
    "display(players_df.head(5))"
   ]
  },
  {
   "cell_type": "markdown",
   "id": "dc27e0dc-1877-4b02-abe0-cdda75f4f960",
   "metadata": {
    "jp-MarkdownHeadingCollapsed": true,
    "tags": []
   },
   "source": [
    "##### __Raw Tweet Data__\n",
    "\n",
    "Read gohawks and go patriots data."
   ]
  },
  {
   "cell_type": "code",
   "execution_count": 15,
   "id": "4d50bf17-65f0-4a63-a666-764d17f29c6b",
   "metadata": {},
   "outputs": [
    {
     "name": "stdout",
     "output_type": "stream",
     "text": [
      "Creating tweet_dfs2...\n",
      "gohawks (169122, 117)\n",
      "gopatriots (23511, 117)\n"
     ]
    }
   ],
   "source": [
    "print('Creating tweet_dfs2...')\n",
    "tweet_dfs2 = read_q29_raw_data()"
   ]
  },
  {
   "cell_type": "markdown",
   "id": "0ab00644-e711-4cce-9fd7-2fe88d3f5f16",
   "metadata": {},
   "source": [
    "Language distribution of the tweets for each language:\n",
    "(und:undecided)"
   ]
  },
  {
   "cell_type": "code",
   "execution_count": 196,
   "id": "d749d444-466f-42c4-8744-b4d950da25df",
   "metadata": {},
   "outputs": [
    {
     "name": "stdout",
     "output_type": "stream",
     "text": [
      "gohawks\n",
      "\n"
     ]
    },
    {
     "data": {
      "text/html": [
       "<div>\n",
       "<style scoped>\n",
       "    .dataframe tbody tr th:only-of-type {\n",
       "        vertical-align: middle;\n",
       "    }\n",
       "\n",
       "    .dataframe tbody tr th {\n",
       "        vertical-align: top;\n",
       "    }\n",
       "\n",
       "    .dataframe thead th {\n",
       "        text-align: right;\n",
       "    }\n",
       "</style>\n",
       "<table border=\"1\" class=\"dataframe\">\n",
       "  <thead>\n",
       "    <tr style=\"text-align: right;\">\n",
       "      <th></th>\n",
       "      <th>en</th>\n",
       "    </tr>\n",
       "  </thead>\n",
       "  <tbody>\n",
       "    <tr>\n",
       "      <th>tweet.lang</th>\n",
       "      <td>1.0</td>\n",
       "    </tr>\n",
       "  </tbody>\n",
       "</table>\n",
       "</div>"
      ],
      "text/plain": [
       "             en\n",
       "tweet.lang  1.0"
      ]
     },
     "metadata": {},
     "output_type": "display_data"
    },
    {
     "name": "stdout",
     "output_type": "stream",
     "text": [
      "gopatriots\n",
      "\n"
     ]
    },
    {
     "data": {
      "text/html": [
       "<div>\n",
       "<style scoped>\n",
       "    .dataframe tbody tr th:only-of-type {\n",
       "        vertical-align: middle;\n",
       "    }\n",
       "\n",
       "    .dataframe tbody tr th {\n",
       "        vertical-align: top;\n",
       "    }\n",
       "\n",
       "    .dataframe thead th {\n",
       "        text-align: right;\n",
       "    }\n",
       "</style>\n",
       "<table border=\"1\" class=\"dataframe\">\n",
       "  <thead>\n",
       "    <tr style=\"text-align: right;\">\n",
       "      <th></th>\n",
       "      <th>en</th>\n",
       "    </tr>\n",
       "  </thead>\n",
       "  <tbody>\n",
       "    <tr>\n",
       "      <th>tweet.lang</th>\n",
       "      <td>1.0</td>\n",
       "    </tr>\n",
       "  </tbody>\n",
       "</table>\n",
       "</div>"
      ],
      "text/plain": [
       "             en\n",
       "tweet.lang  1.0"
      ]
     },
     "metadata": {},
     "output_type": "display_data"
    }
   ],
   "source": [
    "print('gohawks\\n')\n",
    "display( pd.DataFrame(tweet_dfs2['gohawks']['tweet.lang'].value_counts(normalize=True)).head(10).T)\n",
    "print('gopatriots\\n')\n",
    "display(pd.DataFrame(tweet_dfs2['gopatriots']['tweet.lang'].value_counts(normalize=True)).head(10).T)"
   ]
  },
  {
   "cell_type": "markdown",
   "id": "187e3838-c37b-4245-8f7d-1535ab455450",
   "metadata": {},
   "source": [
    "Given that we will do sentiment analysis task, I will only use english language tweets."
   ]
  },
  {
   "cell_type": "markdown",
   "id": "b03cca1a-bb17-41d7-90ce-541be3097817",
   "metadata": {
    "jp-MarkdownHeadingCollapsed": true,
    "tags": []
   },
   "source": [
    "\n",
    "##### __Create Project Data__"
   ]
  },
  {
   "cell_type": "markdown",
   "id": "28543917-dd9b-4930-93a0-7c24962542c6",
   "metadata": {},
   "source": [
    "We need to incorporate the newly collected data with the tweets data. This is not a trivial step as we need to know (1) if a tweet is about a specific player, (2) mapping game time to real time.\n",
    "(1) is handled in this section and (2) has its own specific part since it is more complex.    \n",
    "\n",
    "In this step I prepared the final raw data to be used in the above described tasks:\n",
    "\n",
    "Steps followed to prepare this data:\n",
    "- Select features from raw tweet data\n",
    "- Filter to have english language only\n",
    "- Concat gohawks and gopatriots data in a single dataframe, put hashtag column to later use to separate them.\n",
    "- Handle date time information for citation_date column.\n",
    "- Game Status: create a column to specify when the tweet is posted: 'pre-game, during game' and 'after game'\n",
    "- Map tweets and players\n",
    "- Sentiment Analysis \n",
    "\t- nltk vader\n",
    "\t- teextblob\n",
    "\n",
    "\n",
    "Further details for some of the above steps:\n",
    "__Selected features from raw tweets data:__\n",
    "\n",
    "['title', 'tweet.text', 'citation_date','hashtag', 'tweet.lang', 'tweet.user.name', 'original_author.name',\n",
    "'tweet.entities.hashtags','tweet.entities.user_mentions','tweet.retweet_count','tweet.favorite_count',\n",
    "'tweet.user.followers_count','tweet.user.friends_count','tweet.user.favourites_count','author.followers',\n",
    "'original_author.followers','original_author.influence_level', 'metrics.ranking_score', 'metrics.citations.influential',\n",
    "'metrics.citations.total','metrics.citations.matching','metrics.citations.replies','metrics.impressions','author.influence_level']\n",
    "\n",
    "__Date time:__\n",
    "\n",
    "Twitter raw data has citation_date column as the tweet post time. This column values are in the form of UNIX time as a scalar number. I first convert this column to a human-readable format using datetime and converted the timezone to PST time zone. I also used PST time zone for significant times in the game such as game start and end time to be able to easily filter out tweets during game time. I also created additional year, month, day, hour columns for convenience.\n",
    "\n",
    "\n",
    "__Find if a tweet about a specific player:__\n",
    "\n",
    "In order to make a character-centric tracking we need to know whether a tweet is related to a player. There are several ways we can see a tweet could be related to a player: if tweet text mentions the player, uses hashtag about player and use the name of the player. \n",
    "\n",
    "I used a simple logic with full name and partial name to match to find tweets about players. The results are case insensitive. By doing this I can identify players for 20% of the tweet data with 1 or more than 1 players. \n",
    "This could be further improved by finding twitter usernames of the players (for mentions) and specific hashtags used for players. However, most of these already contains either full, first or last name of the players meaning most of these case would be handled already with the current logic. Several columns created: player (list of the players found), player_count (number of players identified in a tweet), player2 (same as player but with team names for tweets no player found).\n",
    "\n",
    "What will happen to the remaining 80% of the tweets? Well, since I didn't want to discard them directly I assigned team names to the tweets that we couldn't find specific players. We can filter them out later or can use it to enhance our model results. \n",
    "\n",
    "__Sentiment Analysis:__\n",
    "\n",
    "For sentiment analysis, we need sentiment information. Two libraries used to extract sentiment information: nltk and textblob. With nltk.vader, I found positive, negative, neutral and compound scores for each tweet. Assigned the labels using compound score. With TextBlob, I extracted polarity and sensitivity information and assigned the label using polarity information.\n",
    "\n",
    "For the character centric analysis, we need to aggregate these emotion values, for each character and time interval. I decribed those steps in the later sections for the specific task (Task 1).\n",
    "\n",
    "I experimented extracting sentiment information with both cleaned and uncleaned tweets, the change in the results were insignificant. I shared them later in the notebook.\n",
    "\n",
    "\n",
    "Also, applying these steps take considerable time, in order to not rerun the same things over and over, I saved the final df and reread when I restart working. "
   ]
  },
  {
   "cell_type": "markdown",
   "id": "4f40ddcb-bc93-4496-ae34-9aff40ae61fb",
   "metadata": {},
   "source": [
    "__Preview of the project data:__"
   ]
  },
  {
   "cell_type": "code",
   "execution_count": 57,
   "id": "41306199-a584-4892-933b-48146d3b67b2",
   "metadata": {},
   "outputs": [
    {
     "name": "stdout",
     "output_type": "stream",
     "text": [
      "Starting tweet_emt_df...\n",
      "Starting posting time datetime features...\n",
      "Starting find players...\n",
      "Starting game status...\n",
      "Starting nltk vader sentiment...\n",
      "Starting textblob sentiment...\n",
      "Saved file to data/tweet_emt_df.csv...\n",
      "(155251, 42)\n"
     ]
    },
    {
     "data": {
      "text/html": [
       "<div>\n",
       "<style scoped>\n",
       "    .dataframe tbody tr th:only-of-type {\n",
       "        vertical-align: middle;\n",
       "    }\n",
       "\n",
       "    .dataframe tbody tr th {\n",
       "        vertical-align: top;\n",
       "    }\n",
       "\n",
       "    .dataframe thead th {\n",
       "        text-align: right;\n",
       "    }\n",
       "</style>\n",
       "<table border=\"1\" class=\"dataframe\">\n",
       "  <thead>\n",
       "    <tr style=\"text-align: right;\">\n",
       "      <th></th>\n",
       "      <th>title</th>\n",
       "      <th>tweet.text</th>\n",
       "      <th>citation_date</th>\n",
       "      <th>hashtag</th>\n",
       "      <th>tweet.lang</th>\n",
       "      <th>tweet.user.name</th>\n",
       "      <th>original_author.name</th>\n",
       "      <th>tweet.entities.hashtags</th>\n",
       "      <th>tweet.entities.user_mentions</th>\n",
       "      <th>tweet.retweet_count</th>\n",
       "      <th>...</th>\n",
       "      <th>players_str</th>\n",
       "      <th>game_status</th>\n",
       "      <th>sent_nltk_vader_neg_title</th>\n",
       "      <th>sent_nltk_vader_neu_title</th>\n",
       "      <th>sent_nltk_vader_pos</th>\n",
       "      <th>sent_nltk_vader_compound_title</th>\n",
       "      <th>sent_nltk_vader_label_title</th>\n",
       "      <th>sent_textblob_polarity_title</th>\n",
       "      <th>sent_textblob_subjectivity_title</th>\n",
       "      <th>sent_textblob_label_title</th>\n",
       "    </tr>\n",
       "  </thead>\n",
       "  <tbody>\n",
       "    <tr>\n",
       "      <th>205</th>\n",
       "      <td>“@TheDA53: “@nathanSD8: @TheDA53 broncos?! 😢 #...</td>\n",
       "      <td>“@TheDA53: “@nathanSD8: @TheDA53 broncos?! 😢 #...</td>\n",
       "      <td>1421222681</td>\n",
       "      <td>#gohawks</td>\n",
       "      <td>en</td>\n",
       "      <td>Nathan Santo Domingo</td>\n",
       "      <td>Nathan Santo Domingo</td>\n",
       "      <td>[{'indices': [45, 53], 'text': 'GoHawks'}]</td>\n",
       "      <td>[{'indices': [1, 9], 'id_str': '270348941', 's...</td>\n",
       "      <td>0</td>\n",
       "      <td>...</td>\n",
       "      <td></td>\n",
       "      <td>pre_game</td>\n",
       "      <td>0.0</td>\n",
       "      <td>1.000</td>\n",
       "      <td>0.000</td>\n",
       "      <td>0.0000</td>\n",
       "      <td>neutral</td>\n",
       "      <td>0.000</td>\n",
       "      <td>0.000</td>\n",
       "      <td>neutral</td>\n",
       "    </tr>\n",
       "    <tr>\n",
       "      <th>203</th>\n",
       "      <td>Dr. Jim Kurtz &amp;amp; I before Seahawks vs Panth...</td>\n",
       "      <td>Dr. Jim Kurtz &amp;amp; I before Seahawks vs Panth...</td>\n",
       "      <td>1421222750</td>\n",
       "      <td>#gohawks</td>\n",
       "      <td>en</td>\n",
       "      <td>Dr Gerry Ramogida</td>\n",
       "      <td>Dr Gerry Ramogida</td>\n",
       "      <td>[{'indices': [112, 120], 'text': 'GoHawks'}]</td>\n",
       "      <td>[]</td>\n",
       "      <td>0</td>\n",
       "      <td>...</td>\n",
       "      <td></td>\n",
       "      <td>pre_game</td>\n",
       "      <td>0.0</td>\n",
       "      <td>0.618</td>\n",
       "      <td>0.382</td>\n",
       "      <td>0.8718</td>\n",
       "      <td>positive</td>\n",
       "      <td>0.500</td>\n",
       "      <td>0.625</td>\n",
       "      <td>positive</td>\n",
       "    </tr>\n",
       "    <tr>\n",
       "      <th>208</th>\n",
       "      <td>@Trapstar_DJ the more the merrier! #GoHawks</td>\n",
       "      <td>@Trapstar_DJ the more the merrier! #GoHawks</td>\n",
       "      <td>1421223140</td>\n",
       "      <td>#gohawks</td>\n",
       "      <td>en</td>\n",
       "      <td>Will Njuguna</td>\n",
       "      <td>Will Njuguna</td>\n",
       "      <td>[{'indices': [35, 43], 'text': 'GoHawks'}]</td>\n",
       "      <td>[{'indices': [0, 12], 'id_str': '1915241161', ...</td>\n",
       "      <td>0</td>\n",
       "      <td>...</td>\n",
       "      <td></td>\n",
       "      <td>pre_game</td>\n",
       "      <td>0.0</td>\n",
       "      <td>0.605</td>\n",
       "      <td>0.395</td>\n",
       "      <td>0.5057</td>\n",
       "      <td>positive</td>\n",
       "      <td>0.625</td>\n",
       "      <td>0.500</td>\n",
       "      <td>positive</td>\n",
       "    </tr>\n",
       "  </tbody>\n",
       "</table>\n",
       "<p>3 rows × 42 columns</p>\n",
       "</div>"
      ],
      "text/plain": [
       "                                                 title  \\\n",
       "205  “@TheDA53: “@nathanSD8: @TheDA53 broncos?! 😢 #...   \n",
       "203  Dr. Jim Kurtz &amp; I before Seahawks vs Panth...   \n",
       "208        @Trapstar_DJ the more the merrier! #GoHawks   \n",
       "\n",
       "                                            tweet.text  citation_date  \\\n",
       "205  “@TheDA53: “@nathanSD8: @TheDA53 broncos?! 😢 #...     1421222681   \n",
       "203  Dr. Jim Kurtz &amp; I before Seahawks vs Panth...     1421222750   \n",
       "208        @Trapstar_DJ the more the merrier! #GoHawks     1421223140   \n",
       "\n",
       "      hashtag tweet.lang       tweet.user.name  original_author.name  \\\n",
       "205  #gohawks         en  Nathan Santo Domingo  Nathan Santo Domingo   \n",
       "203  #gohawks         en     Dr Gerry Ramogida     Dr Gerry Ramogida   \n",
       "208  #gohawks         en          Will Njuguna          Will Njuguna   \n",
       "\n",
       "                          tweet.entities.hashtags  \\\n",
       "205    [{'indices': [45, 53], 'text': 'GoHawks'}]   \n",
       "203  [{'indices': [112, 120], 'text': 'GoHawks'}]   \n",
       "208    [{'indices': [35, 43], 'text': 'GoHawks'}]   \n",
       "\n",
       "                          tweet.entities.user_mentions  tweet.retweet_count  \\\n",
       "205  [{'indices': [1, 9], 'id_str': '270348941', 's...                    0   \n",
       "203                                                 []                    0   \n",
       "208  [{'indices': [0, 12], 'id_str': '1915241161', ...                    0   \n",
       "\n",
       "     ...  players_str  game_status  sent_nltk_vader_neg_title  \\\n",
       "205  ...                  pre_game                        0.0   \n",
       "203  ...                  pre_game                        0.0   \n",
       "208  ...                  pre_game                        0.0   \n",
       "\n",
       "     sent_nltk_vader_neu_title  sent_nltk_vader_pos  \\\n",
       "205                      1.000                0.000   \n",
       "203                      0.618                0.382   \n",
       "208                      0.605                0.395   \n",
       "\n",
       "     sent_nltk_vader_compound_title  sent_nltk_vader_label_title  \\\n",
       "205                          0.0000                      neutral   \n",
       "203                          0.8718                     positive   \n",
       "208                          0.5057                     positive   \n",
       "\n",
       "     sent_textblob_polarity_title  sent_textblob_subjectivity_title  \\\n",
       "205                         0.000                             0.000   \n",
       "203                         0.500                             0.625   \n",
       "208                         0.625                             0.500   \n",
       "\n",
       "     sent_textblob_label_title  \n",
       "205                    neutral  \n",
       "203                   positive  \n",
       "208                   positive  \n",
       "\n",
       "[3 rows x 42 columns]"
      ]
     },
     "execution_count": 57,
     "metadata": {},
     "output_type": "execute_result"
    }
   ],
   "source": [
    "tweet_emt_df = prep_tweet_emotion_data(tweet_dfs2=tweet_dfs2)\n",
    "print(tweet_emt_df.shape)\n",
    "tweet_emt_df.head(3)"
   ]
  },
  {
   "cell_type": "markdown",
   "id": "1f029677-029d-43d2-b227-7185746c2bef",
   "metadata": {},
   "source": [
    "### __Data Exploration__"
   ]
  },
  {
   "cell_type": "markdown",
   "id": "d45b1ad6-ccf3-4e16-b03a-8bf39f684bae",
   "metadata": {
    "jp-MarkdownHeadingCollapsed": true,
    "tags": []
   },
   "source": [
    "##### __Answer some questions__"
   ]
  },
  {
   "cell_type": "markdown",
   "id": "c96f20b4-5044-470e-afa7-3234cc666377",
   "metadata": {},
   "source": [
    "- __Check if data is balanced for each team?__"
   ]
  },
  {
   "cell_type": "code",
   "execution_count": 58,
   "id": "15f9ba28-fc74-41ae-bc8b-8079ca8df9a2",
   "metadata": {},
   "outputs": [
    {
     "name": "stdout",
     "output_type": "stream",
     "text": [
      "#gohawks       142367\n",
      "#gopatriots     12884\n",
      "Name: hashtag, dtype: int64\n"
     ]
    },
    {
     "data": {
      "text/plain": [
       "#gohawks       0.917012\n",
       "#gopatriots    0.082988\n",
       "Name: hashtag, dtype: float64"
      ]
     },
     "execution_count": 58,
     "metadata": {},
     "output_type": "execute_result"
    }
   ],
   "source": [
    "print(tweet_emt_df.hashtag.value_counts())\n",
    "tweet_emt_df.hashtag.value_counts(normalize=True)"
   ]
  },
  {
   "cell_type": "markdown",
   "id": "30bafc3e-e30b-4433-b147-5086567e43d6",
   "metadata": {},
   "source": [
    "We have highly inbalanced data, gohawks tweets corresponds to the almost 92% of the data:"
   ]
  },
  {
   "cell_type": "markdown",
   "id": "94a5a4e6-be0a-49ad-a24d-c85c96b246ed",
   "metadata": {
    "tags": []
   },
   "source": [
    "- __Find in how many tweets each player is mentioned?__"
   ]
  },
  {
   "cell_type": "code",
   "execution_count": 208,
   "id": "a88f3d4d-e87b-4ffa-8426-06093d300499",
   "metadata": {},
   "outputs": [
    {
     "data": {
      "text/html": [
       "<div>\n",
       "<style scoped>\n",
       "    .dataframe tbody tr th:only-of-type {\n",
       "        vertical-align: middle;\n",
       "    }\n",
       "\n",
       "    .dataframe tbody tr th {\n",
       "        vertical-align: top;\n",
       "    }\n",
       "\n",
       "    .dataframe thead th {\n",
       "        text-align: right;\n",
       "    }\n",
       "</style>\n",
       "<table border=\"1\" class=\"dataframe\">\n",
       "  <thead>\n",
       "    <tr style=\"text-align: right;\">\n",
       "      <th></th>\n",
       "      <th>title</th>\n",
       "    </tr>\n",
       "    <tr>\n",
       "      <th>player2</th>\n",
       "      <th></th>\n",
       "    </tr>\n",
       "  </thead>\n",
       "  <tbody>\n",
       "    <tr>\n",
       "      <th>#gohawks</th>\n",
       "      <td>112772</td>\n",
       "    </tr>\n",
       "    <tr>\n",
       "      <th>#gopatriots</th>\n",
       "      <td>10506</td>\n",
       "    </tr>\n",
       "    <tr>\n",
       "      <th>Dan Connolly</th>\n",
       "      <td>5929</td>\n",
       "    </tr>\n",
       "    <tr>\n",
       "      <th>Tom Brady</th>\n",
       "      <td>5303</td>\n",
       "    </tr>\n",
       "    <tr>\n",
       "      <th>Marshawn Lynch</th>\n",
       "      <td>3568</td>\n",
       "    </tr>\n",
       "    <tr>\n",
       "      <th>Richard Sherman</th>\n",
       "      <td>2871</td>\n",
       "    </tr>\n",
       "    <tr>\n",
       "      <th>Russell Wilson</th>\n",
       "      <td>2838</td>\n",
       "    </tr>\n",
       "    <tr>\n",
       "      <th>Chris Matthews</th>\n",
       "      <td>1619</td>\n",
       "    </tr>\n",
       "    <tr>\n",
       "      <th>Doug Baldwin</th>\n",
       "      <td>1308</td>\n",
       "    </tr>\n",
       "    <tr>\n",
       "      <th>Rob Gronkowski</th>\n",
       "      <td>1230</td>\n",
       "    </tr>\n",
       "    <tr>\n",
       "      <th>Earl Thomas</th>\n",
       "      <td>1119</td>\n",
       "    </tr>\n",
       "    <tr>\n",
       "      <th>Ryan Wendell</th>\n",
       "      <td>1092</td>\n",
       "    </tr>\n",
       "    <tr>\n",
       "      <th>Kam Chancellor</th>\n",
       "      <td>838</td>\n",
       "    </tr>\n",
       "    <tr>\n",
       "      <th>Jermaine Kearse</th>\n",
       "      <td>517</td>\n",
       "    </tr>\n",
       "    <tr>\n",
       "      <th>Michael Hoomanawanui</th>\n",
       "      <td>409</td>\n",
       "    </tr>\n",
       "    <tr>\n",
       "      <th>Luke Willson</th>\n",
       "      <td>293</td>\n",
       "    </tr>\n",
       "    <tr>\n",
       "      <th>Max Unger</th>\n",
       "      <td>255</td>\n",
       "    </tr>\n",
       "    <tr>\n",
       "      <th>Bruce Irvin</th>\n",
       "      <td>215</td>\n",
       "    </tr>\n",
       "    <tr>\n",
       "      <th>Justin Britt</th>\n",
       "      <td>191</td>\n",
       "    </tr>\n",
       "    <tr>\n",
       "      <th>Kevin Williams</th>\n",
       "      <td>173</td>\n",
       "    </tr>\n",
       "    <tr>\n",
       "      <th>Julian Edelman</th>\n",
       "      <td>169</td>\n",
       "    </tr>\n",
       "    <tr>\n",
       "      <th>Cliff Avril</th>\n",
       "      <td>151</td>\n",
       "    </tr>\n",
       "    <tr>\n",
       "      <th>Brandon LaFell</th>\n",
       "      <td>148</td>\n",
       "    </tr>\n",
       "    <tr>\n",
       "      <th>Jamie Collins</th>\n",
       "      <td>140</td>\n",
       "    </tr>\n",
       "    <tr>\n",
       "      <th>Darrelle Revis</th>\n",
       "      <td>139</td>\n",
       "    </tr>\n",
       "    <tr>\n",
       "      <th>Bobby Wagner</th>\n",
       "      <td>139</td>\n",
       "    </tr>\n",
       "    <tr>\n",
       "      <th>Chandler Jones</th>\n",
       "      <td>136</td>\n",
       "    </tr>\n",
       "    <tr>\n",
       "      <th>LeGarrette Blount</th>\n",
       "      <td>111</td>\n",
       "    </tr>\n",
       "    <tr>\n",
       "      <th>Kyle Arrington</th>\n",
       "      <td>104</td>\n",
       "    </tr>\n",
       "    <tr>\n",
       "      <th>James Carpenter</th>\n",
       "      <td>103</td>\n",
       "    </tr>\n",
       "    <tr>\n",
       "      <th>Ricardo Lockette</th>\n",
       "      <td>103</td>\n",
       "    </tr>\n",
       "    <tr>\n",
       "      <th>Vince Wilfork</th>\n",
       "      <td>98</td>\n",
       "    </tr>\n",
       "    <tr>\n",
       "      <th>Brandon Browner</th>\n",
       "      <td>98</td>\n",
       "    </tr>\n",
       "    <tr>\n",
       "      <th>Tony McDaniel</th>\n",
       "      <td>97</td>\n",
       "    </tr>\n",
       "    <tr>\n",
       "      <th>Michael Bennett</th>\n",
       "      <td>90</td>\n",
       "    </tr>\n",
       "    <tr>\n",
       "      <th>Bryan Walters</th>\n",
       "      <td>85</td>\n",
       "    </tr>\n",
       "    <tr>\n",
       "      <th>K.J. Wright</th>\n",
       "      <td>62</td>\n",
       "    </tr>\n",
       "    <tr>\n",
       "      <th>Patrick Chung</th>\n",
       "      <td>59</td>\n",
       "    </tr>\n",
       "    <tr>\n",
       "      <th>Shane Vereen</th>\n",
       "      <td>57</td>\n",
       "    </tr>\n",
       "    <tr>\n",
       "      <th>DeShawn Shead</th>\n",
       "      <td>38</td>\n",
       "    </tr>\n",
       "    <tr>\n",
       "      <th>Devin McCourty</th>\n",
       "      <td>20</td>\n",
       "    </tr>\n",
       "    <tr>\n",
       "      <th>Sebastian Vollmer</th>\n",
       "      <td>15</td>\n",
       "    </tr>\n",
       "    <tr>\n",
       "      <th>Danny Amendola</th>\n",
       "      <td>11</td>\n",
       "    </tr>\n",
       "    <tr>\n",
       "      <th>J.R. Sweezy</th>\n",
       "      <td>10</td>\n",
       "    </tr>\n",
       "    <tr>\n",
       "      <th>Robert Turbin</th>\n",
       "      <td>6</td>\n",
       "    </tr>\n",
       "    <tr>\n",
       "      <th>Dont'a Hightower</th>\n",
       "      <td>6</td>\n",
       "    </tr>\n",
       "    <tr>\n",
       "      <th>Rob Ninkovich</th>\n",
       "      <td>3</td>\n",
       "    </tr>\n",
       "    <tr>\n",
       "      <th>Russell Okung</th>\n",
       "      <td>3</td>\n",
       "    </tr>\n",
       "    <tr>\n",
       "      <th>Sealver Siliga</th>\n",
       "      <td>2</td>\n",
       "    </tr>\n",
       "    <tr>\n",
       "      <th>Byron Maxwell</th>\n",
       "      <td>2</td>\n",
       "    </tr>\n",
       "  </tbody>\n",
       "</table>\n",
       "</div>"
      ],
      "text/plain": [
       "                       title\n",
       "player2                     \n",
       "#gohawks              112772\n",
       "#gopatriots            10506\n",
       "Dan Connolly            5929\n",
       "Tom Brady               5303\n",
       "Marshawn Lynch          3568\n",
       "Richard Sherman         2871\n",
       "Russell Wilson          2838\n",
       "Chris Matthews          1619\n",
       "Doug Baldwin            1308\n",
       "Rob Gronkowski          1230\n",
       "Earl Thomas             1119\n",
       "Ryan Wendell            1092\n",
       "Kam Chancellor           838\n",
       "Jermaine Kearse          517\n",
       "Michael Hoomanawanui     409\n",
       "Luke Willson             293\n",
       "Max Unger                255\n",
       "Bruce Irvin              215\n",
       "Justin Britt             191\n",
       "Kevin Williams           173\n",
       "Julian Edelman           169\n",
       "Cliff Avril              151\n",
       "Brandon LaFell           148\n",
       "Jamie Collins            140\n",
       "Darrelle Revis           139\n",
       "Bobby Wagner             139\n",
       "Chandler Jones           136\n",
       "LeGarrette Blount        111\n",
       "Kyle Arrington           104\n",
       "James Carpenter          103\n",
       "Ricardo Lockette         103\n",
       "Vince Wilfork             98\n",
       "Brandon Browner           98\n",
       "Tony McDaniel             97\n",
       "Michael Bennett           90\n",
       "Bryan Walters             85\n",
       "K.J. Wright               62\n",
       "Patrick Chung             59\n",
       "Shane Vereen              57\n",
       "DeShawn Shead             38\n",
       "Devin McCourty            20\n",
       "Sebastian Vollmer         15\n",
       "Danny Amendola            11\n",
       "J.R. Sweezy               10\n",
       "Robert Turbin              6\n",
       "Dont'a Hightower           6\n",
       "Rob Ninkovich              3\n",
       "Russell Okung              3\n",
       "Sealver Siliga             2\n",
       "Byron Maxwell              2"
      ]
     },
     "execution_count": 208,
     "metadata": {},
     "output_type": "execute_result"
    }
   ],
   "source": [
    "dd = pd.DataFrame(tweet_emt_df.groupby(by=['player2']).title.count())\n",
    "dd = dd.sort_values(by='title', ascending=False)\n",
    "dd.head(50)"
   ]
  },
  {
   "cell_type": "markdown",
   "id": "4da4cc17-0a4c-4f96-b58c-dbc2e1750723",
   "metadata": {},
   "source": [
    "- __What is the ratio of number of players found on tweet dataset?__\n",
    "\n",
    "Show player_count column's normalized  value counts."
   ]
  },
  {
   "cell_type": "code",
   "execution_count": 201,
   "id": "37c1da15-50ba-4fb4-9817-c6f1a60f811e",
   "metadata": {},
   "outputs": [
    {
     "data": {
      "text/plain": [
       "0     0.794056\n",
       "1     0.138157\n",
       "2     0.053713\n",
       "3     0.010428\n",
       "4     0.002519\n",
       "5     0.000696\n",
       "6     0.000316\n",
       "7     0.000084\n",
       "8     0.000019\n",
       "12    0.000006\n",
       "11    0.000006\n",
       "Name: player_count, dtype: float64"
      ]
     },
     "execution_count": 201,
     "metadata": {},
     "output_type": "execute_result"
    }
   ],
   "source": [
    "tweet_emt_df.player_count.value_counts(normalize=True)"
   ]
  },
  {
   "cell_type": "markdown",
   "id": "a845cfe0-7581-459d-ad20-548c75a7ea29",
   "metadata": {},
   "source": [
    "##### __Mapping Game Time to Real Time:__"
   ]
  },
  {
   "cell_type": "markdown",
   "id": "7f0bf38c-9de9-4821-9c9b-9eb1300f94cd",
   "metadata": {},
   "source": [
    "There are 3 main time information we need to find\n",
    "- Find quarter and halftime show beginning and end times, \n",
    "- Find score times,\n",
    "- Find significant event times (interceptions, fumbles).\n",
    "\n",
    "Ideas on how to assign time frames:\n",
    "\n",
    "Here comes the problem. :) I couldn't find anything online that has real timestamps on neither on quarter start and end, nor for significant or score times. Every play by play and score play data I found were on relative to the game time. \n",
    "\n",
    "\n",
    "- I couldn't find any data online that is relative to real timeframe like PST, UTC. All the data relative to the game time shown minutes within quarters. \n",
    "- Checked youtube videos of the full game, to extract them manually, either by checking time on the screen or by video time. In full game video, there is no real time shown on the screen and the video is clipped, and some time frames are just cut such as halftimeshow, which again makes very hard to infer mapping for the second half of the game and real time.\n",
    "- I tried to find timestamps from the tweets of official twitter accounts of Seattle Seahawks and Patriots. I check both dataset and then twitter but the tweets from there limited and you can't infer any of the information completely.\n",
    "- Final resort: refer score and quarter times from tweet dataset. Assumption: if a tweet with score is tweeted than either one of the team is already scored, use the earliest one within the game timeframe.\n"
   ]
  },
  {
   "cell_type": "markdown",
   "id": "117897d0-0713-4a5a-a436-93dd547b19a4",
   "metadata": {
    "jp-MarkdownHeadingCollapsed": true,
    "tags": []
   },
   "source": [
    "###### find time intervals of the game"
   ]
  },
  {
   "cell_type": "code",
   "execution_count": null,
   "id": "67a2f7f8-cd63-4748-9b0d-a7ba6060b4b1",
   "metadata": {},
   "outputs": [],
   "source": [
    "def game_interval2(twt_time):\n",
    "\n",
    "    half_time_start = datetime.datetime(2015, 2, 1, 17, 0, 0, 0, PST_TZ)\n",
    "    half_time_end = datetime.datetime(2015, 2, 1, 17, 15, 0, 0, PST_TZ)\n",
    "    \n",
    "    if twt_time < GAME_START :\n",
    "        return 'pre_game'\n",
    "    elif GAME_START < twt_time < half_time_start:\n",
    "        return 'first_half'\n",
    "    elif half_time_start < twt_time < half_time_end:\n",
    "        return 'half_time_show'\n",
    "    elif half_time_end < twt_time < GAME_END:\n",
    "        return 'second_half'\n",
    "    else:\n",
    "        return 'after_game'\n",
    "    \n",
    "tweet_emt_df['game_status_detailed'] = tweet_emt_df['citation_date_fixed'].apply(lambda x: game_interval2(twt_time=x) )"
   ]
  },
  {
   "cell_type": "code",
   "execution_count": null,
   "id": "0e9db32a-a361-4b42-af03-06db9054e2a5",
   "metadata": {},
   "outputs": [],
   "source": [
    "tweet_emt_df.game_status.value_counts()"
   ]
  },
  {
   "cell_type": "code",
   "execution_count": null,
   "id": "2e9ab964-443b-4947-910a-591442e82fa0",
   "metadata": {},
   "outputs": [],
   "source": [
    "tweet_emt_df.groupby(by=['hashtag', 'game_status']).title.count()"
   ]
  },
  {
   "cell_type": "code",
   "execution_count": null,
   "id": "de9c8bdd-c9b1-4171-8260-f44d95318f13",
   "metadata": {},
   "outputs": [],
   "source": [
    "tweet_emt_df.groupby(by=['hashtag', 'game_status_detailed']).title.count()"
   ]
  },
  {
   "cell_type": "code",
   "execution_count": null,
   "id": "bcd7c02b-2e10-45d4-8802-dda224f41390",
   "metadata": {},
   "outputs": [],
   "source": [
    "#dfx = tweet_emt_df[tweet_emt_df['player_count']==1]\n",
    "#tweet_emt_df.groupby(by=['game_status', 'hashtag','player_count']).title.count()"
   ]
  },
  {
   "cell_type": "code",
   "execution_count": null,
   "id": "3939cf72-55f9-4f4a-8103-c279b93429e3",
   "metadata": {},
   "outputs": [],
   "source": [
    "#ht = tweet_dfs['superbowl'][tweet_dfs['superbowl'].title.str.contains('halftime')]\n",
    "#print(ht.shape)\n",
    "#ht.sample(10)"
   ]
  },
  {
   "cell_type": "code",
   "execution_count": null,
   "id": "e23f12b1-cba8-43e7-84c8-2f29e31794ab",
   "metadata": {},
   "outputs": [],
   "source": [
    "# find the relative time frames for each quarter\n",
    "quarter_strs = ['first quarter|1st quarter','second quarter|2nd quarter', 'third quarter|3rd quarter', 'fourth quarter|4th quarter']\n",
    "cs = ['title','citation_date_fixed', 'author.name','tweet.user.name', 'original_author.name']\n",
    "\n",
    "for qs in quarter_strs:\n",
    "    display(tweet_emt_df[(tweet_emt_df['tweet.text'].str.contains('end of')) &\n",
    "                (tweet_emt_df['tweet.text'].str.contains(qs)) &\n",
    "                (tweet_emt_df['citation_date_fixed']> GAME_START)][cs])"
   ]
  },
  {
   "cell_type": "code",
   "execution_count": null,
   "id": "67ff3052-3e44-439e-b4fa-cac5ed3ce3c6",
   "metadata": {},
   "outputs": [],
   "source": [
    "# estimate halftime show start and end times\n",
    "expected_halftime_show_time = datetime.datetime(2015, 2, 1, 17, 12, 0, 0, PST_TZ)\n",
    "expected_halftime_show_time_end = datetime.datetime(2015, 2, 1, 17, 27, 0, 0, PST_TZ)\n",
    "\n",
    "res = tweet_emt_df[((tweet_emt_df['tweet.text'].str.contains('halftime')) |\n",
    "                (tweet_emt_df['tweet.text'].str.contains('Katty Perry|@kattyperry|katty'))) &\n",
    "                (expected_halftime_show_time_end > tweet_emt_df['citation_date_fixed']) &\n",
    "                 ( tweet_emt_df['citation_date_fixed'] > expected_halftime_show_time)][['title','citation_date_fixed']]\n",
    "\n",
    "display(res.head(10))\n",
    "display(res.tail(10))"
   ]
  },
  {
   "cell_type": "code",
   "execution_count": null,
   "id": "8aecff1d-aa4a-4f55-9c02-8f0f9bb115c9",
   "metadata": {},
   "outputs": [],
   "source": [
    "display(tweet_emt_df[(tweet_emt_df['tweet.text'].str.contains('halftime')) &\n",
    "                (tweet_emt_df['tweet.text'].str.contains('start')) &\n",
    "                (tweet_emt_df['citation_date_fixed']> GAME_START)].title.tolist())"
   ]
  },
  {
   "cell_type": "code",
   "execution_count": null,
   "id": "142f5158-6a9c-4db6-8706-465d022d0573",
   "metadata": {},
   "outputs": [],
   "source": [
    "first_qt_start = GAME_START\n",
    "first_qt_end = datetime.datetime(2015, 2, 1, 16, 0, 0, 0, PST_TZ)\n",
    "second_qt_start = first_qt_end\n",
    "second_qt_end = datetime.datetime(2015, 2, 1, 17, 12, 0, 0, PST_TZ)\n",
    "\n",
    "#half_time_start = second_qt_end #datetime.datetime(2015, 2, 1, 17, 0, 0, 0, PST_TZ)\n",
    "#half_time_end = datetime.datetime(2015, 2, 1, 17, 30, 0, 0, PST_TZ)\n",
    "half_time_start = datetime.datetime(2015, 2, 1, 17, 12, 0, 0, PST_TZ)\n",
    "half_time_end = datetime.datetime(2015, 2, 1, 17, 27, 0, 0, PST_TZ)\n",
    "\n",
    "third_qt_start = half_time_end\n",
    "third_qt_end = datetime.datetime(2015, 2, 1, 18, 18, 0, 0, PST_TZ)\n",
    "\n",
    "fourth_qt_start = third_qt_end\n",
    "fourth_qt_end = GAME_END\n"
   ]
  },
  {
   "cell_type": "code",
   "execution_count": null,
   "id": "9ac68a91-7708-411e-97d7-87f510fbceae",
   "metadata": {},
   "outputs": [],
   "source": []
  },
  {
   "cell_type": "code",
   "execution_count": null,
   "id": "8182afcc-f7d7-4e3c-8fa3-a28063c386cc",
   "metadata": {},
   "outputs": [],
   "source": []
  },
  {
   "cell_type": "code",
   "execution_count": null,
   "id": "0ca72d3a-a7b2-487e-9d06-231a1caef746",
   "metadata": {},
   "outputs": [],
   "source": []
  },
  {
   "cell_type": "markdown",
   "id": "0680d5f2-8b33-4472-b5b7-9da3173a47c9",
   "metadata": {},
   "source": [
    "#### Task 1:"
   ]
  },
  {
   "cell_type": "markdown",
   "id": "e8014cf3-3afd-426f-806a-1343b7f1095c",
   "metadata": {},
   "source": [
    "##### __Feature Engineering__"
   ]
  },
  {
   "cell_type": "code",
   "execution_count": null,
   "id": "9dfb532c-b5c6-486c-bb87-8e2f607f02f9",
   "metadata": {},
   "outputs": [],
   "source": []
  },
  {
   "cell_type": "markdown",
   "id": "0e28e432-6e61-4513-ae5b-227870f060b4",
   "metadata": {
    "tags": []
   },
   "source": [
    "# Sentiment Analysis nltk"
   ]
  },
  {
   "cell_type": "markdown",
   "id": "96712efc-8163-4a11-94ce-055d2d111982",
   "metadata": {},
   "source": [
    "- based on emotions for players (or fans) which team is winnnig the game timeseries prediction.\n",
    "- based on emotions shown players & polarity can you tell the tweet reactions (reweeet count/fav count) (prediction of retweets throughout game). timeseries prediction too.\n"
   ]
  },
  {
   "cell_type": "code",
   "execution_count": null,
   "id": "0eed6f85-0b55-4411-bba7-4ab795fb951d",
   "metadata": {},
   "outputs": [],
   "source": [
    "# clean title\n",
    "tweet_emt_df[['cleaned_title', 'mention_count', 'hashtag_count']] = tweet_emt_df.apply(lambda x: clean_mentions_links(x['title']), axis=1, result_type='expand')"
   ]
  },
  {
   "cell_type": "code",
   "execution_count": null,
   "id": "14497fd4-056f-4620-97db-a1df18a79384",
   "metadata": {},
   "outputs": [],
   "source": [
    "tweet_emt_df['cleaned_hashtag_title'] = tweet_emt_df.cleaned_title.apply(lambda x: clean_hashtag(x))"
   ]
  },
  {
   "cell_type": "code",
   "execution_count": 65,
   "id": "c752610c-1a76-4737-a059-9d3a99e4fd02",
   "metadata": {},
   "outputs": [
    {
     "name": "stdout",
     "output_type": "stream",
     "text": [
      "title\n"
     ]
    },
    {
     "data": {
      "text/plain": [
       "positive    0.464699\n",
       "neutral     0.405833\n",
       "negative    0.129468\n",
       "Name: sent_nltk_vader_label_title, dtype: float64"
      ]
     },
     "metadata": {},
     "output_type": "display_data"
    },
    {
     "name": "stdout",
     "output_type": "stream",
     "text": [
      "cleaned_title\n"
     ]
    },
    {
     "data": {
      "text/plain": [
       "positive    0.465086\n",
       "neutral     0.406020\n",
       "negative    0.128894\n",
       "Name: sent_nltk_vader_label_cleaned_title, dtype: float64"
      ]
     },
     "metadata": {},
     "output_type": "display_data"
    },
    {
     "name": "stdout",
     "output_type": "stream",
     "text": [
      "cleaned_hashtag_title\n"
     ]
    },
    {
     "data": {
      "text/plain": [
       "positive    0.464828\n",
       "neutral     0.406265\n",
       "negative    0.128907\n",
       "Name: sent_nltk_vader_label_cleaned_hashtag_title, dtype: float64"
      ]
     },
     "metadata": {},
     "output_type": "display_data"
    }
   ],
   "source": [
    "for twt_feature_name in ['title', 'cleaned_title','cleaned_hashtag_title']:\n",
    "    print(twt_feature_name)\n",
    "    tweet_emt_df = nltk_sentiment(data=tweet_emt_df, tweet_feature_name=twt_feature_name)\n",
    "    display(tweet_emt_df['sent_nltk_vader_label_'+twt_feature_name].value_counts(normalize=True))"
   ]
  },
  {
   "cell_type": "markdown",
   "id": "6539ef5b-8b2a-44b6-9950-a02a956564cd",
   "metadata": {},
   "source": [
    "__TextBlob sentiment__"
   ]
  },
  {
   "cell_type": "code",
   "execution_count": 66,
   "id": "d4a1bde0-2adb-48f3-9af9-a948eb81daf5",
   "metadata": {},
   "outputs": [
    {
     "name": "stdout",
     "output_type": "stream",
     "text": [
      "title\n"
     ]
    },
    {
     "data": {
      "text/plain": [
       "neutral     0.456261\n",
       "positive    0.391894\n",
       "negative    0.151844\n",
       "Name: sent_textblob_label_title, dtype: float64"
      ]
     },
     "metadata": {},
     "output_type": "display_data"
    },
    {
     "name": "stdout",
     "output_type": "stream",
     "text": [
      "cleaned_title\n"
     ]
    },
    {
     "data": {
      "text/plain": [
       "neutral     0.456841\n",
       "positive    0.391225\n",
       "negative    0.151935\n",
       "Name: sent_textblob_label_cleaned_title, dtype: float64"
      ]
     },
     "metadata": {},
     "output_type": "display_data"
    },
    {
     "name": "stdout",
     "output_type": "stream",
     "text": [
      "cleaned_hashtag_title\n"
     ]
    },
    {
     "data": {
      "text/plain": [
       "neutral     0.460538\n",
       "positive    0.388217\n",
       "negative    0.151245\n",
       "Name: sent_textblob_label_cleaned_hashtag_title, dtype: float64"
      ]
     },
     "metadata": {},
     "output_type": "display_data"
    }
   ],
   "source": [
    "for twt_feature_name in ['title', 'cleaned_title','cleaned_hashtag_title']:\n",
    "    print(twt_feature_name)\n",
    "    tweet_emt_df = textblob_sentiment(data=tweet_emt_df, tweet_feature_name=twt_feature_name)\n",
    "    display(tweet_emt_df['sent_textblob_label_'+twt_feature_name].value_counts(normalize=True))"
   ]
  },
  {
   "cell_type": "code",
   "execution_count": 67,
   "id": "38cc3a7c-da20-4a69-af4a-b6760cdc9d66",
   "metadata": {},
   "outputs": [],
   "source": [
    "tweet_emt_df.to_csv('data/tweet_emt_df.csv')"
   ]
  },
  {
   "cell_type": "markdown",
   "id": "9c1dc858-df18-47a1-82bd-bafb4e0f272f",
   "metadata": {
    "jp-MarkdownHeadingCollapsed": true,
    "tags": []
   },
   "source": [
    "###### __Roberta sentiment__"
   ]
  },
  {
   "cell_type": "code",
   "execution_count": null,
   "id": "a3e77207-1b48-413e-b137-eaab03950910",
   "metadata": {},
   "outputs": [],
   "source": [
    "'''\n",
    "from transformers import AutoModelForSequenceClassification\n",
    "from transformers import AutoTokenizer\n",
    "import numpy as np\n",
    "from scipy.special import softmax\n",
    "import csv\n",
    "import urllib.request\n",
    "from tqdm import tqdm\n",
    "\n",
    "tqdm.pandas()\n",
    "'''"
   ]
  },
  {
   "cell_type": "code",
   "execution_count": null,
   "id": "681a970b-23bc-41d0-bed7-b32c31402855",
   "metadata": {},
   "outputs": [],
   "source": [
    "# Preprocess text (username and link placeholders)\n",
    "def preprocess(text):\n",
    "    new_text = []\n",
    " \n",
    "    for t in text.split(\" \"):\n",
    "        t = '@user' if t.startswith('@') and len(t) > 1 else t\n",
    "        t = 'http' if t.startswith('http') else t\n",
    "        new_text.append(t)\n",
    "    return \" \".join(new_text)\n",
    "\n",
    "# Tasks:\n",
    "# emoji, emotion, hate, irony, offensive, sentiment\n",
    "# stance/abortion, stance/atheism, stance/climate, stance/feminist, stance/hillary\n",
    "def get_roberta_model():\n",
    "    task='sentiment'\n",
    "    MODEL = f\"cardiffnlp/twitter-roberta-base-{task}\"\n",
    "\n",
    "    tokenizer = AutoTokenizer.from_pretrained(MODEL)\n",
    "\n",
    "    # download label mapping\n",
    "    labels=[]\n",
    "    mapping_link = f\"https://raw.githubusercontent.com/cardiffnlp/tweeteval/main/datasets/{task}/mapping.txt\"\n",
    "    with urllib.request.urlopen(mapping_link) as f:\n",
    "        html = f.read().decode('utf-8').split(\"\\n\")\n",
    "        csvreader = csv.reader(html, delimiter='\\t')\n",
    "    labels = [row[1] for row in csvreader if len(row) > 1]\n",
    "\n",
    "    # PT\n",
    "    model = AutoModelForSequenceClassification.from_pretrained(MODEL)\n",
    "    model.save_pretrained(MODEL)\n",
    "    return model, labels\n",
    "\n",
    "def sample_usage(model):\n",
    "    # sample roberta usage\n",
    "    text = \"Good night 😊\"\n",
    "    text = preprocess(text)\n",
    "    encoded_input = tokenizer(text, return_tensors='pt')\n",
    "    output = model(**encoded_input)\n",
    "    scores = output[0][0].detach().numpy()\n",
    "    scores = softmax(scores)\n",
    "    ranking = np.argsort(scores)\n",
    "    ranking = ranking[::-1]\n",
    "    for i in range(scores.shape[0]):\n",
    "        l = labels[ranking[i]]\n",
    "        s = scores[ranking[i]]\n",
    "        print(f\"{i+1}) {l} {np.round(float(s), 4)}\")\n",
    "        \n",
    "def apply_roberta(text):\n",
    "    text = preprocess(text)\n",
    "    encoded_input = tokenizer(text, return_tensors='pt')\n",
    "    output = model(**encoded_input)\n",
    "    scores = output[0][0].detach().numpy()\n",
    "    scores = softmax(scores)\n",
    "    return pd.Series(scores)"
   ]
  },
  {
   "cell_type": "code",
   "execution_count": null,
   "id": "e45718ee-3f99-46bc-8c25-ef4e9d7a40af",
   "metadata": {},
   "outputs": [],
   "source": [
    "#prefix ='sent_roberta_'\n",
    "#col_names = [prefix+'neg', prefix+'neut', prefix+'pos']\n",
    "#model, labels = get_roberta_model()\n",
    "#sample_usage(model)\n",
    "\n",
    "#tweet_emt_df[col_names] = tweet_emt_df['title'].apply(lambda x: apply_roberta(text=x))\n",
    "#tweet_emt_df[col_names] = tweet_emt_df['title'].progress_apply(lambda x: apply_roberta(text=x))\n",
    "#tweet_emt_df[prefix+'label'] =  tweet_emt_df[prefix+'pos'] #.apply(lambda x: assign_nltk_sentiment_label(x))"
   ]
  },
  {
   "cell_type": "markdown",
   "id": "19d00eca-cdec-49fb-9702-3d8284b81f10",
   "metadata": {
    "tags": []
   },
   "source": [
    "### Prediction Task 1: \n",
    "\n",
    "#### Time series: From tweet emotions expressed to players in time windows can we predict who is winning?"
   ]
  },
  {
   "cell_type": "code",
   "execution_count": 342,
   "id": "a616eee6-f477-4966-97f4-dc0be9474fe1",
   "metadata": {},
   "outputs": [],
   "source": [
    "twt_feature_name = 'cleaned_title'\n",
    "sentiment_feature = 'sent_nltk_vader_compound'+'_'+twt_feature_name   #sent_nltk_vader_compound, 'sent_textblob_polarity'\n",
    "round_num = 1\n",
    "time_interval_feature = f'post_time_{round_num}_intervals' #post_time_2_intervals\n"
   ]
  },
  {
   "cell_type": "code",
   "execution_count": 343,
   "id": "8bb2ceb6-8081-487a-bfbe-028fbc452aed",
   "metadata": {},
   "outputs": [
    {
     "data": {
      "text/html": [
       "<div>\n",
       "<style scoped>\n",
       "    .dataframe tbody tr th:only-of-type {\n",
       "        vertical-align: middle;\n",
       "    }\n",
       "\n",
       "    .dataframe tbody tr th {\n",
       "        vertical-align: top;\n",
       "    }\n",
       "\n",
       "    .dataframe thead th {\n",
       "        text-align: right;\n",
       "    }\n",
       "</style>\n",
       "<table border=\"1\" class=\"dataframe\">\n",
       "  <thead>\n",
       "    <tr style=\"text-align: right;\">\n",
       "      <th></th>\n",
       "      <th>citation_date_fixed</th>\n",
       "      <th>post_time_1_intervals</th>\n",
       "    </tr>\n",
       "  </thead>\n",
       "  <tbody>\n",
       "    <tr>\n",
       "      <th>205</th>\n",
       "      <td>2015-01-14 00:04:41-08:00</td>\n",
       "      <td>2015-01-14 00:04:00-08:00</td>\n",
       "    </tr>\n",
       "    <tr>\n",
       "      <th>203</th>\n",
       "      <td>2015-01-14 00:05:50-08:00</td>\n",
       "      <td>2015-01-14 00:05:00-08:00</td>\n",
       "    </tr>\n",
       "    <tr>\n",
       "      <th>208</th>\n",
       "      <td>2015-01-14 00:12:20-08:00</td>\n",
       "      <td>2015-01-14 00:12:00-08:00</td>\n",
       "    </tr>\n",
       "    <tr>\n",
       "      <th>209</th>\n",
       "      <td>2015-01-14 00:13:44-08:00</td>\n",
       "      <td>2015-01-14 00:13:00-08:00</td>\n",
       "    </tr>\n",
       "    <tr>\n",
       "      <th>210</th>\n",
       "      <td>2015-01-14 00:15:30-08:00</td>\n",
       "      <td>2015-01-14 00:15:00-08:00</td>\n",
       "    </tr>\n",
       "  </tbody>\n",
       "</table>\n",
       "</div>"
      ],
      "text/plain": [
       "          citation_date_fixed     post_time_1_intervals\n",
       "205 2015-01-14 00:04:41-08:00 2015-01-14 00:04:00-08:00\n",
       "203 2015-01-14 00:05:50-08:00 2015-01-14 00:05:00-08:00\n",
       "208 2015-01-14 00:12:20-08:00 2015-01-14 00:12:00-08:00\n",
       "209 2015-01-14 00:13:44-08:00 2015-01-14 00:13:00-08:00\n",
       "210 2015-01-14 00:15:30-08:00 2015-01-14 00:15:00-08:00"
      ]
     },
     "execution_count": 343,
     "metadata": {},
     "output_type": "execute_result"
    }
   ],
   "source": [
    "def timeround(tm, round_val=10):\n",
    "    tm += datetime.timedelta(minutes=int(round_val/2))\n",
    "    tm -= datetime.timedelta(minutes=tm.minute % round_val,\n",
    "                             seconds=tm.second,\n",
    "                             microseconds=tm.microsecond)\n",
    "    return tm\n",
    "\n",
    "tweet_emt_df[time_interval_feature] = tweet_emt_df['citation_date_fixed'].apply(lambda x: timeround(x, round_val=round_num))\n",
    "\n",
    "tweet_emt_df[['citation_date_fixed', time_interval_feature]].head(5)"
   ]
  },
  {
   "cell_type": "code",
   "execution_count": 344,
   "id": "c167dc5f-5918-4880-a8f9-4b8e82c3c375",
   "metadata": {},
   "outputs": [
    {
     "data": {
      "text/html": [
       "<div>\n",
       "<style scoped>\n",
       "    .dataframe tbody tr th:only-of-type {\n",
       "        vertical-align: middle;\n",
       "    }\n",
       "\n",
       "    .dataframe tbody tr th {\n",
       "        vertical-align: top;\n",
       "    }\n",
       "\n",
       "    .dataframe thead th {\n",
       "        text-align: right;\n",
       "    }\n",
       "</style>\n",
       "<table border=\"1\" class=\"dataframe\">\n",
       "  <thead>\n",
       "    <tr style=\"text-align: right;\">\n",
       "      <th></th>\n",
       "      <th>0</th>\n",
       "      <th>1</th>\n",
       "      <th>2</th>\n",
       "      <th>3</th>\n",
       "      <th>4</th>\n",
       "      <th>5</th>\n",
       "      <th>6</th>\n",
       "      <th>7</th>\n",
       "      <th>8</th>\n",
       "      <th>9</th>\n",
       "    </tr>\n",
       "  </thead>\n",
       "  <tbody>\n",
       "    <tr>\n",
       "      <th>post_time_1_intervals</th>\n",
       "      <td>2015-02-01 00:00:00-08:00</td>\n",
       "      <td>2015-02-01 00:01:00-08:00</td>\n",
       "      <td>2015-02-01 00:02:00-08:00</td>\n",
       "      <td>2015-02-01 00:03:00-08:00</td>\n",
       "      <td>2015-02-01 00:04:00-08:00</td>\n",
       "      <td>2015-02-01 00:05:00-08:00</td>\n",
       "      <td>2015-02-01 00:06:00-08:00</td>\n",
       "      <td>2015-02-01 00:07:00-08:00</td>\n",
       "      <td>2015-02-01 00:08:00-08:00</td>\n",
       "      <td>2015-02-01 00:09:00-08:00</td>\n",
       "    </tr>\n",
       "    <tr>\n",
       "      <th>hashtag</th>\n",
       "      <td>#gohawks</td>\n",
       "      <td>#gohawks</td>\n",
       "      <td>#gohawks</td>\n",
       "      <td>#gohawks</td>\n",
       "      <td>#gohawks</td>\n",
       "      <td>#gohawks</td>\n",
       "      <td>#gohawks</td>\n",
       "      <td>#gohawks</td>\n",
       "      <td>#gohawks</td>\n",
       "      <td>#gohawks</td>\n",
       "    </tr>\n",
       "    <tr>\n",
       "      <th>sent_nltk_vader_compound_cleaned_title</th>\n",
       "      <td>0.454317</td>\n",
       "      <td>0.182188</td>\n",
       "      <td>0.295843</td>\n",
       "      <td>-0.32855</td>\n",
       "      <td>0.278533</td>\n",
       "      <td>0.293383</td>\n",
       "      <td>0</td>\n",
       "      <td>0.435233</td>\n",
       "      <td>0.3118</td>\n",
       "      <td>0</td>\n",
       "    </tr>\n",
       "  </tbody>\n",
       "</table>\n",
       "</div>"
      ],
      "text/plain": [
       "                                                                0  \\\n",
       "post_time_1_intervals                   2015-02-01 00:00:00-08:00   \n",
       "hashtag                                                  #gohawks   \n",
       "sent_nltk_vader_compound_cleaned_title                   0.454317   \n",
       "\n",
       "                                                                1  \\\n",
       "post_time_1_intervals                   2015-02-01 00:01:00-08:00   \n",
       "hashtag                                                  #gohawks   \n",
       "sent_nltk_vader_compound_cleaned_title                   0.182188   \n",
       "\n",
       "                                                                2  \\\n",
       "post_time_1_intervals                   2015-02-01 00:02:00-08:00   \n",
       "hashtag                                                  #gohawks   \n",
       "sent_nltk_vader_compound_cleaned_title                   0.295843   \n",
       "\n",
       "                                                                3  \\\n",
       "post_time_1_intervals                   2015-02-01 00:03:00-08:00   \n",
       "hashtag                                                  #gohawks   \n",
       "sent_nltk_vader_compound_cleaned_title                   -0.32855   \n",
       "\n",
       "                                                                4  \\\n",
       "post_time_1_intervals                   2015-02-01 00:04:00-08:00   \n",
       "hashtag                                                  #gohawks   \n",
       "sent_nltk_vader_compound_cleaned_title                   0.278533   \n",
       "\n",
       "                                                                5  \\\n",
       "post_time_1_intervals                   2015-02-01 00:05:00-08:00   \n",
       "hashtag                                                  #gohawks   \n",
       "sent_nltk_vader_compound_cleaned_title                   0.293383   \n",
       "\n",
       "                                                                6  \\\n",
       "post_time_1_intervals                   2015-02-01 00:06:00-08:00   \n",
       "hashtag                                                  #gohawks   \n",
       "sent_nltk_vader_compound_cleaned_title                          0   \n",
       "\n",
       "                                                                7  \\\n",
       "post_time_1_intervals                   2015-02-01 00:07:00-08:00   \n",
       "hashtag                                                  #gohawks   \n",
       "sent_nltk_vader_compound_cleaned_title                   0.435233   \n",
       "\n",
       "                                                                8  \\\n",
       "post_time_1_intervals                   2015-02-01 00:08:00-08:00   \n",
       "hashtag                                                  #gohawks   \n",
       "sent_nltk_vader_compound_cleaned_title                     0.3118   \n",
       "\n",
       "                                                                9  \n",
       "post_time_1_intervals                   2015-02-01 00:09:00-08:00  \n",
       "hashtag                                                  #gohawks  \n",
       "sent_nltk_vader_compound_cleaned_title                          0  "
      ]
     },
     "execution_count": 344,
     "metadata": {},
     "output_type": "execute_result"
    }
   ],
   "source": [
    "sub_df = tweet_emt_df[(tweet_emt_df.citation_date_month==2) &\n",
    "                     (tweet_emt_df.citation_date_day==1)] #[tweet_emt_df.game_status=='during_game']\n",
    "fan_sentiments_df = pd.DataFrame(sub_df.groupby(by=[time_interval_feature,'hashtag'])[sentiment_feature].mean())\n",
    "fan_sentiments_df.reset_index(inplace=True)\n",
    "fan_sentiments_df.head(10).T"
   ]
  },
  {
   "cell_type": "markdown",
   "id": "0d6f5d14-216e-44e8-bf0d-af58c2571157",
   "metadata": {
    "jp-MarkdownHeadingCollapsed": true,
    "tags": []
   },
   "source": [
    "#### plots"
   ]
  },
  {
   "cell_type": "code",
   "execution_count": null,
   "id": "9d9110cc-0b68-4bfa-92c8-b78a64259eb1",
   "metadata": {},
   "outputs": [],
   "source": [
    "plt.figure(figsize=(20,10))\n",
    "sns.lineplot(data=sub_df, x=time_inteerval_feature, y=sentiment_feature, hue='hashtag', ci='sd' )"
   ]
  },
  {
   "cell_type": "code",
   "execution_count": null,
   "id": "30b2d415-e074-4cde-ba24-8dd6feab0fad",
   "metadata": {},
   "outputs": [],
   "source": [
    "plt.figure(figsize=(20,10))\n",
    "sns.lineplot(data =fan_sentiments_df, x=time_interval_feature, y=sentiment_feature, hue='hashtag', ci=None)"
   ]
  },
  {
   "cell_type": "code",
   "execution_count": null,
   "id": "f8c149c6-793e-4be1-b4c2-75e3c3a41bf4",
   "metadata": {},
   "outputs": [],
   "source": [
    "#pls =['Doug Baldwin', 'Dan Connolly', 'Tom Brady', 'Marshawn Lynch', 'Richard Sherman', 'Russell Wilson']\n",
    "\n",
    "pls =['Tom Brady', 'Marshawn Lynch', 'Richard Sherman', 'Russell Wilson']\n",
    "\n",
    "\n",
    "sub_df = tweet_emt_df[(tweet_emt_df.game_status=='during_game') &\n",
    "                      (tweet_emt_df.player_count==1) &\n",
    "                      (tweet_emt_df.players_str.isin(pls))]\n",
    "\n",
    "fan_sentiments_df = pd.DataFrame(sub_df.groupby(by=[time_interval_feature,'hashtag','players_str'])[sentiment_feature].mean())\n",
    "fan_sentiments_df.reset_index(inplace=True)\n",
    "fan_sentiments_df"
   ]
  },
  {
   "cell_type": "code",
   "execution_count": null,
   "id": "14f221d3-14db-4f79-8207-84afce1b6f7f",
   "metadata": {},
   "outputs": [],
   "source": [
    "plt.figure(figsize=(20,10))\n",
    "#fan_sentiments_df\n",
    "sns.lineplot(data = sub_df, x=time_interval_feature, y=sentiment_feature, hue='players_str' , ci=None,  marker='o')"
   ]
  },
  {
   "cell_type": "code",
   "execution_count": null,
   "id": "30f950f6-8254-41d5-9977-91d026dadcfe",
   "metadata": {},
   "outputs": [],
   "source": [
    "plt.figure(figsize=(20,10))\n",
    "\n",
    "sbf= sub_df[sub_df.players_str=='Tom Brady']\n",
    "sns.lineplot(data =sbf, x=time_interval_feature, #style='hashtag',\n",
    "             y=sentiment_feature, hue='hashtag', ci=None, marker='o')"
   ]
  },
  {
   "cell_type": "markdown",
   "id": "986e0a23-27c7-4d82-9598-ebe5c1f5acb5",
   "metadata": {},
   "source": [
    "emotions, mentions, hashtags, user # follower, friends count --> predict retweet count, gavorit count, "
   ]
  },
  {
   "cell_type": "code",
   "execution_count": null,
   "id": "e7853732-fcc6-4c9f-9d76-de86063e26eb",
   "metadata": {},
   "outputs": [],
   "source": [
    "# count, mention count. what predicts the impression of a tweet.\n",
    "# given a tweet\n",
    "\n"
   ]
  },
  {
   "cell_type": "code",
   "execution_count": null,
   "id": "dfb70a2d-cab2-4412-9f72-fc5431cba1c4",
   "metadata": {},
   "outputs": [],
   "source": []
  },
  {
   "cell_type": "markdown",
   "id": "57b8967c-da67-4615-8a09-7dacc075faaf",
   "metadata": {
    "tags": []
   },
   "source": [
    "### Creating labels based on time"
   ]
  },
  {
   "cell_type": "markdown",
   "id": "8ccb754d-d6a3-42a0-9574-f08f348fefd0",
   "metadata": {},
   "source": [
    "One of the biggest challenge I had is to map the real time with the game time. Game scores and significant events data available on the internet is relative to the game time such as first touch down is happend in second quarter 9:47 (example: https://www.espn.com/nfl/playbyplay/_/gameId/400749027 check all plays and scoring plays table). However, tweets are based on real time. \n",
    "\n",
    "Unfortunately, game clock isn't kept counting down continuously during game. Even though game is considered 1 hour with each quarter 15 minutes, I realized that the actual game took generally 2-3 hours. In the superbowl 49 case, it took 3h 36 minutes as written on the internet. Hence, I need to find a way to map the game time and real time where tweets are written.\n",
    "\n",
    "I tried several things:\n",
    "- My first approach was to find timestamps of the game (either significant event or scores), but after hours of search it lead me nowhere. Even when I checked the full Youtube video of the gamee, I realized that the clip was shortened where halftime shows removed, so that didn't helped either on mapping the game time to real time.\n",
    "\n",
    "- As a last resort, I decided to extract the score times from the tweets. I know the scores of the game, so with regex I searched the tweets where scores shared, and from those tweets I filtered and kept only the correct scores realized within the duration of the game (see scores_list). \n",
    "\n",
    "scores_list = ['7-0','7-7','14-7','14-14','14-17','14-24','21-24','28-24']\n",
    "\n",
    "This is especially important because there are some tweets with prediction scores of the game. Also, according to american footbal rules, once touchdown happens a team gets 6 points and then with extras that score can increase up to 1 or 2 more points. Some tweets were posted without the extra points (ie 14-23) so scores_list helped me filter out those as well since I want to be consistent with the Scoring Plays results I dounf in espn website (https://www.espn.com/nfl/playbyplay/_/gameId/400749027). I also limited the post date of the tweets after game start time to make sure to get real scores. \n",
    "\n",
    "Then, my assumption is that if a user tweets the score, then it means there is a change in score and one of the team has scored. And I could use the relative real time of the score by taking the time of the earliest tweet posted with that score. In this way for each score, I can have a relative real tweet times in PST time where each score happened. Of course, the earliest tweet might be posted couple minutes later and might not be exact with the score time. But this is the best approximation and map I could get with the available data I have.\n",
    "\n",
    "As a sanity check I also looked whether the found time frames fall in the relative place in the quarter the score happened. You can see the final dataframe with score and time mapping below:\n",
    "\n",
    "TODO check quarters of the scores.."
   ]
  },
  {
   "cell_type": "code",
   "execution_count": 345,
   "id": "47f37092-1f00-4b01-a3d7-c23f29d4dd9a",
   "metadata": {},
   "outputs": [
    {
     "data": {
      "text/html": [
       "<div>\n",
       "<style scoped>\n",
       "    .dataframe tbody tr th:only-of-type {\n",
       "        vertical-align: middle;\n",
       "    }\n",
       "\n",
       "    .dataframe tbody tr th {\n",
       "        vertical-align: top;\n",
       "    }\n",
       "\n",
       "    .dataframe thead th {\n",
       "        text-align: right;\n",
       "    }\n",
       "</style>\n",
       "<table border=\"1\" class=\"dataframe\">\n",
       "  <thead>\n",
       "    <tr style=\"text-align: right;\">\n",
       "      <th></th>\n",
       "      <th>score</th>\n",
       "      <th>citation_date_fixed</th>\n",
       "      <th>leading</th>\n",
       "      <th>post_time_1_intervals</th>\n",
       "    </tr>\n",
       "  </thead>\n",
       "  <tbody>\n",
       "    <tr>\n",
       "      <th>0</th>\n",
       "      <td>0-0</td>\n",
       "      <td>2015-02-01 15:30:00-08:00</td>\n",
       "      <td>Tie</td>\n",
       "      <td>2015-02-01 15:30:00-08:00</td>\n",
       "    </tr>\n",
       "    <tr>\n",
       "      <th>0</th>\n",
       "      <td>7-0</td>\n",
       "      <td>2015-02-01 16:12:34-08:00</td>\n",
       "      <td>Patriots</td>\n",
       "      <td>2015-02-01 16:12:00-08:00</td>\n",
       "    </tr>\n",
       "    <tr>\n",
       "      <th>1</th>\n",
       "      <td>7-7</td>\n",
       "      <td>2015-02-01 16:33:56-08:00</td>\n",
       "      <td>Tie</td>\n",
       "      <td>2015-02-01 16:33:00-08:00</td>\n",
       "    </tr>\n",
       "    <tr>\n",
       "      <th>2</th>\n",
       "      <td>14-7</td>\n",
       "      <td>2015-02-01 16:48:33-08:00</td>\n",
       "      <td>Patriots</td>\n",
       "      <td>2015-02-01 16:48:00-08:00</td>\n",
       "    </tr>\n",
       "    <tr>\n",
       "      <th>3</th>\n",
       "      <td>14-14</td>\n",
       "      <td>2015-02-01 16:59:57-08:00</td>\n",
       "      <td>Tie</td>\n",
       "      <td>2015-02-01 16:59:00-08:00</td>\n",
       "    </tr>\n",
       "    <tr>\n",
       "      <th>4</th>\n",
       "      <td>14-17</td>\n",
       "      <td>2015-02-01 17:37:23-08:00</td>\n",
       "      <td>Seahawks</td>\n",
       "      <td>2015-02-01 17:37:00-08:00</td>\n",
       "    </tr>\n",
       "    <tr>\n",
       "      <th>5</th>\n",
       "      <td>14-24</td>\n",
       "      <td>2015-02-01 18:15:38-08:00</td>\n",
       "      <td>Seahawks</td>\n",
       "      <td>2015-02-01 18:15:00-08:00</td>\n",
       "    </tr>\n",
       "    <tr>\n",
       "      <th>6</th>\n",
       "      <td>21-24</td>\n",
       "      <td>2015-02-01 18:29:34-08:00</td>\n",
       "      <td>Seahawks</td>\n",
       "      <td>2015-02-01 18:29:00-08:00</td>\n",
       "    </tr>\n",
       "    <tr>\n",
       "      <th>7</th>\n",
       "      <td>28-24</td>\n",
       "      <td>2015-02-01 18:48:19-08:00</td>\n",
       "      <td>Patriots</td>\n",
       "      <td>2015-02-01 18:48:00-08:00</td>\n",
       "    </tr>\n",
       "  </tbody>\n",
       "</table>\n",
       "</div>"
      ],
      "text/plain": [
       "   score       citation_date_fixed   leading     post_time_1_intervals\n",
       "0    0-0 2015-02-01 15:30:00-08:00       Tie 2015-02-01 15:30:00-08:00\n",
       "0    7-0 2015-02-01 16:12:34-08:00  Patriots 2015-02-01 16:12:00-08:00\n",
       "1    7-7 2015-02-01 16:33:56-08:00       Tie 2015-02-01 16:33:00-08:00\n",
       "2   14-7 2015-02-01 16:48:33-08:00  Patriots 2015-02-01 16:48:00-08:00\n",
       "3  14-14 2015-02-01 16:59:57-08:00       Tie 2015-02-01 16:59:00-08:00\n",
       "4  14-17 2015-02-01 17:37:23-08:00  Seahawks 2015-02-01 17:37:00-08:00\n",
       "5  14-24 2015-02-01 18:15:38-08:00  Seahawks 2015-02-01 18:15:00-08:00\n",
       "6  21-24 2015-02-01 18:29:34-08:00  Seahawks 2015-02-01 18:29:00-08:00\n",
       "7  28-24 2015-02-01 18:48:19-08:00  Patriots 2015-02-01 18:48:00-08:00"
      ]
     },
     "metadata": {},
     "output_type": "display_data"
    }
   ],
   "source": [
    "scores_list = ['7-0','7-7', '14-7','14-14','14-17','14-24','21-24','28-24']\n",
    "\n",
    "# regex to find scores of the game written by users in the tweets\n",
    "strs = r'(0|[1-9]\\d*)-(0|[1-9]\\d*)' #'(0|[1-9]\\d*)-(0|[1-9]\\d*)|(0|[1-9]\\d*) - (0|[1-9]\\d*)' #'touchdown|td|Touch down|Touchdown|TD'\n",
    "sub_twt_df = tweet_emt_df[(tweet_emt_df['tweet.text'].str.contains(strs)) &\n",
    "                          (tweet_emt_df['citation_date_fixed'] > GAME_START)] \n",
    "\n",
    "res = sub_twt_df['tweet.text'].str.extract(strs, expand=True)\n",
    "res['score'] = res.apply(lambda x: str(x[0])+'-'+str(x[1]), axis=1)\n",
    "res = res[res.score.isin(scores_list)]\n",
    "\n",
    "sub_twt_df = pd.concat([sub_twt_df,res], axis=1)\n",
    "\n",
    "cls = ['citation_date_fixed', 'score']\n",
    "score_not_null = sub_twt_df[sub_twt_df.score.notnull()]\n",
    "#display(score_not_null[cls])\n",
    "\n",
    "score_time_df = score_not_null[cls].groupby(by=['score']).first()\n",
    "score_time_df = score_time_df.reindex(scores_list)\n",
    "score_time_df.reset_index(inplace=True)\n",
    "def find_leading(score):\n",
    "    scores = score.split('-')\n",
    "    pat_score = int(scores[0])\n",
    "    hawk_score = int(scores[1])\n",
    "    leading=''\n",
    "    if pat_score==hawk_score:\n",
    "        leading='Tie' \n",
    "    elif pat_score > hawk_score:\n",
    "        leading='Patriots'\n",
    "    else:\n",
    "        leading='Seahawks'\n",
    "    return leading\n",
    "score_time_df['leading']= score_time_df.score.apply(lambda x: find_leading(x))\n",
    "start = pd.DataFrame([['0-0', GAME_START, 'Tie' ]], columns=['score', 'citation_date_fixed', 'leading'])\n",
    "score_time_df = pd.concat([start, score_time_df])\n",
    "score_time_df[time_interval_feature] = score_time_df['citation_date_fixed'].apply(lambda x: timeround(x, round_val=round_num))\n",
    "display(score_time_df)"
   ]
  },
  {
   "cell_type": "markdown",
   "id": "c276f9a0-82a9-4cc3-8a31-4047d0c53b46",
   "metadata": {},
   "source": [
    "Next step is then assigning labels for each tweet: two columns created for each tweet 1- game score relative to when the tweet is posted and 2- who is leading the game (tie, seahawks, patriots) in the relative time of tweet posted. \n"
   ]
  },
  {
   "cell_type": "markdown",
   "id": "23a6b62b-6b5a-449f-b0d9-780e7fa56a9f",
   "metadata": {},
   "source": [
    "__How to Round the time, create windows__?\n",
    "TODO explain\n"
   ]
  },
  {
   "cell_type": "code",
   "execution_count": 359,
   "id": "3d0e2d88-60d2-4646-a007-5eacf2416080",
   "metadata": {},
   "outputs": [
    {
     "data": {
      "text/html": [
       "<div>\n",
       "<style scoped>\n",
       "    .dataframe tbody tr th:only-of-type {\n",
       "        vertical-align: middle;\n",
       "    }\n",
       "\n",
       "    .dataframe tbody tr th {\n",
       "        vertical-align: top;\n",
       "    }\n",
       "\n",
       "    .dataframe thead th {\n",
       "        text-align: right;\n",
       "    }\n",
       "</style>\n",
       "<table border=\"1\" class=\"dataframe\">\n",
       "  <thead>\n",
       "    <tr style=\"text-align: right;\">\n",
       "      <th></th>\n",
       "      <th>post_time_1_intervals</th>\n",
       "      <th>hashtag</th>\n",
       "      <th>player2</th>\n",
       "      <th>sent_nltk_vader_compound_cleaned_title</th>\n",
       "    </tr>\n",
       "  </thead>\n",
       "  <tbody>\n",
       "    <tr>\n",
       "      <th>0</th>\n",
       "      <td>2015-02-01 15:30:00-08:00</td>\n",
       "      <td>#gohawks</td>\n",
       "      <td>#gohawks</td>\n",
       "      <td>0.124941</td>\n",
       "    </tr>\n",
       "    <tr>\n",
       "      <th>1</th>\n",
       "      <td>2015-02-01 15:30:00-08:00</td>\n",
       "      <td>#gohawks</td>\n",
       "      <td>Chris Matthews</td>\n",
       "      <td>0.866500</td>\n",
       "    </tr>\n",
       "    <tr>\n",
       "      <th>2</th>\n",
       "      <td>2015-02-01 15:30:00-08:00</td>\n",
       "      <td>#gohawks</td>\n",
       "      <td>Earl Thomas</td>\n",
       "      <td>0.599400</td>\n",
       "    </tr>\n",
       "    <tr>\n",
       "      <th>3</th>\n",
       "      <td>2015-02-01 15:30:00-08:00</td>\n",
       "      <td>#gohawks</td>\n",
       "      <td>Kam Chancellor</td>\n",
       "      <td>0.311100</td>\n",
       "    </tr>\n",
       "    <tr>\n",
       "      <th>4</th>\n",
       "      <td>2015-02-01 15:30:00-08:00</td>\n",
       "      <td>#gohawks</td>\n",
       "      <td>Marshawn Lynch</td>\n",
       "      <td>-0.224700</td>\n",
       "    </tr>\n",
       "    <tr>\n",
       "      <th>...</th>\n",
       "      <td>...</td>\n",
       "      <td>...</td>\n",
       "      <td>...</td>\n",
       "      <td>...</td>\n",
       "    </tr>\n",
       "    <tr>\n",
       "      <th>2167</th>\n",
       "      <td>2015-02-01 19:05:00-08:00</td>\n",
       "      <td>#gohawks</td>\n",
       "      <td>Russell Wilson</td>\n",
       "      <td>0.700300</td>\n",
       "    </tr>\n",
       "    <tr>\n",
       "      <th>2168</th>\n",
       "      <td>2015-02-01 19:05:00-08:00</td>\n",
       "      <td>#gohawks</td>\n",
       "      <td>Tom Brady</td>\n",
       "      <td>-0.524750</td>\n",
       "    </tr>\n",
       "    <tr>\n",
       "      <th>2169</th>\n",
       "      <td>2015-02-01 19:05:00-08:00</td>\n",
       "      <td>#gopatriots</td>\n",
       "      <td>#gopatriots</td>\n",
       "      <td>0.002743</td>\n",
       "    </tr>\n",
       "    <tr>\n",
       "      <th>2170</th>\n",
       "      <td>2015-02-01 19:05:00-08:00</td>\n",
       "      <td>#gopatriots</td>\n",
       "      <td>Dan Connolly</td>\n",
       "      <td>-0.700300</td>\n",
       "    </tr>\n",
       "    <tr>\n",
       "      <th>2171</th>\n",
       "      <td>2015-02-01 19:05:00-08:00</td>\n",
       "      <td>#gopatriots</td>\n",
       "      <td>Tom Brady</td>\n",
       "      <td>-0.307250</td>\n",
       "    </tr>\n",
       "  </tbody>\n",
       "</table>\n",
       "<p>2172 rows × 4 columns</p>\n",
       "</div>"
      ],
      "text/plain": [
       "         post_time_1_intervals      hashtag         player2  \\\n",
       "0    2015-02-01 15:30:00-08:00     #gohawks        #gohawks   \n",
       "1    2015-02-01 15:30:00-08:00     #gohawks  Chris Matthews   \n",
       "2    2015-02-01 15:30:00-08:00     #gohawks     Earl Thomas   \n",
       "3    2015-02-01 15:30:00-08:00     #gohawks  Kam Chancellor   \n",
       "4    2015-02-01 15:30:00-08:00     #gohawks  Marshawn Lynch   \n",
       "...                        ...          ...             ...   \n",
       "2167 2015-02-01 19:05:00-08:00     #gohawks  Russell Wilson   \n",
       "2168 2015-02-01 19:05:00-08:00     #gohawks       Tom Brady   \n",
       "2169 2015-02-01 19:05:00-08:00  #gopatriots     #gopatriots   \n",
       "2170 2015-02-01 19:05:00-08:00  #gopatriots    Dan Connolly   \n",
       "2171 2015-02-01 19:05:00-08:00  #gopatriots       Tom Brady   \n",
       "\n",
       "      sent_nltk_vader_compound_cleaned_title  \n",
       "0                                   0.124941  \n",
       "1                                   0.866500  \n",
       "2                                   0.599400  \n",
       "3                                   0.311100  \n",
       "4                                  -0.224700  \n",
       "...                                      ...  \n",
       "2167                                0.700300  \n",
       "2168                               -0.524750  \n",
       "2169                                0.002743  \n",
       "2170                               -0.700300  \n",
       "2171                               -0.307250  \n",
       "\n",
       "[2172 rows x 4 columns]"
      ]
     },
     "execution_count": 359,
     "metadata": {},
     "output_type": "execute_result"
    }
   ],
   "source": [
    "pls = list(players_df.Player) \n",
    "player_feature = 'player2'\n",
    "sub_df = tweet_emt_df[(tweet_emt_df.game_status=='during_game') \n",
    "                      # & (tweet_emt_df.player_count==1) \n",
    "                      #& (tweet_emt_df.players_str.isin(pls))\n",
    "                     ]\n",
    "\n",
    "fan_sentiments_df = pd.DataFrame(sub_df.groupby(by=[time_interval_feature,'hashtag',player_feature ])[sentiment_feature].mean())\n",
    "fan_sentiments_df.reset_index(inplace=True)\n",
    "fan_sentiments_df"
   ]
  },
  {
   "cell_type": "code",
   "execution_count": 361,
   "id": "c4bd918a-256d-441d-a073-422fd51793b3",
   "metadata": {},
   "outputs": [
    {
     "data": {
      "text/html": [
       "<div>\n",
       "<style scoped>\n",
       "    .dataframe tbody tr th:only-of-type {\n",
       "        vertical-align: middle;\n",
       "    }\n",
       "\n",
       "    .dataframe tbody tr th {\n",
       "        vertical-align: top;\n",
       "    }\n",
       "\n",
       "    .dataframe thead th {\n",
       "        text-align: right;\n",
       "    }\n",
       "</style>\n",
       "<table border=\"1\" class=\"dataframe\">\n",
       "  <thead>\n",
       "    <tr style=\"text-align: right;\">\n",
       "      <th>player2</th>\n",
       "      <th>post_time_1_intervals</th>\n",
       "      <th>#gohawks</th>\n",
       "      <th>#gopatriots</th>\n",
       "      <th>Bobby Wagner</th>\n",
       "      <th>Brandon Browner</th>\n",
       "      <th>Brandon LaFell</th>\n",
       "      <th>Bruce Irvin</th>\n",
       "      <th>Bryan Walters</th>\n",
       "      <th>Byron Maxwell</th>\n",
       "      <th>Chandler Jones</th>\n",
       "      <th>...</th>\n",
       "      <th>Robert Turbin</th>\n",
       "      <th>Russell Wilson</th>\n",
       "      <th>Ryan Wendell</th>\n",
       "      <th>Sebastian Vollmer</th>\n",
       "      <th>Shane Vereen</th>\n",
       "      <th>Tom Brady</th>\n",
       "      <th>Tony McDaniel</th>\n",
       "      <th>Vince Wilfork</th>\n",
       "      <th>score</th>\n",
       "      <th>leading</th>\n",
       "    </tr>\n",
       "  </thead>\n",
       "  <tbody>\n",
       "    <tr>\n",
       "      <th>0</th>\n",
       "      <td>2015-02-01 15:30:00-08:00</td>\n",
       "      <td>0.124941</td>\n",
       "      <td>0.084073</td>\n",
       "      <td>NaN</td>\n",
       "      <td>NaN</td>\n",
       "      <td>NaN</td>\n",
       "      <td>NaN</td>\n",
       "      <td>NaN</td>\n",
       "      <td>NaN</td>\n",
       "      <td>NaN</td>\n",
       "      <td>...</td>\n",
       "      <td>NaN</td>\n",
       "      <td>0.000000</td>\n",
       "      <td>NaN</td>\n",
       "      <td>NaN</td>\n",
       "      <td>NaN</td>\n",
       "      <td>-0.049257</td>\n",
       "      <td>NaN</td>\n",
       "      <td>NaN</td>\n",
       "      <td>0-0</td>\n",
       "      <td>Tie</td>\n",
       "    </tr>\n",
       "    <tr>\n",
       "      <th>1</th>\n",
       "      <td>2015-02-01 15:31:00-08:00</td>\n",
       "      <td>0.079338</td>\n",
       "      <td>0.033060</td>\n",
       "      <td>NaN</td>\n",
       "      <td>NaN</td>\n",
       "      <td>NaN</td>\n",
       "      <td>NaN</td>\n",
       "      <td>NaN</td>\n",
       "      <td>NaN</td>\n",
       "      <td>NaN</td>\n",
       "      <td>...</td>\n",
       "      <td>NaN</td>\n",
       "      <td>0.297733</td>\n",
       "      <td>NaN</td>\n",
       "      <td>NaN</td>\n",
       "      <td>NaN</td>\n",
       "      <td>-0.123931</td>\n",
       "      <td>NaN</td>\n",
       "      <td>NaN</td>\n",
       "      <td>0-0</td>\n",
       "      <td>Tie</td>\n",
       "    </tr>\n",
       "    <tr>\n",
       "      <th>2</th>\n",
       "      <td>2015-02-01 15:32:00-08:00</td>\n",
       "      <td>0.170503</td>\n",
       "      <td>0.244226</td>\n",
       "      <td>NaN</td>\n",
       "      <td>NaN</td>\n",
       "      <td>NaN</td>\n",
       "      <td>0.0</td>\n",
       "      <td>NaN</td>\n",
       "      <td>NaN</td>\n",
       "      <td>-0.25</td>\n",
       "      <td>...</td>\n",
       "      <td>NaN</td>\n",
       "      <td>0.000000</td>\n",
       "      <td>NaN</td>\n",
       "      <td>NaN</td>\n",
       "      <td>NaN</td>\n",
       "      <td>-0.068883</td>\n",
       "      <td>NaN</td>\n",
       "      <td>NaN</td>\n",
       "      <td>0-0</td>\n",
       "      <td>Tie</td>\n",
       "    </tr>\n",
       "    <tr>\n",
       "      <th>3</th>\n",
       "      <td>2015-02-01 15:33:00-08:00</td>\n",
       "      <td>0.219314</td>\n",
       "      <td>0.277130</td>\n",
       "      <td>NaN</td>\n",
       "      <td>NaN</td>\n",
       "      <td>NaN</td>\n",
       "      <td>NaN</td>\n",
       "      <td>NaN</td>\n",
       "      <td>NaN</td>\n",
       "      <td>NaN</td>\n",
       "      <td>...</td>\n",
       "      <td>NaN</td>\n",
       "      <td>0.432900</td>\n",
       "      <td>NaN</td>\n",
       "      <td>NaN</td>\n",
       "      <td>NaN</td>\n",
       "      <td>0.113200</td>\n",
       "      <td>NaN</td>\n",
       "      <td>NaN</td>\n",
       "      <td>0-0</td>\n",
       "      <td>Tie</td>\n",
       "    </tr>\n",
       "    <tr>\n",
       "      <th>4</th>\n",
       "      <td>2015-02-01 15:34:00-08:00</td>\n",
       "      <td>0.163570</td>\n",
       "      <td>0.183339</td>\n",
       "      <td>NaN</td>\n",
       "      <td>NaN</td>\n",
       "      <td>NaN</td>\n",
       "      <td>NaN</td>\n",
       "      <td>NaN</td>\n",
       "      <td>NaN</td>\n",
       "      <td>NaN</td>\n",
       "      <td>...</td>\n",
       "      <td>NaN</td>\n",
       "      <td>0.310950</td>\n",
       "      <td>NaN</td>\n",
       "      <td>NaN</td>\n",
       "      <td>NaN</td>\n",
       "      <td>0.103317</td>\n",
       "      <td>-0.07125</td>\n",
       "      <td>NaN</td>\n",
       "      <td>0-0</td>\n",
       "      <td>Tie</td>\n",
       "    </tr>\n",
       "    <tr>\n",
       "      <th>...</th>\n",
       "      <td>...</td>\n",
       "      <td>...</td>\n",
       "      <td>...</td>\n",
       "      <td>...</td>\n",
       "      <td>...</td>\n",
       "      <td>...</td>\n",
       "      <td>...</td>\n",
       "      <td>...</td>\n",
       "      <td>...</td>\n",
       "      <td>...</td>\n",
       "      <td>...</td>\n",
       "      <td>...</td>\n",
       "      <td>...</td>\n",
       "      <td>...</td>\n",
       "      <td>...</td>\n",
       "      <td>...</td>\n",
       "      <td>...</td>\n",
       "      <td>...</td>\n",
       "      <td>...</td>\n",
       "      <td>...</td>\n",
       "      <td>...</td>\n",
       "    </tr>\n",
       "    <tr>\n",
       "      <th>211</th>\n",
       "      <td>2015-02-01 19:01:00-08:00</td>\n",
       "      <td>0.155056</td>\n",
       "      <td>0.098866</td>\n",
       "      <td>NaN</td>\n",
       "      <td>NaN</td>\n",
       "      <td>NaN</td>\n",
       "      <td>NaN</td>\n",
       "      <td>NaN</td>\n",
       "      <td>NaN</td>\n",
       "      <td>NaN</td>\n",
       "      <td>...</td>\n",
       "      <td>NaN</td>\n",
       "      <td>0.210750</td>\n",
       "      <td>NaN</td>\n",
       "      <td>NaN</td>\n",
       "      <td>-0.6876</td>\n",
       "      <td>0.171711</td>\n",
       "      <td>NaN</td>\n",
       "      <td>NaN</td>\n",
       "      <td>28-24</td>\n",
       "      <td>Patriots</td>\n",
       "    </tr>\n",
       "    <tr>\n",
       "      <th>212</th>\n",
       "      <td>2015-02-01 19:02:00-08:00</td>\n",
       "      <td>0.017640</td>\n",
       "      <td>0.116917</td>\n",
       "      <td>NaN</td>\n",
       "      <td>NaN</td>\n",
       "      <td>NaN</td>\n",
       "      <td>NaN</td>\n",
       "      <td>NaN</td>\n",
       "      <td>NaN</td>\n",
       "      <td>NaN</td>\n",
       "      <td>...</td>\n",
       "      <td>NaN</td>\n",
       "      <td>-0.419900</td>\n",
       "      <td>NaN</td>\n",
       "      <td>NaN</td>\n",
       "      <td>NaN</td>\n",
       "      <td>0.238800</td>\n",
       "      <td>NaN</td>\n",
       "      <td>NaN</td>\n",
       "      <td>28-24</td>\n",
       "      <td>Patriots</td>\n",
       "    </tr>\n",
       "    <tr>\n",
       "      <th>213</th>\n",
       "      <td>2015-02-01 19:03:00-08:00</td>\n",
       "      <td>0.038136</td>\n",
       "      <td>0.242348</td>\n",
       "      <td>NaN</td>\n",
       "      <td>NaN</td>\n",
       "      <td>NaN</td>\n",
       "      <td>NaN</td>\n",
       "      <td>NaN</td>\n",
       "      <td>NaN</td>\n",
       "      <td>NaN</td>\n",
       "      <td>...</td>\n",
       "      <td>NaN</td>\n",
       "      <td>0.457400</td>\n",
       "      <td>NaN</td>\n",
       "      <td>NaN</td>\n",
       "      <td>NaN</td>\n",
       "      <td>0.349900</td>\n",
       "      <td>NaN</td>\n",
       "      <td>NaN</td>\n",
       "      <td>28-24</td>\n",
       "      <td>Patriots</td>\n",
       "    </tr>\n",
       "    <tr>\n",
       "      <th>214</th>\n",
       "      <td>2015-02-01 19:04:00-08:00</td>\n",
       "      <td>0.023108</td>\n",
       "      <td>0.035204</td>\n",
       "      <td>NaN</td>\n",
       "      <td>NaN</td>\n",
       "      <td>NaN</td>\n",
       "      <td>NaN</td>\n",
       "      <td>NaN</td>\n",
       "      <td>NaN</td>\n",
       "      <td>NaN</td>\n",
       "      <td>...</td>\n",
       "      <td>NaN</td>\n",
       "      <td>NaN</td>\n",
       "      <td>NaN</td>\n",
       "      <td>NaN</td>\n",
       "      <td>NaN</td>\n",
       "      <td>0.297120</td>\n",
       "      <td>NaN</td>\n",
       "      <td>NaN</td>\n",
       "      <td>28-24</td>\n",
       "      <td>Patriots</td>\n",
       "    </tr>\n",
       "    <tr>\n",
       "      <th>215</th>\n",
       "      <td>2015-02-01 19:05:00-08:00</td>\n",
       "      <td>0.193938</td>\n",
       "      <td>0.002743</td>\n",
       "      <td>NaN</td>\n",
       "      <td>NaN</td>\n",
       "      <td>NaN</td>\n",
       "      <td>NaN</td>\n",
       "      <td>NaN</td>\n",
       "      <td>NaN</td>\n",
       "      <td>NaN</td>\n",
       "      <td>...</td>\n",
       "      <td>NaN</td>\n",
       "      <td>0.700300</td>\n",
       "      <td>NaN</td>\n",
       "      <td>NaN</td>\n",
       "      <td>NaN</td>\n",
       "      <td>-0.416000</td>\n",
       "      <td>NaN</td>\n",
       "      <td>NaN</td>\n",
       "      <td>28-24</td>\n",
       "      <td>Patriots</td>\n",
       "    </tr>\n",
       "  </tbody>\n",
       "</table>\n",
       "<p>216 rows × 49 columns</p>\n",
       "</div>"
      ],
      "text/plain": [
       "player2     post_time_1_intervals  #gohawks  #gopatriots  Bobby Wagner  \\\n",
       "0       2015-02-01 15:30:00-08:00  0.124941     0.084073           NaN   \n",
       "1       2015-02-01 15:31:00-08:00  0.079338     0.033060           NaN   \n",
       "2       2015-02-01 15:32:00-08:00  0.170503     0.244226           NaN   \n",
       "3       2015-02-01 15:33:00-08:00  0.219314     0.277130           NaN   \n",
       "4       2015-02-01 15:34:00-08:00  0.163570     0.183339           NaN   \n",
       "..                            ...       ...          ...           ...   \n",
       "211     2015-02-01 19:01:00-08:00  0.155056     0.098866           NaN   \n",
       "212     2015-02-01 19:02:00-08:00  0.017640     0.116917           NaN   \n",
       "213     2015-02-01 19:03:00-08:00  0.038136     0.242348           NaN   \n",
       "214     2015-02-01 19:04:00-08:00  0.023108     0.035204           NaN   \n",
       "215     2015-02-01 19:05:00-08:00  0.193938     0.002743           NaN   \n",
       "\n",
       "player2  Brandon Browner  Brandon LaFell  Bruce Irvin  Bryan Walters  \\\n",
       "0                    NaN             NaN          NaN            NaN   \n",
       "1                    NaN             NaN          NaN            NaN   \n",
       "2                    NaN             NaN          0.0            NaN   \n",
       "3                    NaN             NaN          NaN            NaN   \n",
       "4                    NaN             NaN          NaN            NaN   \n",
       "..                   ...             ...          ...            ...   \n",
       "211                  NaN             NaN          NaN            NaN   \n",
       "212                  NaN             NaN          NaN            NaN   \n",
       "213                  NaN             NaN          NaN            NaN   \n",
       "214                  NaN             NaN          NaN            NaN   \n",
       "215                  NaN             NaN          NaN            NaN   \n",
       "\n",
       "player2  Byron Maxwell  Chandler Jones  ...  Robert Turbin  Russell Wilson  \\\n",
       "0                  NaN             NaN  ...            NaN        0.000000   \n",
       "1                  NaN             NaN  ...            NaN        0.297733   \n",
       "2                  NaN           -0.25  ...            NaN        0.000000   \n",
       "3                  NaN             NaN  ...            NaN        0.432900   \n",
       "4                  NaN             NaN  ...            NaN        0.310950   \n",
       "..                 ...             ...  ...            ...             ...   \n",
       "211                NaN             NaN  ...            NaN        0.210750   \n",
       "212                NaN             NaN  ...            NaN       -0.419900   \n",
       "213                NaN             NaN  ...            NaN        0.457400   \n",
       "214                NaN             NaN  ...            NaN             NaN   \n",
       "215                NaN             NaN  ...            NaN        0.700300   \n",
       "\n",
       "player2  Ryan Wendell  Sebastian Vollmer  Shane Vereen  Tom Brady  \\\n",
       "0                 NaN                NaN           NaN  -0.049257   \n",
       "1                 NaN                NaN           NaN  -0.123931   \n",
       "2                 NaN                NaN           NaN  -0.068883   \n",
       "3                 NaN                NaN           NaN   0.113200   \n",
       "4                 NaN                NaN           NaN   0.103317   \n",
       "..                ...                ...           ...        ...   \n",
       "211               NaN                NaN       -0.6876   0.171711   \n",
       "212               NaN                NaN           NaN   0.238800   \n",
       "213               NaN                NaN           NaN   0.349900   \n",
       "214               NaN                NaN           NaN   0.297120   \n",
       "215               NaN                NaN           NaN  -0.416000   \n",
       "\n",
       "player2  Tony McDaniel  Vince Wilfork  score   leading  \n",
       "0                  NaN            NaN    0-0       Tie  \n",
       "1                  NaN            NaN    0-0       Tie  \n",
       "2                  NaN            NaN    0-0       Tie  \n",
       "3                  NaN            NaN    0-0       Tie  \n",
       "4             -0.07125            NaN    0-0       Tie  \n",
       "..                 ...            ...    ...       ...  \n",
       "211                NaN            NaN  28-24  Patriots  \n",
       "212                NaN            NaN  28-24  Patriots  \n",
       "213                NaN            NaN  28-24  Patriots  \n",
       "214                NaN            NaN  28-24  Patriots  \n",
       "215                NaN            NaN  28-24  Patriots  \n",
       "\n",
       "[216 rows x 49 columns]"
      ]
     },
     "execution_count": 361,
     "metadata": {},
     "output_type": "execute_result"
    }
   ],
   "source": [
    "def get_label(post_date):\n",
    "    df = score_time_df[score_time_df[time_interval_feature] <= post_date]\n",
    "    scr =  '' if df.empty else df.score.values[-1]\n",
    "    lbl =  '' if df.empty else df.leading.values[-1]\n",
    "    return [scr, lbl]\n",
    "\n",
    "\n",
    "model_data = fan_sentiments_df.pivot_table(columns =[player_feature, ], index=[time_interval_feature], values=[sentiment_feature])\n",
    "model_data.reset_index(inplace=True)\n",
    "model_data = model_data.sort_values(by=[time_interval_feature])\n",
    "model_data.columns = model_data.columns.droplevel(0)\n",
    "model_data.rename(columns={'':time_interval_feature}, inplace=True)\n",
    "model_data[['score','leading']] = model_data.apply(lambda x: get_label(x[time_interval_feature]), axis=1, result_type='expand')\n",
    "model_data"
   ]
  },
  {
   "cell_type": "code",
   "execution_count": null,
   "id": "718ee4d6-dcf6-4e1a-b028-199f06e15ef9",
   "metadata": {},
   "outputs": [],
   "source": []
  },
  {
   "cell_type": "markdown",
   "id": "0a9ba95d-f660-4340-97e6-f7c24c7063da",
   "metadata": {
    "jp-MarkdownHeadingCollapsed": true,
    "tags": []
   },
   "source": [
    "#### task 1 modelling"
   ]
  },
  {
   "cell_type": "code",
   "execution_count": 362,
   "id": "ebd3fb9f-0185-4b23-be37-7190e3d19e7b",
   "metadata": {},
   "outputs": [],
   "source": [
    "def evaluate(model, X, y, cv):\n",
    "    cv_results = cross_validate(\n",
    "        model,\n",
    "        X,\n",
    "        y,\n",
    "        cv=cv,\n",
    "        return_train_score=True,\n",
    "        return_estimator=True\n",
    "        #scoring=[\"accuracy\", \"f1\"],\n",
    "    )\n",
    "    #avg_acc = cv_results[\"test_mean_accuracy\"]\n",
    "    #avg_f1 = cv_results[\"test_mean_f1\"]\n",
    "    #print(avg_acc, avg_f1)\n",
    "    #print(\n",
    "    #    f\"Mean Absolute Error:     {avg_acc:.3f} +/- {mae.std():.3f}\\n\"\n",
    "    #    f\"Root Mean Squared Error: {rmse.mean():.3f} +/- {rmse.std():.3f}\"\n",
    "    #)\n",
    "    return cv_results"
   ]
  },
  {
   "cell_type": "code",
   "execution_count": 210,
   "id": "4d7d739d-3081-439e-b107-108a7c05ea58",
   "metadata": {},
   "outputs": [],
   "source": [
    "#most_tweeted_pls = list(tweet_emt_df['player2'].value_counts().index)"
   ]
  },
  {
   "cell_type": "code",
   "execution_count": 437,
   "id": "105995eb-1808-43a2-bdba-1551b5811987",
   "metadata": {},
   "outputs": [
    {
     "name": "stdout",
     "output_type": "stream",
     "text": [
      "216\n"
     ]
    },
    {
     "data": {
      "text/plain": [
       "Tie         0.439815\n",
       "Seahawks    0.328704\n",
       "Patriots    0.231481\n",
       "Name: leading, dtype: float64"
      ]
     },
     "metadata": {},
     "output_type": "display_data"
    },
    {
     "name": "stdout",
     "output_type": "stream",
     "text": [
      "(216, 46)\n",
      "86\n"
     ]
    },
    {
     "data": {
      "text/plain": [
       "(216, 46)"
      ]
     },
     "execution_count": 437,
     "metadata": {},
     "output_type": "execute_result"
    }
   ],
   "source": [
    "pls = list(tweet_emt_df.player2)\n",
    "pls = ['#gohawks', '#gopatriots', 'Bobby Wagner',\n",
    "       'Brandon Browner', 'Brandon LaFell', 'Bruce Irvin', 'Bryan Walters',\n",
    "       'Byron Maxwell', 'Chandler Jones', 'Chris Matthews', 'Cliff Avril', #'Dan Connolly',\n",
    "       'Danny Amendola', 'Darrelle Revis', 'Devin McCourty',\n",
    "       'Doug Baldwin', 'Earl Thomas', 'J.R. Sweezy', 'James Carpenter',\n",
    "       'Jamie Collins', 'Jermaine Kearse', 'Julian Edelman', 'Justin Britt',\n",
    "       'K.J. Wright', 'Kam Chancellor', 'Kevin Williams', 'Kyle Arrington',\n",
    "       'LeGarrette Blount', 'Luke Willson', 'Marshawn Lynch', 'Max Unger',\n",
    "       'Michael Bennett', 'Michael Hoomanawanui', 'Patrick Chung',\n",
    "       'Ricardo Lockette', 'Richard Sherman', 'Rob Gronkowski',\n",
    "       'Rob Ninkovich', 'Robert Turbin', 'Russell Wilson', 'Ryan Wendell',\n",
    "       'Sebastian Vollmer', 'Shane Vereen', 'Tom Brady', 'Tony McDaniel',\n",
    "       'Vince Wilfork']\n",
    "X =  model_data[pls]\n",
    "y = model_data['leading']\n",
    "\n",
    "print(len(y))\n",
    "display(y.value_counts(normalize=True))\n",
    "\n",
    "drop_cols = False #True\n",
    "print(X.shape)\n",
    "int_NA = int(0.4*X.shape[0])\n",
    "print(int_NA)\n",
    "if drop_cols:\n",
    "    X = X.dropna(thresh=int_NA, axis=1)\n",
    "\n",
    "X = X.fillna(0)\n",
    "X.shape"
   ]
  },
  {
   "cell_type": "code",
   "execution_count": 444,
   "id": "8a2bbd31-d12b-4148-a810-8c121fa84266",
   "metadata": {},
   "outputs": [
    {
     "name": "stdout",
     "output_type": "stream",
     "text": [
      "0.5419913419913419\n",
      "['Seahawks' 'Patriots' 'Seahawks' 'Patriots' 'Tie' 'Tie' 'Tie' 'Patriots'\n",
      " 'Seahawks' 'Seahawks' 'Seahawks' 'Tie' 'Patriots' 'Tie' 'Seahawks' 'Tie'\n",
      " 'Tie' 'Seahawks' 'Seahawks' 'Seahawks' 'Patriots' 'Patriots']\n",
      "Counter({'Seahawks': 9, 'Tie': 7, 'Patriots': 6})\n",
      "0.4090909090909091\n",
      "Index(['#gohawks', '#gopatriots', 'Bobby Wagner', 'Brandon Browner',\n",
      "       'Brandon LaFell', 'Bruce Irvin', 'Bryan Walters', 'Byron Maxwell',\n",
      "       'Chandler Jones', 'Chris Matthews', 'Cliff Avril', 'Dan Connolly',\n",
      "       'Danny Amendola', 'Darrelle Revis', 'Devin McCourty', 'Doug Baldwin',\n",
      "       'Earl Thomas', 'J.R. Sweezy', 'James Carpenter', 'Jamie Collins',\n",
      "       'Jermaine Kearse', 'Julian Edelman', 'Justin Britt', 'K.J. Wright',\n",
      "       'Kam Chancellor', 'Kevin Williams', 'Kyle Arrington',\n",
      "       'LeGarrette Blount', 'Luke Willson', 'Marshawn Lynch', 'Max Unger',\n",
      "       'Michael Bennett', 'Michael Hoomanawanui', 'Patrick Chung',\n",
      "       'Ricardo Lockette', 'Richard Sherman', 'Rob Gronkowski',\n",
      "       'Rob Ninkovich', 'Robert Turbin', 'Russell Wilson', 'Ryan Wendell',\n",
      "       'Sebastian Vollmer', 'Shane Vereen', 'Tom Brady', 'Tony McDaniel',\n",
      "       'Vince Wilfork'],\n",
      "      dtype='object', name='player2')\n"
     ]
    }
   ],
   "source": [
    "#clf = GradientBoostingClassifier(n_estimators=10, learning_rate=1.0, max_depth=2, random_state=0)\n",
    "clf = LogisticRegression(random_state=0, penalty='l1', solver='saga', class_weight='balanced')\n",
    "#clf = RandomForestClassifier(n_estimators=30, max_depth=2, random_state=0, class_weight='balanced')\n",
    "#clf = MLPClassifier(max_iter=200, learning_rate_init=0.6)\n",
    "\n",
    "cv_results = evaluate(clf, X, y, cv=10)\n",
    "#print(cv_results)\n",
    "print(cv_results['test_score'].mean())\n",
    "\n",
    "X_train, X_test, y_train, y_test = train_test_split(X, y, test_size=0.1, random_state=42)\n",
    "clf.fit(X_train, y_train)\n",
    "preds = clf.predict(X_test)\n",
    "print(preds)\n",
    "print(Counter(preds))\n",
    "print(clf.score(X_test, y_test))\n",
    "print(X.columns)\n",
    "#print(clf.coef_) #.feature_importances_)\n",
    "#print(cv_results['estimator'][0].coef_) #.feature_importances_)\n",
    "\n",
    "#print(clf.feature_importances_) #.feature_importances_)\n",
    "#print(cv_results['estimator'][0].feature_importances_) #.feature_importances_)"
   ]
  },
  {
   "cell_type": "code",
   "execution_count": 460,
   "id": "03c57966-7cf2-4a8c-9de0-06caf9bfc365",
   "metadata": {},
   "outputs": [
    {
     "data": {
      "text/html": [
       "<div>\n",
       "<style scoped>\n",
       "    .dataframe tbody tr th:only-of-type {\n",
       "        vertical-align: middle;\n",
       "    }\n",
       "\n",
       "    .dataframe tbody tr th {\n",
       "        vertical-align: top;\n",
       "    }\n",
       "\n",
       "    .dataframe thead th {\n",
       "        text-align: right;\n",
       "    }\n",
       "</style>\n",
       "<table border=\"1\" class=\"dataframe\">\n",
       "  <thead>\n",
       "    <tr style=\"text-align: right;\">\n",
       "      <th></th>\n",
       "      <th>Patriots</th>\n",
       "      <th>Seahawks</th>\n",
       "      <th>Tie</th>\n",
       "    </tr>\n",
       "    <tr>\n",
       "      <th>features</th>\n",
       "      <th></th>\n",
       "      <th></th>\n",
       "      <th></th>\n",
       "    </tr>\n",
       "  </thead>\n",
       "  <tbody>\n",
       "    <tr>\n",
       "      <th>#gohawks</th>\n",
       "      <td>-5.653534</td>\n",
       "      <td>0.000000</td>\n",
       "      <td>7.793098</td>\n",
       "    </tr>\n",
       "    <tr>\n",
       "      <th>#gopatriots</th>\n",
       "      <td>0.000000</td>\n",
       "      <td>-1.378151</td>\n",
       "      <td>0.036587</td>\n",
       "    </tr>\n",
       "    <tr>\n",
       "      <th>Bobby Wagner</th>\n",
       "      <td>0.000000</td>\n",
       "      <td>0.000000</td>\n",
       "      <td>0.000000</td>\n",
       "    </tr>\n",
       "    <tr>\n",
       "      <th>Brandon Browner</th>\n",
       "      <td>0.000000</td>\n",
       "      <td>0.000000</td>\n",
       "      <td>0.000000</td>\n",
       "    </tr>\n",
       "    <tr>\n",
       "      <th>Brandon LaFell</th>\n",
       "      <td>0.000000</td>\n",
       "      <td>0.000000</td>\n",
       "      <td>0.000000</td>\n",
       "    </tr>\n",
       "    <tr>\n",
       "      <th>Bruce Irvin</th>\n",
       "      <td>0.000000</td>\n",
       "      <td>0.000000</td>\n",
       "      <td>0.000000</td>\n",
       "    </tr>\n",
       "    <tr>\n",
       "      <th>Bryan Walters</th>\n",
       "      <td>0.000000</td>\n",
       "      <td>0.000000</td>\n",
       "      <td>0.000000</td>\n",
       "    </tr>\n",
       "    <tr>\n",
       "      <th>Byron Maxwell</th>\n",
       "      <td>0.000000</td>\n",
       "      <td>0.000000</td>\n",
       "      <td>0.000000</td>\n",
       "    </tr>\n",
       "    <tr>\n",
       "      <th>Chandler Jones</th>\n",
       "      <td>0.000000</td>\n",
       "      <td>-0.672602</td>\n",
       "      <td>0.000000</td>\n",
       "    </tr>\n",
       "    <tr>\n",
       "      <th>Chris Matthews</th>\n",
       "      <td>-0.831285</td>\n",
       "      <td>0.000000</td>\n",
       "      <td>0.000000</td>\n",
       "    </tr>\n",
       "    <tr>\n",
       "      <th>Cliff Avril</th>\n",
       "      <td>0.000000</td>\n",
       "      <td>1.603887</td>\n",
       "      <td>0.000000</td>\n",
       "    </tr>\n",
       "    <tr>\n",
       "      <th>Dan Connolly</th>\n",
       "      <td>-0.773107</td>\n",
       "      <td>0.000000</td>\n",
       "      <td>0.092055</td>\n",
       "    </tr>\n",
       "    <tr>\n",
       "      <th>Danny Amendola</th>\n",
       "      <td>0.000000</td>\n",
       "      <td>0.000000</td>\n",
       "      <td>0.000000</td>\n",
       "    </tr>\n",
       "    <tr>\n",
       "      <th>Darrelle Revis</th>\n",
       "      <td>0.000000</td>\n",
       "      <td>0.000000</td>\n",
       "      <td>0.000000</td>\n",
       "    </tr>\n",
       "    <tr>\n",
       "      <th>Devin McCourty</th>\n",
       "      <td>0.000000</td>\n",
       "      <td>0.000000</td>\n",
       "      <td>0.000000</td>\n",
       "    </tr>\n",
       "    <tr>\n",
       "      <th>Doug Baldwin</th>\n",
       "      <td>0.000000</td>\n",
       "      <td>0.000000</td>\n",
       "      <td>0.000000</td>\n",
       "    </tr>\n",
       "    <tr>\n",
       "      <th>Earl Thomas</th>\n",
       "      <td>-0.683224</td>\n",
       "      <td>0.000000</td>\n",
       "      <td>0.011949</td>\n",
       "    </tr>\n",
       "    <tr>\n",
       "      <th>J.R. Sweezy</th>\n",
       "      <td>0.000000</td>\n",
       "      <td>0.000000</td>\n",
       "      <td>0.000000</td>\n",
       "    </tr>\n",
       "    <tr>\n",
       "      <th>James Carpenter</th>\n",
       "      <td>0.000000</td>\n",
       "      <td>0.000000</td>\n",
       "      <td>0.000000</td>\n",
       "    </tr>\n",
       "    <tr>\n",
       "      <th>Jamie Collins</th>\n",
       "      <td>0.000000</td>\n",
       "      <td>0.000000</td>\n",
       "      <td>0.000000</td>\n",
       "    </tr>\n",
       "    <tr>\n",
       "      <th>Jermaine Kearse</th>\n",
       "      <td>0.000000</td>\n",
       "      <td>0.000000</td>\n",
       "      <td>0.000000</td>\n",
       "    </tr>\n",
       "    <tr>\n",
       "      <th>Julian Edelman</th>\n",
       "      <td>0.091190</td>\n",
       "      <td>0.000000</td>\n",
       "      <td>0.000000</td>\n",
       "    </tr>\n",
       "    <tr>\n",
       "      <th>Justin Britt</th>\n",
       "      <td>0.000000</td>\n",
       "      <td>0.231117</td>\n",
       "      <td>0.000000</td>\n",
       "    </tr>\n",
       "    <tr>\n",
       "      <th>K.J. Wright</th>\n",
       "      <td>0.000000</td>\n",
       "      <td>0.000000</td>\n",
       "      <td>0.000000</td>\n",
       "    </tr>\n",
       "    <tr>\n",
       "      <th>Kam Chancellor</th>\n",
       "      <td>-0.209717</td>\n",
       "      <td>0.000000</td>\n",
       "      <td>0.000000</td>\n",
       "    </tr>\n",
       "    <tr>\n",
       "      <th>Kevin Williams</th>\n",
       "      <td>0.000000</td>\n",
       "      <td>0.000000</td>\n",
       "      <td>0.000000</td>\n",
       "    </tr>\n",
       "    <tr>\n",
       "      <th>Kyle Arrington</th>\n",
       "      <td>0.000000</td>\n",
       "      <td>0.000000</td>\n",
       "      <td>0.122112</td>\n",
       "    </tr>\n",
       "    <tr>\n",
       "      <th>LeGarrette Blount</th>\n",
       "      <td>0.000000</td>\n",
       "      <td>0.000000</td>\n",
       "      <td>0.000000</td>\n",
       "    </tr>\n",
       "    <tr>\n",
       "      <th>Luke Willson</th>\n",
       "      <td>0.000000</td>\n",
       "      <td>0.000000</td>\n",
       "      <td>0.000000</td>\n",
       "    </tr>\n",
       "    <tr>\n",
       "      <th>Marshawn Lynch</th>\n",
       "      <td>-0.136591</td>\n",
       "      <td>0.000000</td>\n",
       "      <td>0.137576</td>\n",
       "    </tr>\n",
       "    <tr>\n",
       "      <th>Max Unger</th>\n",
       "      <td>0.000000</td>\n",
       "      <td>0.000000</td>\n",
       "      <td>0.000000</td>\n",
       "    </tr>\n",
       "    <tr>\n",
       "      <th>Michael Bennett</th>\n",
       "      <td>0.000000</td>\n",
       "      <td>0.000000</td>\n",
       "      <td>0.000000</td>\n",
       "    </tr>\n",
       "    <tr>\n",
       "      <th>Michael Hoomanawanui</th>\n",
       "      <td>0.000000</td>\n",
       "      <td>0.000000</td>\n",
       "      <td>0.000000</td>\n",
       "    </tr>\n",
       "    <tr>\n",
       "      <th>Patrick Chung</th>\n",
       "      <td>0.000000</td>\n",
       "      <td>0.000000</td>\n",
       "      <td>0.000000</td>\n",
       "    </tr>\n",
       "    <tr>\n",
       "      <th>Ricardo Lockette</th>\n",
       "      <td>0.000000</td>\n",
       "      <td>0.000000</td>\n",
       "      <td>0.000000</td>\n",
       "    </tr>\n",
       "    <tr>\n",
       "      <th>Richard Sherman</th>\n",
       "      <td>-1.035956</td>\n",
       "      <td>0.896845</td>\n",
       "      <td>0.000000</td>\n",
       "    </tr>\n",
       "    <tr>\n",
       "      <th>Rob Gronkowski</th>\n",
       "      <td>0.000000</td>\n",
       "      <td>-1.054888</td>\n",
       "      <td>0.246794</td>\n",
       "    </tr>\n",
       "    <tr>\n",
       "      <th>Rob Ninkovich</th>\n",
       "      <td>0.000000</td>\n",
       "      <td>0.000000</td>\n",
       "      <td>0.000000</td>\n",
       "    </tr>\n",
       "    <tr>\n",
       "      <th>Robert Turbin</th>\n",
       "      <td>0.000000</td>\n",
       "      <td>0.000000</td>\n",
       "      <td>0.000000</td>\n",
       "    </tr>\n",
       "    <tr>\n",
       "      <th>Russell Wilson</th>\n",
       "      <td>0.000000</td>\n",
       "      <td>0.000000</td>\n",
       "      <td>0.000000</td>\n",
       "    </tr>\n",
       "    <tr>\n",
       "      <th>Ryan Wendell</th>\n",
       "      <td>0.000000</td>\n",
       "      <td>0.000000</td>\n",
       "      <td>0.000000</td>\n",
       "    </tr>\n",
       "    <tr>\n",
       "      <th>Sebastian Vollmer</th>\n",
       "      <td>0.000000</td>\n",
       "      <td>0.000000</td>\n",
       "      <td>0.000000</td>\n",
       "    </tr>\n",
       "    <tr>\n",
       "      <th>Shane Vereen</th>\n",
       "      <td>0.000000</td>\n",
       "      <td>0.000000</td>\n",
       "      <td>0.000000</td>\n",
       "    </tr>\n",
       "    <tr>\n",
       "      <th>Tom Brady</th>\n",
       "      <td>0.000000</td>\n",
       "      <td>0.000000</td>\n",
       "      <td>-0.277096</td>\n",
       "    </tr>\n",
       "    <tr>\n",
       "      <th>Tony McDaniel</th>\n",
       "      <td>0.000000</td>\n",
       "      <td>0.000000</td>\n",
       "      <td>0.000000</td>\n",
       "    </tr>\n",
       "    <tr>\n",
       "      <th>Vince Wilfork</th>\n",
       "      <td>0.000000</td>\n",
       "      <td>0.000000</td>\n",
       "      <td>0.000000</td>\n",
       "    </tr>\n",
       "  </tbody>\n",
       "</table>\n",
       "</div>"
      ],
      "text/plain": [
       "                      Patriots  Seahawks       Tie\n",
       "features                                          \n",
       "#gohawks             -5.653534  0.000000  7.793098\n",
       "#gopatriots           0.000000 -1.378151  0.036587\n",
       "Bobby Wagner          0.000000  0.000000  0.000000\n",
       "Brandon Browner       0.000000  0.000000  0.000000\n",
       "Brandon LaFell        0.000000  0.000000  0.000000\n",
       "Bruce Irvin           0.000000  0.000000  0.000000\n",
       "Bryan Walters         0.000000  0.000000  0.000000\n",
       "Byron Maxwell         0.000000  0.000000  0.000000\n",
       "Chandler Jones        0.000000 -0.672602  0.000000\n",
       "Chris Matthews       -0.831285  0.000000  0.000000\n",
       "Cliff Avril           0.000000  1.603887  0.000000\n",
       "Dan Connolly         -0.773107  0.000000  0.092055\n",
       "Danny Amendola        0.000000  0.000000  0.000000\n",
       "Darrelle Revis        0.000000  0.000000  0.000000\n",
       "Devin McCourty        0.000000  0.000000  0.000000\n",
       "Doug Baldwin          0.000000  0.000000  0.000000\n",
       "Earl Thomas          -0.683224  0.000000  0.011949\n",
       "J.R. Sweezy           0.000000  0.000000  0.000000\n",
       "James Carpenter       0.000000  0.000000  0.000000\n",
       "Jamie Collins         0.000000  0.000000  0.000000\n",
       "Jermaine Kearse       0.000000  0.000000  0.000000\n",
       "Julian Edelman        0.091190  0.000000  0.000000\n",
       "Justin Britt          0.000000  0.231117  0.000000\n",
       "K.J. Wright           0.000000  0.000000  0.000000\n",
       "Kam Chancellor       -0.209717  0.000000  0.000000\n",
       "Kevin Williams        0.000000  0.000000  0.000000\n",
       "Kyle Arrington        0.000000  0.000000  0.122112\n",
       "LeGarrette Blount     0.000000  0.000000  0.000000\n",
       "Luke Willson          0.000000  0.000000  0.000000\n",
       "Marshawn Lynch       -0.136591  0.000000  0.137576\n",
       "Max Unger             0.000000  0.000000  0.000000\n",
       "Michael Bennett       0.000000  0.000000  0.000000\n",
       "Michael Hoomanawanui  0.000000  0.000000  0.000000\n",
       "Patrick Chung         0.000000  0.000000  0.000000\n",
       "Ricardo Lockette      0.000000  0.000000  0.000000\n",
       "Richard Sherman      -1.035956  0.896845  0.000000\n",
       "Rob Gronkowski        0.000000 -1.054888  0.246794\n",
       "Rob Ninkovich         0.000000  0.000000  0.000000\n",
       "Robert Turbin         0.000000  0.000000  0.000000\n",
       "Russell Wilson        0.000000  0.000000  0.000000\n",
       "Ryan Wendell          0.000000  0.000000  0.000000\n",
       "Sebastian Vollmer     0.000000  0.000000  0.000000\n",
       "Shane Vereen          0.000000  0.000000  0.000000\n",
       "Tom Brady             0.000000  0.000000 -0.277096\n",
       "Tony McDaniel         0.000000  0.000000  0.000000\n",
       "Vince Wilfork         0.000000  0.000000  0.000000"
      ]
     },
     "execution_count": 460,
     "metadata": {},
     "output_type": "execute_result"
    }
   ],
   "source": [
    "coeffs = pd.DataFrame(clf.coef_.T, columns=clf.classes_)\n",
    "coeffs['features'] = X.columns\n",
    "coeffs = coeffs.set_index('features')\n",
    "\n",
    "coeffs"
   ]
  },
  {
   "cell_type": "code",
   "execution_count": 463,
   "id": "c9684d45-9af7-4bd7-9ae9-55979395b76d",
   "metadata": {},
   "outputs": [
    {
     "data": {
      "image/png": "[encoded data removed]",
      "text/plain": [
       "<Figure size 500x2000 with 1 Axes>"
      ]
     },
     "metadata": {},
     "output_type": "display_data"
    }
   ],
   "source": [
    "coeffs.plot(kind=\"barh\", figsize=(5, 20))\n",
    "plt.show()"
   ]
  },
  {
   "cell_type": "code",
   "execution_count": 422,
   "id": "e0ec7b52-c905-41a8-b6c1-ce29a60dfa91",
   "metadata": {},
   "outputs": [
    {
     "data": {
      "text/plain": [
       "player2\n",
       "#gohawks          0.341693\n",
       "#gopatriots       0.177001\n",
       "Tom Brady         0.171126\n",
       "Rob Gronkowski    0.118804\n",
       "Russell Wilson    0.081863\n",
       "Chris Matthews    0.072622\n",
       "Marshawn Lynch    0.036891\n",
       "dtype: float64"
      ]
     },
     "execution_count": 422,
     "metadata": {},
     "output_type": "execute_result"
    }
   ],
   "source": [
    "forest_importances"
   ]
  },
  {
   "cell_type": "code",
   "execution_count": 421,
   "id": "9a1ac765-6ac0-4765-b7c5-3a3a4870a709",
   "metadata": {},
   "outputs": [
    {
     "data": {
      "image/png": "[encoded data removed]",
      "text/plain": [
       "<Figure size 640x480 with 1 Axes>"
      ]
     },
     "metadata": {},
     "output_type": "display_data"
    }
   ],
   "source": [
    "importances = cv_results['estimator'][0].feature_importances_\n",
    "feature_names = X.columns\n",
    "forest_importances = pd.Series(importances, index=feature_names)\n",
    "forest_importances.sort_values(ascending=False, inplace=True)\n",
    "forest_importances.plot.bar()\n",
    "ax.set_title(\"Feature importances using MDI\")\n",
    "ax.set_ylabel(\"Mean decrease in impurity\")\n",
    "fig.tight_layout()\n",
    "plt.show()"
   ]
  },
  {
   "cell_type": "code",
   "execution_count": null,
   "id": "0b1e3bb4-b305-4d17-8865-e9c298e86822",
   "metadata": {},
   "outputs": [],
   "source": [
    "# vader 109, 12 -- title, 0.2 drop\n",
    "clf = RandomForestClassifier(n_estimators=40, max_depth=3, random_state=0, class_weight='balanced')"
   ]
  },
  {
   "cell_type": "code",
   "execution_count": null,
   "id": "754f0d1b-8118-49a1-bfc8-fe646a364129",
   "metadata": {},
   "outputs": [],
   "source": []
  },
  {
   "cell_type": "markdown",
   "id": "9811a79d-ec7e-4aaa-913a-2c2f1b99e9c5",
   "metadata": {
    "jp-MarkdownHeadingCollapsed": true,
    "tags": []
   },
   "source": [
    "##### timeseries "
   ]
  },
  {
   "cell_type": "code",
   "execution_count": 593,
   "id": "c9336eb1-564f-4311-9569-aa40a63a488b",
   "metadata": {},
   "outputs": [],
   "source": [
    "ts_cv = TimeSeriesSplit(\n",
    "    n_splits=105,\n",
    "    gap=0,\n",
    "    max_train_size=3,\n",
    "    test_size=1,\n",
    ")\n",
    "\n",
    "#https://scikit-learn.org/stable/auto_examples/applications/plot_cyclical_feature_engineering.html#sphx-glr-auto-examples-applications-plot-cyclical-feature-engineering-py"
   ]
  },
  {
   "cell_type": "code",
   "execution_count": 573,
   "id": "b72a8421-7af9-4787-b3a2-263699378cc8",
   "metadata": {},
   "outputs": [
    {
     "data": {
      "text/html": [
       "<div>\n",
       "<style scoped>\n",
       "    .dataframe tbody tr th:only-of-type {\n",
       "        vertical-align: middle;\n",
       "    }\n",
       "\n",
       "    .dataframe tbody tr th {\n",
       "        vertical-align: top;\n",
       "    }\n",
       "\n",
       "    .dataframe thead th {\n",
       "        text-align: right;\n",
       "    }\n",
       "</style>\n",
       "<table border=\"1\" class=\"dataframe\">\n",
       "  <thead>\n",
       "    <tr style=\"text-align: right;\">\n",
       "      <th></th>\n",
       "      <th>0</th>\n",
       "      <th>1</th>\n",
       "      <th>2</th>\n",
       "      <th>3</th>\n",
       "      <th>4</th>\n",
       "      <th>5</th>\n",
       "      <th>6</th>\n",
       "      <th>7</th>\n",
       "      <th>8</th>\n",
       "      <th>9</th>\n",
       "      <th>...</th>\n",
       "      <th>99</th>\n",
       "      <th>100</th>\n",
       "      <th>101</th>\n",
       "      <th>102</th>\n",
       "      <th>103</th>\n",
       "      <th>104</th>\n",
       "      <th>105</th>\n",
       "      <th>106</th>\n",
       "      <th>107</th>\n",
       "      <th>108</th>\n",
       "    </tr>\n",
       "  </thead>\n",
       "  <tbody>\n",
       "    <tr>\n",
       "      <th>leading</th>\n",
       "      <td>Tie</td>\n",
       "      <td>Tie</td>\n",
       "      <td>Tie</td>\n",
       "      <td>Tie</td>\n",
       "      <td>Tie</td>\n",
       "      <td>Tie</td>\n",
       "      <td>Tie</td>\n",
       "      <td>Tie</td>\n",
       "      <td>Tie</td>\n",
       "      <td>Tie</td>\n",
       "      <td>...</td>\n",
       "      <td>Seahawks</td>\n",
       "      <td>Patriots</td>\n",
       "      <td>Patriots</td>\n",
       "      <td>Patriots</td>\n",
       "      <td>Patriots</td>\n",
       "      <td>Patriots</td>\n",
       "      <td>Patriots</td>\n",
       "      <td>Patriots</td>\n",
       "      <td>Patriots</td>\n",
       "      <td>Patriots</td>\n",
       "    </tr>\n",
       "  </tbody>\n",
       "</table>\n",
       "<p>1 rows × 109 columns</p>\n",
       "</div>"
      ],
      "text/plain": [
       "         0    1    2    3    4    5    6    7    8    9    ...       99   \\\n",
       "leading  Tie  Tie  Tie  Tie  Tie  Tie  Tie  Tie  Tie  Tie  ...  Seahawks   \n",
       "\n",
       "              100       101       102       103       104       105       106  \\\n",
       "leading  Patriots  Patriots  Patriots  Patriots  Patriots  Patriots  Patriots   \n",
       "\n",
       "              107       108  \n",
       "leading  Patriots  Patriots  \n",
       "\n",
       "[1 rows x 109 columns]"
      ]
     },
     "execution_count": 573,
     "metadata": {},
     "output_type": "execute_result"
    }
   ],
   "source": [
    "pd.DataFrame(y).T"
   ]
  },
  {
   "cell_type": "code",
   "execution_count": 658,
   "id": "f9fdf843-b94e-4a3f-a203-cb64aa281ab9",
   "metadata": {},
   "outputs": [
    {
     "data": {
      "text/plain": [
       "0.5799999999999998"
      ]
     },
     "execution_count": 658,
     "metadata": {},
     "output_type": "execute_result"
    }
   ],
   "source": [
    "#clf = GradientBoostingClassifier(n_estimators=100, learning_rate=1.0, max_depth=1, random_state=0)\n",
    "#clf = LogisticRegression(random_state=0)\n",
    "clf = RandomForestClassifier(n_estimators=400, max_depth=1,random_state=0, class_weight='balanced')\n",
    "#clf = MLPClassifier(max_iter=500)\n",
    "cv_results = evaluate(clf, X, y, cv=10)\n",
    "#print(cv_results)\n",
    "cv_results['test_score'].mean()"
   ]
  },
  {
   "cell_type": "code",
   "execution_count": 607,
   "id": "0444ce59-bf37-4e20-8146-9a166db87b17",
   "metadata": {},
   "outputs": [
    {
     "data": {
      "text/plain": [
       "Tie         0.458716\n",
       "Seahawks    0.321101\n",
       "Patriots    0.220183\n",
       "Name: leading, dtype: float64"
      ]
     },
     "execution_count": 607,
     "metadata": {},
     "output_type": "execute_result"
    }
   ],
   "source": [
    "y.value_counts(normalize=True)"
   ]
  },
  {
   "cell_type": "code",
   "execution_count": 579,
   "id": "8bff564a-51f4-4309-947b-18178549fc2a",
   "metadata": {},
   "outputs": [
    {
     "data": {
      "text/plain": [
       "[(array([1, 2, 3]), array([4])),\n",
       " (array([2, 3, 4]), array([5])),\n",
       " (array([3, 4, 5]), array([6])),\n",
       " (array([4, 5, 6]), array([7])),\n",
       " (array([5, 6, 7]), array([8])),\n",
       " (array([6, 7, 8]), array([9])),\n",
       " (array([7, 8, 9]), array([10])),\n",
       " (array([ 8,  9, 10]), array([11])),\n",
       " (array([ 9, 10, 11]), array([12])),\n",
       " (array([10, 11, 12]), array([13])),\n",
       " (array([11, 12, 13]), array([14])),\n",
       " (array([12, 13, 14]), array([15])),\n",
       " (array([13, 14, 15]), array([16])),\n",
       " (array([14, 15, 16]), array([17])),\n",
       " (array([15, 16, 17]), array([18])),\n",
       " (array([16, 17, 18]), array([19])),\n",
       " (array([17, 18, 19]), array([20])),\n",
       " (array([18, 19, 20]), array([21])),\n",
       " (array([19, 20, 21]), array([22])),\n",
       " (array([20, 21, 22]), array([23])),\n",
       " (array([21, 22, 23]), array([24])),\n",
       " (array([22, 23, 24]), array([25])),\n",
       " (array([23, 24, 25]), array([26])),\n",
       " (array([24, 25, 26]), array([27])),\n",
       " (array([25, 26, 27]), array([28])),\n",
       " (array([26, 27, 28]), array([29])),\n",
       " (array([27, 28, 29]), array([30])),\n",
       " (array([28, 29, 30]), array([31])),\n",
       " (array([29, 30, 31]), array([32])),\n",
       " (array([30, 31, 32]), array([33])),\n",
       " (array([31, 32, 33]), array([34])),\n",
       " (array([32, 33, 34]), array([35])),\n",
       " (array([33, 34, 35]), array([36])),\n",
       " (array([34, 35, 36]), array([37])),\n",
       " (array([35, 36, 37]), array([38])),\n",
       " (array([36, 37, 38]), array([39])),\n",
       " (array([37, 38, 39]), array([40])),\n",
       " (array([38, 39, 40]), array([41])),\n",
       " (array([39, 40, 41]), array([42])),\n",
       " (array([40, 41, 42]), array([43])),\n",
       " (array([41, 42, 43]), array([44])),\n",
       " (array([42, 43, 44]), array([45])),\n",
       " (array([43, 44, 45]), array([46])),\n",
       " (array([44, 45, 46]), array([47])),\n",
       " (array([45, 46, 47]), array([48])),\n",
       " (array([46, 47, 48]), array([49])),\n",
       " (array([47, 48, 49]), array([50])),\n",
       " (array([48, 49, 50]), array([51])),\n",
       " (array([49, 50, 51]), array([52])),\n",
       " (array([50, 51, 52]), array([53])),\n",
       " (array([51, 52, 53]), array([54])),\n",
       " (array([52, 53, 54]), array([55])),\n",
       " (array([53, 54, 55]), array([56])),\n",
       " (array([54, 55, 56]), array([57])),\n",
       " (array([55, 56, 57]), array([58])),\n",
       " (array([56, 57, 58]), array([59])),\n",
       " (array([57, 58, 59]), array([60])),\n",
       " (array([58, 59, 60]), array([61])),\n",
       " (array([59, 60, 61]), array([62])),\n",
       " (array([60, 61, 62]), array([63])),\n",
       " (array([61, 62, 63]), array([64])),\n",
       " (array([62, 63, 64]), array([65])),\n",
       " (array([63, 64, 65]), array([66])),\n",
       " (array([64, 65, 66]), array([67])),\n",
       " (array([65, 66, 67]), array([68])),\n",
       " (array([66, 67, 68]), array([69])),\n",
       " (array([67, 68, 69]), array([70])),\n",
       " (array([68, 69, 70]), array([71])),\n",
       " (array([69, 70, 71]), array([72])),\n",
       " (array([70, 71, 72]), array([73])),\n",
       " (array([71, 72, 73]), array([74])),\n",
       " (array([72, 73, 74]), array([75])),\n",
       " (array([73, 74, 75]), array([76])),\n",
       " (array([74, 75, 76]), array([77])),\n",
       " (array([75, 76, 77]), array([78])),\n",
       " (array([76, 77, 78]), array([79])),\n",
       " (array([77, 78, 79]), array([80])),\n",
       " (array([78, 79, 80]), array([81])),\n",
       " (array([79, 80, 81]), array([82])),\n",
       " (array([80, 81, 82]), array([83])),\n",
       " (array([81, 82, 83]), array([84])),\n",
       " (array([82, 83, 84]), array([85])),\n",
       " (array([83, 84, 85]), array([86])),\n",
       " (array([84, 85, 86]), array([87])),\n",
       " (array([85, 86, 87]), array([88])),\n",
       " (array([86, 87, 88]), array([89])),\n",
       " (array([87, 88, 89]), array([90])),\n",
       " (array([88, 89, 90]), array([91])),\n",
       " (array([89, 90, 91]), array([92])),\n",
       " (array([90, 91, 92]), array([93])),\n",
       " (array([91, 92, 93]), array([94])),\n",
       " (array([92, 93, 94]), array([95])),\n",
       " (array([93, 94, 95]), array([96])),\n",
       " (array([94, 95, 96]), array([97])),\n",
       " (array([95, 96, 97]), array([98])),\n",
       " (array([96, 97, 98]), array([99])),\n",
       " (array([97, 98, 99]), array([100])),\n",
       " (array([ 98,  99, 100]), array([101])),\n",
       " (array([ 99, 100, 101]), array([102])),\n",
       " (array([100, 101, 102]), array([103])),\n",
       " (array([101, 102, 103]), array([104])),\n",
       " (array([102, 103, 104]), array([105])),\n",
       " (array([103, 104, 105]), array([106])),\n",
       " (array([104, 105, 106]), array([107])),\n",
       " (array([105, 106, 107]), array([108]))]"
      ]
     },
     "execution_count": 579,
     "metadata": {},
     "output_type": "execute_result"
    }
   ],
   "source": [
    "all_splits = list(ts_cv.split(X, y))\n",
    "train_0, test_0 = all_splits[0]\n",
    "all_splits\n",
    "\n",
    "# delete splits where train same"
   ]
  },
  {
   "cell_type": "code",
   "execution_count": 248,
   "id": "e6f04005-bd6e-469a-812e-120cac5e743b",
   "metadata": {},
   "outputs": [],
   "source": [
    "# X.iloc[train_0]\n",
    "# X.iloc[test_0]"
   ]
  },
  {
   "cell_type": "code",
   "execution_count": 505,
   "id": "a0915abb-30a1-4121-922a-c0aedeeb83b0",
   "metadata": {},
   "outputs": [
    {
     "data": {
      "text/plain": [
       "0          Tie\n",
       "1          Tie\n",
       "2          Tie\n",
       "3          Tie\n",
       "4     Patriots\n",
       "5     Patriots\n",
       "6          Tie\n",
       "7          Tie\n",
       "8     Patriots\n",
       "9          Tie\n",
       "10         Tie\n",
       "11         Tie\n",
       "12         Tie\n",
       "13    Seahawks\n",
       "14    Seahawks\n",
       "15    Seahawks\n",
       "16    Seahawks\n",
       "17    Seahawks\n",
       "18    Seahawks\n",
       "19    Seahawks\n",
       "20    Patriots\n",
       "21    Patriots\n",
       "22    Patriots\n",
       "Name: leading, dtype: object"
      ]
     },
     "execution_count": 505,
     "metadata": {},
     "output_type": "execute_result"
    }
   ],
   "source": [
    "y"
   ]
  },
  {
   "cell_type": "code",
   "execution_count": 570,
   "id": "13bbc5aa-21d5-483e-a6af-1c2f20db5724",
   "metadata": {},
   "outputs": [
    {
     "name": "stderr",
     "output_type": "stream",
     "text": [
      "/Users/gorkemcamli/opt/anaconda3/lib/python3.8/site-packages/sklearn/model_selection/_validation.py:372: FitFailedWarning: \n",
      "6 fits failed out of a total of 35.\n",
      "The score on these train-test partitions for these parameters will be set to nan.\n",
      "If these failures are not expected, you can try to debug them by setting error_score='raise'.\n",
      "\n",
      "Below are more details about the failures:\n",
      "--------------------------------------------------------------------------------\n",
      "6 fits failed with the following error:\n",
      "Traceback (most recent call last):\n",
      "  File \"/Users/gorkemcamli/opt/anaconda3/lib/python3.8/site-packages/sklearn/model_selection/_validation.py\", line 681, in _fit_and_score\n",
      "    estimator.fit(X_train, y_train, **fit_params)\n",
      "  File \"/Users/gorkemcamli/opt/anaconda3/lib/python3.8/site-packages/sklearn/ensemble/_gb.py\", line 497, in fit\n",
      "    y = self._validate_y(y, sample_weight)\n",
      "  File \"/Users/gorkemcamli/opt/anaconda3/lib/python3.8/site-packages/sklearn/ensemble/_gb.py\", line 1268, in _validate_y\n",
      "    raise ValueError(\n",
      "ValueError: y contains 1 class after sample_weight trimmed classes with zero weights, while a minimum of 2 classes are required.\n",
      "\n",
      "  warnings.warn(some_fits_failed_message, FitFailedWarning)\n"
     ]
    },
    {
     "data": {
      "text/plain": [
       "nan"
      ]
     },
     "execution_count": 570,
     "metadata": {},
     "output_type": "execute_result"
    }
   ],
   "source": [
    "clf = GradientBoostingClassifier(n_estimators=100, learning_rate=4.0, max_depth=1, random_state=0)\n",
    "cv_results = evaluate(clf, X, y, cv=ts_cv)\n",
    "#print(cv_results)\n",
    "cv_results['test_score'].mean()"
   ]
  },
  {
   "cell_type": "code",
   "execution_count": 392,
   "id": "aa26a60d-131e-45fb-b15f-85b08da04254",
   "metadata": {},
   "outputs": [
    {
     "data": {
      "text/plain": [
       "GradientBoostingClassifier(learning_rate=4.0, max_depth=1, random_state=0)"
      ]
     },
     "execution_count": 392,
     "metadata": {},
     "output_type": "execute_result"
    }
   ],
   "source": [
    "cv_results['estimator'][0].feature_impo"
   ]
  },
  {
   "cell_type": "code",
   "execution_count": 515,
   "id": "e26890bb-273a-40b6-92bc-a7ef0d1a4b74",
   "metadata": {},
   "outputs": [
    {
     "name": "stdout",
     "output_type": "stream",
     "text": [
      "nan\n",
      "Index(['Dan Connolly', 'Earl Thomas', 'Jamie Collins', 'Julian Edelman',\n",
      "       'Justin Britt', 'Kam Chancellor', 'Kevin Williams', 'Marshawn Lynch',\n",
      "       'Nate Solder', 'Richard Sherman', 'Russell Wilson', 'Ryan Wendell',\n",
      "       'Tom Brady'],\n",
      "      dtype='object', name='players_str')\n",
      "[[ 0.21705293 -0.01490791 -0.15416958 -0.27979171 -0.13495108  0.29015182\n",
      "  -0.25077617  0.05871859  0.08071879  0.25886376  0.18389657  0.09427122\n",
      "   0.01116446]]\n"
     ]
    },
    {
     "name": "stderr",
     "output_type": "stream",
     "text": [
      "/Users/gorkemcamli/opt/anaconda3/lib/python3.8/site-packages/sklearn/model_selection/_validation.py:372: FitFailedWarning: \n",
      "7 fits failed out of a total of 18.\n",
      "The score on these train-test partitions for these parameters will be set to nan.\n",
      "If these failures are not expected, you can try to debug them by setting error_score='raise'.\n",
      "\n",
      "Below are more details about the failures:\n",
      "--------------------------------------------------------------------------------\n",
      "2 fits failed with the following error:\n",
      "Traceback (most recent call last):\n",
      "  File \"/Users/gorkemcamli/opt/anaconda3/lib/python3.8/site-packages/sklearn/model_selection/_validation.py\", line 681, in _fit_and_score\n",
      "    estimator.fit(X_train, y_train, **fit_params)\n",
      "  File \"/Users/gorkemcamli/opt/anaconda3/lib/python3.8/site-packages/sklearn/linear_model/_logistic.py\", line 1554, in fit\n",
      "    raise ValueError(\n",
      "ValueError: This solver needs samples of at least 2 classes in the data, but the data contains only one class: 'Tie'\n",
      "\n",
      "--------------------------------------------------------------------------------\n",
      "5 fits failed with the following error:\n",
      "Traceback (most recent call last):\n",
      "  File \"/Users/gorkemcamli/opt/anaconda3/lib/python3.8/site-packages/sklearn/model_selection/_validation.py\", line 681, in _fit_and_score\n",
      "    estimator.fit(X_train, y_train, **fit_params)\n",
      "  File \"/Users/gorkemcamli/opt/anaconda3/lib/python3.8/site-packages/sklearn/linear_model/_logistic.py\", line 1554, in fit\n",
      "    raise ValueError(\n",
      "ValueError: This solver needs samples of at least 2 classes in the data, but the data contains only one class: 'Seahawks'\n",
      "\n",
      "  warnings.warn(some_fits_failed_message, FitFailedWarning)\n"
     ]
    }
   ],
   "source": [
    "clf = LogisticRegression(random_state=0)\n",
    "cv_results = evaluate(clf, X, y, cv=ts_cv)\n",
    "#print(cv_results)\n",
    "print(cv_results['test_score'].mean())\n",
    "print(X.columns)\n",
    "print(cv_results['estimator'][0].coef_)"
   ]
  },
  {
   "cell_type": "code",
   "execution_count": 412,
   "id": "207a8139-de0e-4484-bd4a-6126a07cf91d",
   "metadata": {},
   "outputs": [],
   "source": []
  },
  {
   "cell_type": "code",
   "execution_count": 500,
   "id": "87ca84ed-a10f-4f47-8964-d136ebbdf01c",
   "metadata": {},
   "outputs": [
    {
     "name": "stdout",
     "output_type": "stream",
     "text": [
      "0.5\n",
      "Index(['Dan Connolly', 'Earl Thomas', 'Jamie Collins', 'Julian Edelman',\n",
      "       'Justin Britt', 'Kam Chancellor', 'Kevin Williams', 'Marshawn Lynch',\n",
      "       'Nate Solder', 'Richard Sherman', 'Russell Wilson', 'Ryan Wendell',\n",
      "       'Tom Brady'],\n",
      "      dtype='object', name='players_str')\n",
      "[0.06278555 0.06454509 0.08395751 0.06537171 0.06239344 0.12416161\n",
      " 0.03039311 0.09038341 0.0610654  0.09484802 0.12253918 0.04208541\n",
      " 0.09547057]\n"
     ]
    }
   ],
   "source": [
    "clf = RandomForestClassifier(n_estimators=50, max_depth=10,random_state=0)\n",
    "cv_results = evaluate(clf, X, y, cv=ts_cv)\n",
    "#print(cv_results)\n",
    "print(cv_results['test_score'].mean())\n",
    "print(X.columns)\n",
    "print(cv_results['estimator'][10].feature_importances_)"
   ]
  },
  {
   "cell_type": "code",
   "execution_count": 501,
   "id": "317ec7d4-f485-4d8d-9f3f-3a62b9810918",
   "metadata": {},
   "outputs": [
    {
     "name": "stdout",
     "output_type": "stream",
     "text": [
      "0.4444444444444444\n",
      "Index(['Dan Connolly', 'Earl Thomas', 'Jamie Collins', 'Julian Edelman',\n",
      "       'Justin Britt', 'Kam Chancellor', 'Kevin Williams', 'Marshawn Lynch',\n",
      "       'Nate Solder', 'Richard Sherman', 'Russell Wilson', 'Ryan Wendell',\n",
      "       'Tom Brady'],\n",
      "      dtype='object', name='players_str')\n"
     ]
    }
   ],
   "source": [
    "clf = MLPClassifier(hidden_layer_sizes=(100,),random_state=1, max_iter=300,  learning_rate_init=10.1,)\n",
    "cv_results = evaluate(clf, X, y, cv=ts_cv)\n",
    "#print(cv_results)\n",
    "print(cv_results['test_score'].mean())\n",
    "print(X.columns)\n",
    "#print(cv_results['estimator'][10].feature_importances_)"
   ]
  },
  {
   "cell_type": "code",
   "execution_count": null,
   "id": "47f36a64-da1d-4153-8f92-943eced30850",
   "metadata": {},
   "outputs": [],
   "source": []
  },
  {
   "cell_type": "code",
   "execution_count": null,
   "id": "b91f4372-12eb-453a-9d82-74305b3c3584",
   "metadata": {},
   "outputs": [],
   "source": []
  },
  {
   "cell_type": "code",
   "execution_count": null,
   "id": "08452bab-bdaa-46b8-ab8c-54a8f6f1bcea",
   "metadata": {},
   "outputs": [],
   "source": []
  },
  {
   "cell_type": "markdown",
   "id": "4d1c04e2-9592-4fde-adcf-f242b44708c6",
   "metadata": {
    "jp-MarkdownHeadingCollapsed": true,
    "tags": []
   },
   "source": [
    "### Prediction Task 2: \n",
    "\n",
    "#### Find Fan based on tweet and user info (unbalanced data)\n",
    "\n"
   ]
  },
  {
   "cell_type": "code",
   "execution_count": 70,
   "id": "12e4e9f2-8909-400c-8b19-e171d805f7ad",
   "metadata": {},
   "outputs": [
    {
     "data": {
      "text/plain": [
       "(155251, 61)"
      ]
     },
     "execution_count": 70,
     "metadata": {},
     "output_type": "execute_result"
    }
   ],
   "source": [
    "tweet_emt_df.shape"
   ]
  },
  {
   "cell_type": "code",
   "execution_count": 71,
   "id": "bee5eea6-31f4-437a-8ac8-8764bcd6f702",
   "metadata": {},
   "outputs": [
    {
     "data": {
      "text/plain": [
       "Index(['title', 'tweet.text', 'citation_date', 'hashtag', 'tweet.lang',\n",
       "       'tweet.user.name', 'original_author.name', 'tweet.entities.hashtags',\n",
       "       'tweet.entities.user_mentions', 'tweet.retweet_count',\n",
       "       'tweet.favorite_count', 'tweet.user.followers_count',\n",
       "       'tweet.user.friends_count', 'tweet.user.favourites_count',\n",
       "       'author.followers', 'original_author.followers',\n",
       "       'original_author.influence_level', 'metrics.ranking_score',\n",
       "       'metrics.citations.influential', 'metrics.citations.total',\n",
       "       'metrics.citations.matching', 'metrics.citations.replies',\n",
       "       'metrics.impressions', 'author.influence_level', 'citation_date_fixed',\n",
       "       'citation_date_year', 'citation_date_month', 'citation_date_day',\n",
       "       'citation_date_hour', 'citation_date_rounded_hour', 'player',\n",
       "       'player_count', 'players_str', 'game_status',\n",
       "       'sent_nltk_vader_neg_title', 'sent_nltk_vader_neu_title',\n",
       "       'sent_nltk_vader_pos', 'sent_nltk_vader_compound_title',\n",
       "       'sent_nltk_vader_label_title', 'sent_textblob_polarity_title',\n",
       "       'sent_textblob_subjectivity_title', 'sent_textblob_label_title',\n",
       "       'cleaned_title', 'mention_count', 'hashtag_count',\n",
       "       'cleaned_hashtag_title', 'sent_nltk_vader_neg_cleaned_title',\n",
       "       'sent_nltk_vader_neu_cleaned_title',\n",
       "       'sent_nltk_vader_compound_cleaned_title',\n",
       "       'sent_nltk_vader_label_cleaned_title', 'player2',\n",
       "       'sent_nltk_vader_neg_cleaned_hashtag_title',\n",
       "       'sent_nltk_vader_neu_cleaned_hashtag_title',\n",
       "       'sent_nltk_vader_compound_cleaned_hashtag_title',\n",
       "       'sent_nltk_vader_label_cleaned_hashtag_title',\n",
       "       'sent_textblob_polarity_cleaned_title',\n",
       "       'sent_textblob_subjectivity_cleaned_title',\n",
       "       'sent_textblob_label_cleaned_title',\n",
       "       'sent_textblob_polarity_cleaned_hashtag_title',\n",
       "       'sent_textblob_subjectivity_cleaned_hashtag_title',\n",
       "       'sent_textblob_label_cleaned_hashtag_title'],\n",
       "      dtype='object')"
      ]
     },
     "execution_count": 71,
     "metadata": {},
     "output_type": "execute_result"
    }
   ],
   "source": [
    "tweet_emt_df.columns"
   ]
  },
  {
   "cell_type": "code",
   "execution_count": null,
   "id": "486d2a1d-2ccb-4702-a4f0-253dbd67dbc0",
   "metadata": {},
   "outputs": [],
   "source": [
    "'hashtag'"
   ]
  },
  {
   "cell_type": "code",
   "execution_count": 159,
   "id": "482708f8-0ef2-47b4-b80a-09ee69dec940",
   "metadata": {},
   "outputs": [],
   "source": [
    "select_feats = [ 'hashtag',\n",
    "        'tweet.retweet_count',\n",
    "       'tweet.favorite_count', 'tweet.user.followers_count',\n",
    "       'tweet.user.friends_count', 'tweet.user.favourites_count',\n",
    "       'original_author.followers', 'original_author.influence_level', \n",
    "       #'metrics.ranking_score',\n",
    "       'metrics.citations.influential', 'metrics.citations.total', 'metrics.citations.replies',\n",
    "       'metrics.impressions', 'author.influence_level', \n",
    "       'player_count', 'game_status',\n",
    "       'sent_nltk_vader_neg_title', 'sent_nltk_vader_neu_title',\n",
    "       'sent_nltk_vader_pos', 'sent_nltk_vader_compound_title',\n",
    "       'sent_nltk_vader_label_title', \n",
    "       'mention_count', 'hashtag_count']"
   ]
  },
  {
   "cell_type": "code",
   "execution_count": 160,
   "id": "b0f4fc08-ddcd-4946-8a67-3e112cb98237",
   "metadata": {},
   "outputs": [],
   "source": [
    "pred2_data = tweet_emt_df[select_feats]"
   ]
  },
  {
   "cell_type": "code",
   "execution_count": 161,
   "id": "b7f9f0d1-4d4a-41db-b730-fe7572917728",
   "metadata": {},
   "outputs": [
    {
     "name": "stdout",
     "output_type": "stream",
     "text": [
      "Index(['tweet.retweet_count', 'tweet.favorite_count',\n",
      "       'tweet.user.followers_count', 'tweet.user.friends_count',\n",
      "       'tweet.user.favourites_count', 'original_author.followers',\n",
      "       'original_author.influence_level', 'metrics.citations.influential',\n",
      "       'metrics.citations.total', 'metrics.citations.replies',\n",
      "       'metrics.impressions', 'author.influence_level', 'player_count',\n",
      "       'sent_nltk_vader_neg_title', 'sent_nltk_vader_neu_title',\n",
      "       'sent_nltk_vader_pos', 'sent_nltk_vader_compound_title',\n",
      "       'mention_count', 'hashtag_count'],\n",
      "      dtype='object')\n",
      "Index(['game_status', 'sent_nltk_vader_label_title'], dtype='object')\n"
     ]
    }
   ],
   "source": [
    "# get feature names by type\n",
    "num_cols =  pred2_data.select_dtypes(include=['int64', 'float64']).columns\n",
    "cat_cols = pred2_data.select_dtypes(include=['object', 'category']).drop(['hashtag'], axis=1).columns\n",
    "\n",
    "print(num_cols)\n",
    "print(cat_cols)"
   ]
  },
  {
   "cell_type": "code",
   "execution_count": 162,
   "id": "705f8f6e-d445-4515-9f4b-3d349dcbb614",
   "metadata": {},
   "outputs": [
    {
     "data": {
      "text/plain": [
       "array(['neutral', 'positive', 'negative'], dtype=object)"
      ]
     },
     "execution_count": 162,
     "metadata": {},
     "output_type": "execute_result"
    }
   ],
   "source": [
    "pred2_data.sent_nltk_vader_label_title.unique()"
   ]
  },
  {
   "cell_type": "code",
   "execution_count": 163,
   "id": "fdf97928-cb9a-4064-8d45-c8e046af1e32",
   "metadata": {},
   "outputs": [],
   "source": [
    "game_status_categories = ['pre_game', 'during_game','after_game']\n",
    "sent_nltk_vader_label_title_categories = ['negative','neutral', 'positive']\n",
    "categs_order = [game_status_categories, sent_nltk_vader_label_title_categories]\n",
    "    \n",
    "def feature_transformer(data, numeric_feats, categ_feats, categs_order, scale=True):\n",
    "    cat_transformer_ordinal = Pipeline(steps=[('ordinal_enc', OrdinalEncoder(categories=categs_order))])\n",
    "    data[categ_feats] = cat_transformer_ordinal.fit_transform(data[categ_feats])\n",
    "    if scale:\n",
    "        num_transformer = Pipeline(steps=[('std_scaler', StandardScaler())])\n",
    "        data[list(numeric_feats)+list(categ_feats)] = num_transformer.fit_transform(data[list(numeric_feats)+list(categ_feats)]) \n",
    "        \n",
    "    return data\n"
   ]
  },
  {
   "cell_type": "code",
   "execution_count": 164,
   "id": "3743f4a5-b4ce-4ec3-883c-28ce35c671af",
   "metadata": {},
   "outputs": [
    {
     "data": {
      "text/html": [
       "<div>\n",
       "<style scoped>\n",
       "    .dataframe tbody tr th:only-of-type {\n",
       "        vertical-align: middle;\n",
       "    }\n",
       "\n",
       "    .dataframe tbody tr th {\n",
       "        vertical-align: top;\n",
       "    }\n",
       "\n",
       "    .dataframe thead th {\n",
       "        text-align: right;\n",
       "    }\n",
       "</style>\n",
       "<table border=\"1\" class=\"dataframe\">\n",
       "  <thead>\n",
       "    <tr style=\"text-align: right;\">\n",
       "      <th></th>\n",
       "      <th>hashtag</th>\n",
       "      <th>tweet.retweet_count</th>\n",
       "      <th>tweet.favorite_count</th>\n",
       "      <th>tweet.user.followers_count</th>\n",
       "      <th>tweet.user.friends_count</th>\n",
       "      <th>tweet.user.favourites_count</th>\n",
       "      <th>original_author.followers</th>\n",
       "      <th>original_author.influence_level</th>\n",
       "      <th>metrics.citations.influential</th>\n",
       "      <th>metrics.citations.total</th>\n",
       "      <th>...</th>\n",
       "      <th>author.influence_level</th>\n",
       "      <th>player_count</th>\n",
       "      <th>game_status</th>\n",
       "      <th>sent_nltk_vader_neg_title</th>\n",
       "      <th>sent_nltk_vader_neu_title</th>\n",
       "      <th>sent_nltk_vader_pos</th>\n",
       "      <th>sent_nltk_vader_compound_title</th>\n",
       "      <th>sent_nltk_vader_label_title</th>\n",
       "      <th>mention_count</th>\n",
       "      <th>hashtag_count</th>\n",
       "    </tr>\n",
       "  </thead>\n",
       "  <tbody>\n",
       "    <tr>\n",
       "      <th>205</th>\n",
       "      <td>#gohawks</td>\n",
       "      <td>-0.004711</td>\n",
       "      <td>-0.003842</td>\n",
       "      <td>-0.050961</td>\n",
       "      <td>0.168955</td>\n",
       "      <td>0.568324</td>\n",
       "      <td>-0.051249</td>\n",
       "      <td>NaN</td>\n",
       "      <td>-0.062065</td>\n",
       "      <td>-0.025503</td>\n",
       "      <td>...</td>\n",
       "      <td>NaN</td>\n",
       "      <td>-0.443538</td>\n",
       "      <td>-0.528774</td>\n",
       "      <td>-0.416909</td>\n",
       "      <td>1.009292</td>\n",
       "      <td>-0.834414</td>\n",
       "      <td>-0.525855</td>\n",
       "      <td>-0.482967</td>\n",
       "      <td>0.526202</td>\n",
       "      <td>-0.769651</td>\n",
       "    </tr>\n",
       "    <tr>\n",
       "      <th>203</th>\n",
       "      <td>#gohawks</td>\n",
       "      <td>-0.004711</td>\n",
       "      <td>-0.003842</td>\n",
       "      <td>0.005093</td>\n",
       "      <td>0.501394</td>\n",
       "      <td>-0.192366</td>\n",
       "      <td>0.007502</td>\n",
       "      <td>-0.331246</td>\n",
       "      <td>-0.062065</td>\n",
       "      <td>0.022956</td>\n",
       "      <td>...</td>\n",
       "      <td>NaN</td>\n",
       "      <td>-0.443538</td>\n",
       "      <td>-0.528774</td>\n",
       "      <td>-0.416909</td>\n",
       "      <td>-0.929309</td>\n",
       "      <td>0.941515</td>\n",
       "      <td>1.639155</td>\n",
       "      <td>0.957730</td>\n",
       "      <td>-0.602815</td>\n",
       "      <td>-0.769651</td>\n",
       "    </tr>\n",
       "    <tr>\n",
       "      <th>208</th>\n",
       "      <td>#gohawks</td>\n",
       "      <td>-0.004711</td>\n",
       "      <td>-0.003842</td>\n",
       "      <td>-0.054964</td>\n",
       "      <td>0.319683</td>\n",
       "      <td>-0.226809</td>\n",
       "      <td>-0.055237</td>\n",
       "      <td>NaN</td>\n",
       "      <td>-0.062065</td>\n",
       "      <td>-0.025503</td>\n",
       "      <td>...</td>\n",
       "      <td>NaN</td>\n",
       "      <td>-0.443538</td>\n",
       "      <td>-0.528774</td>\n",
       "      <td>-0.416909</td>\n",
       "      <td>-0.995282</td>\n",
       "      <td>1.404801</td>\n",
       "      <td>0.729990</td>\n",
       "      <td>0.957730</td>\n",
       "      <td>0.526202</td>\n",
       "      <td>-0.769651</td>\n",
       "    </tr>\n",
       "    <tr>\n",
       "      <th>209</th>\n",
       "      <td>#gohawks</td>\n",
       "      <td>-0.004711</td>\n",
       "      <td>-0.003842</td>\n",
       "      <td>-0.025739</td>\n",
       "      <td>0.252414</td>\n",
       "      <td>-0.355308</td>\n",
       "      <td>-0.026825</td>\n",
       "      <td>NaN</td>\n",
       "      <td>-0.062065</td>\n",
       "      <td>-0.025503</td>\n",
       "      <td>...</td>\n",
       "      <td>NaN</td>\n",
       "      <td>-0.443538</td>\n",
       "      <td>-0.528774</td>\n",
       "      <td>-0.416909</td>\n",
       "      <td>-0.188378</td>\n",
       "      <td>0.718452</td>\n",
       "      <td>0.782141</td>\n",
       "      <td>0.957730</td>\n",
       "      <td>-0.602815</td>\n",
       "      <td>1.303109</td>\n",
       "    </tr>\n",
       "  </tbody>\n",
       "</table>\n",
       "<p>4 rows × 22 columns</p>\n",
       "</div>"
      ],
      "text/plain": [
       "      hashtag  tweet.retweet_count  tweet.favorite_count  \\\n",
       "205  #gohawks            -0.004711             -0.003842   \n",
       "203  #gohawks            -0.004711             -0.003842   \n",
       "208  #gohawks            -0.004711             -0.003842   \n",
       "209  #gohawks            -0.004711             -0.003842   \n",
       "\n",
       "     tweet.user.followers_count  tweet.user.friends_count  \\\n",
       "205                   -0.050961                  0.168955   \n",
       "203                    0.005093                  0.501394   \n",
       "208                   -0.054964                  0.319683   \n",
       "209                   -0.025739                  0.252414   \n",
       "\n",
       "     tweet.user.favourites_count  original_author.followers  \\\n",
       "205                     0.568324                  -0.051249   \n",
       "203                    -0.192366                   0.007502   \n",
       "208                    -0.226809                  -0.055237   \n",
       "209                    -0.355308                  -0.026825   \n",
       "\n",
       "     original_author.influence_level  metrics.citations.influential  \\\n",
       "205                              NaN                      -0.062065   \n",
       "203                        -0.331246                      -0.062065   \n",
       "208                              NaN                      -0.062065   \n",
       "209                              NaN                      -0.062065   \n",
       "\n",
       "     metrics.citations.total  ...  author.influence_level  player_count  \\\n",
       "205                -0.025503  ...                     NaN     -0.443538   \n",
       "203                 0.022956  ...                     NaN     -0.443538   \n",
       "208                -0.025503  ...                     NaN     -0.443538   \n",
       "209                -0.025503  ...                     NaN     -0.443538   \n",
       "\n",
       "     game_status  sent_nltk_vader_neg_title  sent_nltk_vader_neu_title  \\\n",
       "205    -0.528774                  -0.416909                   1.009292   \n",
       "203    -0.528774                  -0.416909                  -0.929309   \n",
       "208    -0.528774                  -0.416909                  -0.995282   \n",
       "209    -0.528774                  -0.416909                  -0.188378   \n",
       "\n",
       "     sent_nltk_vader_pos  sent_nltk_vader_compound_title  \\\n",
       "205            -0.834414                       -0.525855   \n",
       "203             0.941515                        1.639155   \n",
       "208             1.404801                        0.729990   \n",
       "209             0.718452                        0.782141   \n",
       "\n",
       "     sent_nltk_vader_label_title  mention_count  hashtag_count  \n",
       "205                    -0.482967       0.526202      -0.769651  \n",
       "203                     0.957730      -0.602815      -0.769651  \n",
       "208                     0.957730       0.526202      -0.769651  \n",
       "209                     0.957730      -0.602815       1.303109  \n",
       "\n",
       "[4 rows x 22 columns]"
      ]
     },
     "execution_count": 164,
     "metadata": {},
     "output_type": "execute_result"
    }
   ],
   "source": [
    "pred2_data_prep_df= pred2_data.copy()\n",
    "pred2_data_prep_df = feature_transformer(data=pred2_data_prep_df, \n",
    "                                                numeric_feats=num_cols, \n",
    "                                                categ_feats=cat_cols,\n",
    "                                                categs_order=categs_order,\n",
    "                                                scale=True)\n",
    "pred2_data_prep_df.head(4)"
   ]
  },
  {
   "cell_type": "code",
   "execution_count": 165,
   "id": "2ad9a491-d9b7-469a-a530-67f857dac819",
   "metadata": {},
   "outputs": [
    {
     "name": "stdout",
     "output_type": "stream",
     "text": [
      "(155251, 22)\n",
      "(22884, 22)\n"
     ]
    }
   ],
   "source": [
    "pred2_features = list(num_cols)+list(cat_cols)\n",
    "\n",
    "print(pred2_data_prep_df.shape)\n",
    "pred2_data_prep_df_subsampled = pd.concat([pred2_data_prep_df[pred2_data_prep_df.hashtag=='#gopatriots'], \n",
    "                               pred2_data_prep_df[pred2_data_prep_df.hashtag=='#gohawks'].sample(10000)])\n",
    "print(pred2_data_prep_df_subsampled.shape)\n",
    "\n",
    "\n",
    "X_pred2 = pred2_data_prep_df[pred2_features]\n",
    "X_pred2 = X_pred2.fillna(0)\n",
    "y_pred2 = pred2_data_prep_df['hashtag']\n",
    "\n",
    "X_pred2_subsampled = pred2_data_prep_df_subsampled[pred2_features]\n",
    "X_pred2_subsampled = X_pred2_subsampled.fillna(0)\n",
    "y_pred2_subsampled = pred2_data_prep_df_subsampled['hashtag']\n"
   ]
  },
  {
   "cell_type": "code",
   "execution_count": null,
   "id": "6a9da812-ccd7-4968-afb2-2af7021bf3c3",
   "metadata": {},
   "outputs": [],
   "source": []
  },
  {
   "cell_type": "code",
   "execution_count": 166,
   "id": "886c8cb5-ea60-4a01-aa3f-d860fe5dd811",
   "metadata": {},
   "outputs": [],
   "source": [
    "def evaluate(model, X, y, cv):\n",
    "    cv_results = cross_validate(\n",
    "        model,\n",
    "        X,\n",
    "        y,\n",
    "        cv=cv,\n",
    "        return_train_score=True,\n",
    "        return_estimator=True\n",
    "    )\n",
    "    return cv_results"
   ]
  },
  {
   "cell_type": "code",
   "execution_count": 167,
   "id": "2c80c138-07ad-44d1-9461-91230fbc2bc1",
   "metadata": {},
   "outputs": [
    {
     "data": {
      "text/plain": [
       "#gohawks       0.917012\n",
       "#gopatriots    0.082988\n",
       "Name: hashtag, dtype: float64"
      ]
     },
     "execution_count": 167,
     "metadata": {},
     "output_type": "execute_result"
    }
   ],
   "source": [
    "y_pred2.value_counts(normalize=True)"
   ]
  },
  {
   "cell_type": "code",
   "execution_count": 171,
   "id": "0ba04c0b-0ebf-4b04-81d0-2a73bcfd4c18",
   "metadata": {},
   "outputs": [
    {
     "name": "stdout",
     "output_type": "stream",
     "text": [
      "#gopatriots    8990\n",
      "#gohawks       7028\n",
      "Name: hashtag, dtype: int64\n",
      "#gopatriots    3894\n",
      "#gohawks       2972\n",
      "Name: hashtag, dtype: int64\n"
     ]
    }
   ],
   "source": [
    "#X_train, X_test, y_train, y_test = train_test_split(X_pred2, y_pred2, test_size=0.3, random_state=42)\n",
    "X_train, X_test, y_train, y_test = train_test_split(X_pred2_subsampled, y_pred2_subsampled, test_size=0.3, random_state=42)\n",
    "print(y_train.value_counts())\n",
    "print(y_test.value_counts())"
   ]
  },
  {
   "cell_type": "code",
   "execution_count": 179,
   "id": "4d341586-1203-4668-a086-f652429e8381",
   "metadata": {},
   "outputs": [
    {
     "name": "stdout",
     "output_type": "stream",
     "text": [
      "0.6526399308796546\n"
     ]
    },
    {
     "data": {
      "text/plain": [
       "\"\\nX_train, X_test, y_train, y_test = train_test_split(X_pred2, y_pred2, test_size=0.3, random_state=42)\\nclf.fit(X_train, y_train)\\npreds = clf.predict(X_test)\\nprint(preds)\\nprint(Counter(preds))\\nprint(clf.score(X_test, y_test))\\nprint(X.columns)\\n#print(clf.coef_) #.feature_importances_)\\n#print(cv_results['estimator'][0].coef_) #.feature_importances_)\\n\\n#print(clf.feature_importances_) #.feature_importances_)\\n#print(cv_results['estimator'][0].feature_importances_) #.feature_importances_)\\n\""
      ]
     },
     "execution_count": 179,
     "metadata": {},
     "output_type": "execute_result"
    }
   ],
   "source": [
    "clf = GradientBoostingClassifier(n_estimators=100, learning_rate=1.0, max_depth=2, random_state=0)\n",
    "#clf = LogisticRegression(random_state=0, class_weight='balanced')\n",
    "#clf = RandomForestClassifier(random_state=0, class_weight='balanced')\n",
    "#clf = MLPClassifier(hidden_layer_sizes=(100,100),max_iter=200, learning_rate_init=0.6)\n",
    "\n",
    "cv_results = evaluate(clf, X=X_train, y=y_train, cv=10)\n",
    "#print(cv_results)\n",
    "print(cv_results['test_score'].mean())\n",
    "\n",
    "\"\"\"\n",
    "X_train, X_test, y_train, y_test = train_test_split(X_pred2, y_pred2, test_size=0.3, random_state=42)\n",
    "clf.fit(X_train, y_train)\n",
    "preds = clf.predict(X_test)\n",
    "print(preds)\n",
    "print(Counter(preds))\n",
    "print(clf.score(X_test, y_test))\n",
    "print(X.columns)\n",
    "#print(clf.coef_) #.feature_importances_)\n",
    "#print(cv_results['estimator'][0].coef_) #.feature_importances_)\n",
    "\n",
    "#print(clf.feature_importances_) #.feature_importances_)\n",
    "#print(cv_results['estimator'][0].feature_importances_) #.feature_importances_)\n",
    "\"\"\""
   ]
  },
  {
   "cell_type": "code",
   "execution_count": 180,
   "id": "9f45d9ef-9aa2-44df-bbb2-6b327cd8cefe",
   "metadata": {},
   "outputs": [
    {
     "name": "stdout",
     "output_type": "stream",
     "text": [
      "['#gohawks' '#gopatriots' '#gopatriots' ... '#gohawks' '#gopatriots'\n",
      " '#gohawks']\n",
      "Counter({'#gopatriots': 4001, '#gohawks': 2865})\n",
      "0.6575881153510049\n"
     ]
    }
   ],
   "source": [
    "clf.fit(X_train, y_train)\n",
    "preds = clf.predict(X_test)\n",
    "print(preds)\n",
    "print(Counter(preds))\n",
    "print(clf.score(X_test, y_test))"
   ]
  },
  {
   "cell_type": "code",
   "execution_count": 181,
   "id": "612b3270-88b9-4589-a218-6b58abda00b7",
   "metadata": {},
   "outputs": [
    {
     "data": {
      "image/png": "[encoded data removed]",
      "text/plain": [
       "<Figure size 640x480 with 1 Axes>"
      ]
     },
     "metadata": {},
     "output_type": "display_data"
    }
   ],
   "source": [
    "importances = clf.feature_importances_\n",
    "feature_names = X_train.columns\n",
    "forest_importances = pd.Series(importances, index=feature_names)\n",
    "forest_importances.sort_values(ascending=False, inplace=True)\n",
    "forest_importances.plot.bar()\n",
    "#ax.set_title(\"Feature importances using MDI\")\n",
    "#ax.set_ylabel(\"Mean decrease in impurity\")\n",
    "#fig.tight_layout()\n",
    "plt.show()"
   ]
  },
  {
   "cell_type": "code",
   "execution_count": 158,
   "id": "a6be8457-9df1-431b-ae68-30a8858cae22",
   "metadata": {},
   "outputs": [
    {
     "data": {
      "text/plain": [
       "count    16018.000000\n",
       "mean         0.057305\n",
       "std          0.955287\n",
       "min         -1.751756\n",
       "25%         -0.387773\n",
       "50%         -0.160130\n",
       "75%          0.036754\n",
       "max          5.506275\n",
       "Name: metrics.ranking_score, dtype: float64"
      ]
     },
     "execution_count": 158,
     "metadata": {},
     "output_type": "execute_result"
    }
   ],
   "source": [
    "X_train['metrics.ranking_score'].describe()"
   ]
  },
  {
   "cell_type": "code",
   "execution_count": null,
   "id": "37d9bad8-85e7-4043-adf6-18a7fdbedfe0",
   "metadata": {},
   "outputs": [],
   "source": []
  },
  {
   "cell_type": "markdown",
   "id": "d0caab76-551d-45b5-97ae-c693dc36aead",
   "metadata": {
    "jp-MarkdownHeadingCollapsed": true,
    "tags": []
   },
   "source": [
    "### Prediction Task 3: \n",
    "\n",
    "#### Find impression of a tweet based on tweet and user features."
   ]
  },
  {
   "cell_type": "markdown",
   "id": "17015504-ec06-4841-8afd-451703df5748",
   "metadata": {
    "jp-MarkdownHeadingCollapsed": true,
    "tags": []
   },
   "source": [
    "# Emojis -- not related for now."
   ]
  },
  {
   "cell_type": "markdown",
   "id": "84d7d6a2-51ec-42bd-9846-2cdadd2832b8",
   "metadata": {},
   "source": [
    "__Are emojis all we need?__\n",
    "\n",
    "How emojis used on tweets can be helpful on:\n",
    "- Understanding sentiments/emotions of the fans during the game and for players?\n",
    "    - nltk, emoji sentiments, bert\n",
    "    \n",
    "- Finding the most important times of the game? (emoji count vs time correlation, using emojis correlate score?, )\n",
    "- Understanding reach/impressions/retweets of the game? (predict retweets, impressions and favs from the emoji information or vice versa.)\n",
    "- can you tell mvp based on emoji count and emojis used.\n",
    "\n",
    "Can an emoji tell more than 280 characters?\n",
    "\n",
    "https://www.kaggle.com/eliasdabbas/emoji-data-descriptions-codepoints?select=emoji_df.csv\n",
    "http://kt.ijs.si/data/Emoji_sentiment_ranking/index.html\n",
    "https://pypi.org/project/emosent-py/\n",
    "https://github.com/abushoeb/EmoTag/blob/master/data/EmoTag1200-scores-details.csv\n",
    "\n"
   ]
  },
  {
   "cell_type": "code",
   "execution_count": 64,
   "id": "8cd0b3f7-0494-4757-bc87-7413861e3560",
   "metadata": {},
   "outputs": [],
   "source": [
    "def get_emoji_df(df):\n",
    "\n",
    "    tweets = df.drop_duplicates().values.tolist()\n",
    "\n",
    "    tweets  = [x for x in tweets if not x.startswith('RT')]\n",
    "\n",
    "    \n",
    "    try:\n",
    "        # UCS-4\n",
    "        e = re.compile(u'[\\U00010000-\\U0010ffff]')\n",
    "    except re.error:\n",
    "        # UCS-2\n",
    "        e = re.compile(u'[\\uD800-\\uDBFF][\\uDC00-\\uDFFF]')\n",
    "\n",
    "    emojis = []\n",
    "    '''\n",
    "    for i, x in enumerate(tweets):\n",
    "        match  = e.search(x)\n",
    "        if match:\n",
    "            em_group = match.group()\n",
    "            print(em_group, x, '\\n')\n",
    "            emojis.append(em_group)\n",
    "    \n",
    "    '''\n",
    "    emoji_pattern = re.compile(u\"([\"                     # .* removed\n",
    "                                u\"\\U0001F600-\\U0001F64F\"  # emoticons\n",
    "                                u\"\\U0001F300-\\U0001F5FF\"  # symbols & pictographs\n",
    "                                u\"\\U0001F680-\\U0001F6FF\"  # transport & map symbols\n",
    "                                u\"\\U0001F1E0-\\U0001F1FF\"  # flags (iOS)\n",
    "                                                \"])\", flags= re.UNICODE)             # + removed\n",
    "\n",
    "    for sent in tweets:\n",
    "        emojis_found = ' '.join(re.findall(emoji_pattern, sent))\n",
    "        #if emojis_found:\n",
    "            #print(emojis_found, sent, '\\n')\n",
    "        emojis.append(emojis_found)\n",
    "\n",
    "    dfe =  pd.DataFrame(emojis, columns=['emojis'])\n",
    "    #display(pd.Series(' '.join(dfe['text']).lower().split()).value_counts()[:25])\n",
    "    return dfe\n",
    "\n",
    "x_df = get_emoji_df(df=tweet_dfs['gopatriots']['tweet.text'])\n",
    "x_df['emoji_count'] = x_df['emojis'].apply(lambda x: len(x.split(' ')) if x else 0)\n",
    "#x_df_hawks = get_emoji_df(df=tweet_dfs['gohawks']['title'])\n",
    "\n",
    "\n",
    "# https://medium.com/swlh/%EF%B8%8Fdoes-emoji-use-correlate-with-twitter-engagement-388775467be"
   ]
  },
  {
   "cell_type": "code",
   "execution_count": 66,
   "id": "c3f4194f-8981-4fe8-9605-948c37803943",
   "metadata": {},
   "outputs": [
    {
     "data": {
      "text/html": [
       "<div>\n",
       "<style scoped>\n",
       "    .dataframe tbody tr th:only-of-type {\n",
       "        vertical-align: middle;\n",
       "    }\n",
       "\n",
       "    .dataframe tbody tr th {\n",
       "        vertical-align: top;\n",
       "    }\n",
       "\n",
       "    .dataframe thead th {\n",
       "        text-align: right;\n",
       "    }\n",
       "</style>\n",
       "<table border=\"1\" class=\"dataframe\">\n",
       "  <thead>\n",
       "    <tr style=\"text-align: right;\">\n",
       "      <th></th>\n",
       "      <th>emojis</th>\n",
       "      <th>emoji_count</th>\n",
       "    </tr>\n",
       "  </thead>\n",
       "  <tbody>\n",
       "    <tr>\n",
       "      <th>1</th>\n",
       "      <td>😍 🙌 🏈 💙</td>\n",
       "      <td>4</td>\n",
       "    </tr>\n",
       "    <tr>\n",
       "      <th>7</th>\n",
       "      <td>🏈</td>\n",
       "      <td>1</td>\n",
       "    </tr>\n",
       "    <tr>\n",
       "      <th>10</th>\n",
       "      <td>😍 😍</td>\n",
       "      <td>2</td>\n",
       "    </tr>\n",
       "    <tr>\n",
       "      <th>12</th>\n",
       "      <td>👍</td>\n",
       "      <td>1</td>\n",
       "    </tr>\n",
       "    <tr>\n",
       "      <th>26</th>\n",
       "      <td>👊 🏈</td>\n",
       "      <td>2</td>\n",
       "    </tr>\n",
       "    <tr>\n",
       "      <th>...</th>\n",
       "      <td>...</td>\n",
       "      <td>...</td>\n",
       "    </tr>\n",
       "    <tr>\n",
       "      <th>22120</th>\n",
       "      <td>🏈 💋</td>\n",
       "      <td>2</td>\n",
       "    </tr>\n",
       "    <tr>\n",
       "      <th>22130</th>\n",
       "      <td>😂 😂 😂 🏈</td>\n",
       "      <td>4</td>\n",
       "    </tr>\n",
       "    <tr>\n",
       "      <th>22131</th>\n",
       "      <td>🏈 👊</td>\n",
       "      <td>2</td>\n",
       "    </tr>\n",
       "    <tr>\n",
       "      <th>22135</th>\n",
       "      <td>🏈</td>\n",
       "      <td>1</td>\n",
       "    </tr>\n",
       "    <tr>\n",
       "      <th>22139</th>\n",
       "      <td>🏈 🍺 😝</td>\n",
       "      <td>3</td>\n",
       "    </tr>\n",
       "  </tbody>\n",
       "</table>\n",
       "<p>3156 rows × 2 columns</p>\n",
       "</div>"
      ],
      "text/plain": [
       "        emojis  emoji_count\n",
       "1      😍 🙌 🏈 💙            4\n",
       "7            🏈            1\n",
       "10         😍 😍            2\n",
       "12           👍            1\n",
       "26         👊 🏈            2\n",
       "...        ...          ...\n",
       "22120      🏈 💋            2\n",
       "22130  😂 😂 😂 🏈            4\n",
       "22131      🏈 👊            2\n",
       "22135        🏈            1\n",
       "22139    🏈 🍺 😝            3\n",
       "\n",
       "[3156 rows x 2 columns]"
      ]
     },
     "execution_count": 66,
     "metadata": {},
     "output_type": "execute_result"
    }
   ],
   "source": [
    "x_df[x_df.emoji_count!=0]"
   ]
  },
  {
   "cell_type": "code",
   "execution_count": 69,
   "id": "ab457de0-e213-4459-97ad-7a81440653a1",
   "metadata": {},
   "outputs": [
    {
     "data": {
      "text/html": [
       "<div>\n",
       "<style scoped>\n",
       "    .dataframe tbody tr th:only-of-type {\n",
       "        vertical-align: middle;\n",
       "    }\n",
       "\n",
       "    .dataframe tbody tr th {\n",
       "        vertical-align: top;\n",
       "    }\n",
       "\n",
       "    .dataframe thead th {\n",
       "        text-align: right;\n",
       "    }\n",
       "</style>\n",
       "<table border=\"1\" class=\"dataframe\">\n",
       "  <thead>\n",
       "    <tr style=\"text-align: right;\">\n",
       "      <th></th>\n",
       "      <th>emojis</th>\n",
       "      <th>emoji_count</th>\n",
       "    </tr>\n",
       "  </thead>\n",
       "  <tbody>\n",
       "    <tr>\n",
       "      <th>10</th>\n",
       "      <td>💙 💚</td>\n",
       "      <td>2</td>\n",
       "    </tr>\n",
       "    <tr>\n",
       "      <th>11</th>\n",
       "      <td>😁</td>\n",
       "      <td>1</td>\n",
       "    </tr>\n",
       "    <tr>\n",
       "      <th>13</th>\n",
       "      <td>💙 💚</td>\n",
       "      <td>2</td>\n",
       "    </tr>\n",
       "    <tr>\n",
       "      <th>17</th>\n",
       "      <td>🌞</td>\n",
       "      <td>1</td>\n",
       "    </tr>\n",
       "    <tr>\n",
       "      <th>19</th>\n",
       "      <td>😎</td>\n",
       "      <td>1</td>\n",
       "    </tr>\n",
       "    <tr>\n",
       "      <th>...</th>\n",
       "      <td>...</td>\n",
       "      <td>...</td>\n",
       "    </tr>\n",
       "    <tr>\n",
       "      <th>162272</th>\n",
       "      <td>🏉 🏉 🏈 🏀 🎨 🎼 👑 🏰</td>\n",
       "      <td>8</td>\n",
       "    </tr>\n",
       "    <tr>\n",
       "      <th>162273</th>\n",
       "      <td>🎥 😜 😝 🏈 🏀 🏉 🎨 🎼 👑 🏰</td>\n",
       "      <td>10</td>\n",
       "    </tr>\n",
       "    <tr>\n",
       "      <th>162276</th>\n",
       "      <td>🎥 😜 😝 👀 🏈 🏀 🏉 🎨 🎼 👑 🏰</td>\n",
       "      <td>11</td>\n",
       "    </tr>\n",
       "    <tr>\n",
       "      <th>162283</th>\n",
       "      <td>😄 💖</td>\n",
       "      <td>2</td>\n",
       "    </tr>\n",
       "    <tr>\n",
       "      <th>162290</th>\n",
       "      <td>😖</td>\n",
       "      <td>1</td>\n",
       "    </tr>\n",
       "  </tbody>\n",
       "</table>\n",
       "<p>15037 rows × 2 columns</p>\n",
       "</div>"
      ],
      "text/plain": [
       "                       emojis  emoji_count\n",
       "10                        💙 💚            2\n",
       "11                          😁            1\n",
       "13                        💙 💚            2\n",
       "17                          🌞            1\n",
       "19                          😎            1\n",
       "...                       ...          ...\n",
       "162272        🏉 🏉 🏈 🏀 🎨 🎼 👑 🏰            8\n",
       "162273    🎥 😜 😝 🏈 🏀 🏉 🎨 🎼 👑 🏰           10\n",
       "162276  🎥 😜 😝 👀 🏈 🏀 🏉 🎨 🎼 👑 🏰           11\n",
       "162283                    😄 💖            2\n",
       "162290                      😖            1\n",
       "\n",
       "[15037 rows x 2 columns]"
      ]
     },
     "execution_count": 69,
     "metadata": {},
     "output_type": "execute_result"
    }
   ],
   "source": [
    "x_df_hawks = get_emoji_df(df=tweet_dfs['gohawks']['title'])\n",
    "x_df_hawks['emoji_count'] = x_df_hawks['emojis'].apply(lambda x: len(x.split(' ')) if x else 0)\n",
    "x_df_hawks[x_df_hawks.emoji_count!=0]"
   ]
  },
  {
   "cell_type": "code",
   "execution_count": 78,
   "id": "2d487164-ae2d-4a68-a7c7-fcc6015c8eaf",
   "metadata": {},
   "outputs": [
    {
     "name": "stdout",
     "output_type": "stream",
     "text": [
      "228\n"
     ]
    },
    {
     "data": {
      "text/plain": [
       "[('🏈', 2337),\n",
       " ('💙', 733),\n",
       " ('👏', 543),\n",
       " ('😂', 485),\n",
       " ('🙌', 381),\n",
       " ('🎉', 350),\n",
       " ('😍', 321),\n",
       " ('🏆', 238),\n",
       " ('💪', 212),\n",
       " ('🏉', 157),\n",
       " ('👊', 147),\n",
       " ('👍', 144),\n",
       " ('👌', 136),\n",
       " ('🇺', 134),\n",
       " ('🇸', 134),\n",
       " ('😁', 119),\n",
       " ('😭', 113),\n",
       " ('🙏', 112),\n",
       " ('😱', 77),\n",
       " ('😃', 74),\n",
       " ('😏', 64),\n",
       " ('😎', 63),\n",
       " ('😜', 62),\n",
       " ('😘', 60),\n",
       " ('😊', 60),\n",
       " ('🔵', 60),\n",
       " ('😄', 59),\n",
       " ('😉', 58),\n",
       " ('🎊', 56),\n",
       " ('🔴', 55)]"
      ]
     },
     "execution_count": 78,
     "metadata": {},
     "output_type": "execute_result"
    }
   ],
   "source": [
    "emoji_counts = Counter(' '.join(x_df.emojis.tolist()).split(' '))\n",
    "del emoji_counts['']\n",
    "print(len(emoji_counts))\n",
    "emoji_counts.most_common(30)"
   ]
  },
  {
   "cell_type": "code",
   "execution_count": 49,
   "id": "efb5bc79-83ca-4f89-a030-2d5afd2e05c7",
   "metadata": {},
   "outputs": [
    {
     "data": {
      "text/html": [
       "<div>\n",
       "<style scoped>\n",
       "    .dataframe tbody tr th:only-of-type {\n",
       "        vertical-align: middle;\n",
       "    }\n",
       "\n",
       "    .dataframe tbody tr th {\n",
       "        vertical-align: top;\n",
       "    }\n",
       "\n",
       "    .dataframe thead th {\n",
       "        text-align: right;\n",
       "    }\n",
       "</style>\n",
       "<table border=\"1\" class=\"dataframe\">\n",
       "  <thead>\n",
       "    <tr style=\"text-align: right;\">\n",
       "      <th></th>\n",
       "      <th>original_author.author_img</th>\n",
       "      <th>original_author.description</th>\n",
       "      <th>original_author.url</th>\n",
       "      <th>original_author.nick</th>\n",
       "      <th>original_author.followers</th>\n",
       "      <th>original_author.image_url</th>\n",
       "      <th>original_author.type</th>\n",
       "      <th>original_author.name</th>\n",
       "      <th>original_author.influence_level</th>\n",
       "    </tr>\n",
       "  </thead>\n",
       "  <tbody>\n",
       "    <tr>\n",
       "      <th>0</th>\n",
       "      <td>http://pbs.twimg.com/profile_images/5512012677...</td>\n",
       "      <td>Follow me for News on Boston Sports Teams!  #G...</td>\n",
       "      <td>http://twitter.com/nesportsfan1106</td>\n",
       "      <td>nesportsfan1106</td>\n",
       "      <td>3811.0</td>\n",
       "      <td>http://pbs.twimg.com/profile_images/5512012677...</td>\n",
       "      <td>twitter</td>\n",
       "      <td>Boston Sports Fan</td>\n",
       "      <td>NaN</td>\n",
       "    </tr>\n",
       "    <tr>\n",
       "      <th>1</th>\n",
       "      <td>http://pbs.twimg.com/profile_images/5432108023...</td>\n",
       "      <td>My life: @Patriots ❤#PatriotsNation/ Celtics/R...</td>\n",
       "      <td>http://twitter.com/87patriots</td>\n",
       "      <td>87patriots</td>\n",
       "      <td>1163.0</td>\n",
       "      <td>http://pbs.twimg.com/profile_images/5432108023...</td>\n",
       "      <td>twitter</td>\n",
       "      <td>Mrs. Gronk</td>\n",
       "      <td>NaN</td>\n",
       "    </tr>\n",
       "    <tr>\n",
       "      <th>2</th>\n",
       "      <td>http://pbs.twimg.com/profile_images/4286917041...</td>\n",
       "      <td>a new york city nutritionist at megan wolf nut...</td>\n",
       "      <td>http://twitter.com/meganwolfrd</td>\n",
       "      <td>meganwolfrd</td>\n",
       "      <td>2124.0</td>\n",
       "      <td>http://pbs.twimg.com/profile_images/4286917041...</td>\n",
       "      <td>twitter</td>\n",
       "      <td>megan wolf, ms rd</td>\n",
       "      <td>7.0</td>\n",
       "    </tr>\n",
       "    <tr>\n",
       "      <th>3</th>\n",
       "      <td>http://pbs.twimg.com/profile_images/5055340279...</td>\n",
       "      <td>Student run account covering \\nAmerican Herita...</td>\n",
       "      <td>http://twitter.com/ah__athletics</td>\n",
       "      <td>ah__athletics</td>\n",
       "      <td>1216.0</td>\n",
       "      <td>http://pbs.twimg.com/profile_images/5055340279...</td>\n",
       "      <td>twitter</td>\n",
       "      <td>American Heritage</td>\n",
       "      <td>NaN</td>\n",
       "    </tr>\n",
       "    <tr>\n",
       "      <th>4</th>\n",
       "      <td>http://pbs.twimg.com/profile_images/5534009031...</td>\n",
       "      <td>Soy esquizofrénico paranoide, que mola más que...</td>\n",
       "      <td>http://twitter.com/jossflacco</td>\n",
       "      <td>jossflacco</td>\n",
       "      <td>1165.0</td>\n",
       "      <td>http://pbs.twimg.com/profile_images/5534009031...</td>\n",
       "      <td>twitter</td>\n",
       "      <td>Necromancer.</td>\n",
       "      <td>0.0</td>\n",
       "    </tr>\n",
       "    <tr>\n",
       "      <th>...</th>\n",
       "      <td>...</td>\n",
       "      <td>...</td>\n",
       "      <td>...</td>\n",
       "      <td>...</td>\n",
       "      <td>...</td>\n",
       "      <td>...</td>\n",
       "      <td>...</td>\n",
       "      <td>...</td>\n",
       "      <td>...</td>\n",
       "    </tr>\n",
       "    <tr>\n",
       "      <th>23506</th>\n",
       "      <td>http://pbs.twimg.com/profile_images/5584087520...</td>\n",
       "      <td>Estudiante de periodismo en la Aficionado a la...</td>\n",
       "      <td>http://twitter.com/gustavoalohac10</td>\n",
       "      <td>gustavoalohac10</td>\n",
       "      <td>4.0</td>\n",
       "      <td>http://pbs.twimg.com/profile_images/5584087520...</td>\n",
       "      <td>twitter</td>\n",
       "      <td>Gustavo Rivera</td>\n",
       "      <td>NaN</td>\n",
       "    </tr>\n",
       "    <tr>\n",
       "      <th>23507</th>\n",
       "      <td>http://pbs.twimg.com/profile_images/5561924210...</td>\n",
       "      <td>? P?????? ? D??? ? N? S?? ? B???????? ?   ? N?...</td>\n",
       "      <td>http://twitter.com/perla19camilaca</td>\n",
       "      <td>perla19camilaca</td>\n",
       "      <td>24.0</td>\n",
       "      <td>http://pbs.twimg.com/profile_images/5561924210...</td>\n",
       "      <td>twitter</td>\n",
       "      <td>Perla Calvo</td>\n",
       "      <td>NaN</td>\n",
       "    </tr>\n",
       "    <tr>\n",
       "      <th>23508</th>\n",
       "      <td>http://pbs.twimg.com/profile_images/5572943616...</td>\n",
       "      <td>From Boston, but in Seattle via a 17 yr journe...</td>\n",
       "      <td>http://twitter.com/davidofseattle</td>\n",
       "      <td>davidofseattle</td>\n",
       "      <td>3459.0</td>\n",
       "      <td>http://pbs.twimg.com/profile_images/5572943616...</td>\n",
       "      <td>twitter</td>\n",
       "      <td>David Dallaire</td>\n",
       "      <td>1.0</td>\n",
       "    </tr>\n",
       "    <tr>\n",
       "      <th>23509</th>\n",
       "      <td>http://pbs.twimg.com/profile_images/5127646825...</td>\n",
       "      <td>Anuncios Clasificados Gratis Cancún | Asesor d...</td>\n",
       "      <td>http://twitter.com/mikeintowncun</td>\n",
       "      <td>mikeintowncun</td>\n",
       "      <td>854.0</td>\n",
       "      <td>http://pbs.twimg.com/profile_images/5127646825...</td>\n",
       "      <td>twitter</td>\n",
       "      <td>Anuncios Gratis CUN</td>\n",
       "      <td>1.0</td>\n",
       "    </tr>\n",
       "    <tr>\n",
       "      <th>23510</th>\n",
       "      <td>http://pbs.twimg.com/profile_images/5639686068...</td>\n",
       "      <td>NaN</td>\n",
       "      <td>http://twitter.com/ikazifojuw52</td>\n",
       "      <td>ikazifojuw52</td>\n",
       "      <td>0.0</td>\n",
       "      <td>http://pbs.twimg.com/profile_images/5639686068...</td>\n",
       "      <td>twitter</td>\n",
       "      <td>Steven Evans</td>\n",
       "      <td>NaN</td>\n",
       "    </tr>\n",
       "  </tbody>\n",
       "</table>\n",
       "<p>23511 rows × 9 columns</p>\n",
       "</div>"
      ],
      "text/plain": [
       "                              original_author.author_img  \\\n",
       "0      http://pbs.twimg.com/profile_images/5512012677...   \n",
       "1      http://pbs.twimg.com/profile_images/5432108023...   \n",
       "2      http://pbs.twimg.com/profile_images/4286917041...   \n",
       "3      http://pbs.twimg.com/profile_images/5055340279...   \n",
       "4      http://pbs.twimg.com/profile_images/5534009031...   \n",
       "...                                                  ...   \n",
       "23506  http://pbs.twimg.com/profile_images/5584087520...   \n",
       "23507  http://pbs.twimg.com/profile_images/5561924210...   \n",
       "23508  http://pbs.twimg.com/profile_images/5572943616...   \n",
       "23509  http://pbs.twimg.com/profile_images/5127646825...   \n",
       "23510  http://pbs.twimg.com/profile_images/5639686068...   \n",
       "\n",
       "                             original_author.description  \\\n",
       "0      Follow me for News on Boston Sports Teams!  #G...   \n",
       "1      My life: @Patriots ❤#PatriotsNation/ Celtics/R...   \n",
       "2      a new york city nutritionist at megan wolf nut...   \n",
       "3      Student run account covering \\nAmerican Herita...   \n",
       "4      Soy esquizofrénico paranoide, que mola más que...   \n",
       "...                                                  ...   \n",
       "23506  Estudiante de periodismo en la Aficionado a la...   \n",
       "23507  ? P?????? ? D??? ? N? S?? ? B???????? ?   ? N?...   \n",
       "23508  From Boston, but in Seattle via a 17 yr journe...   \n",
       "23509  Anuncios Clasificados Gratis Cancún | Asesor d...   \n",
       "23510                                                NaN   \n",
       "\n",
       "                      original_author.url original_author.nick  \\\n",
       "0      http://twitter.com/nesportsfan1106      nesportsfan1106   \n",
       "1           http://twitter.com/87patriots           87patriots   \n",
       "2          http://twitter.com/meganwolfrd          meganwolfrd   \n",
       "3        http://twitter.com/ah__athletics        ah__athletics   \n",
       "4           http://twitter.com/jossflacco           jossflacco   \n",
       "...                                   ...                  ...   \n",
       "23506  http://twitter.com/gustavoalohac10      gustavoalohac10   \n",
       "23507  http://twitter.com/perla19camilaca      perla19camilaca   \n",
       "23508   http://twitter.com/davidofseattle       davidofseattle   \n",
       "23509    http://twitter.com/mikeintowncun        mikeintowncun   \n",
       "23510     http://twitter.com/ikazifojuw52         ikazifojuw52   \n",
       "\n",
       "       original_author.followers  \\\n",
       "0                         3811.0   \n",
       "1                         1163.0   \n",
       "2                         2124.0   \n",
       "3                         1216.0   \n",
       "4                         1165.0   \n",
       "...                          ...   \n",
       "23506                        4.0   \n",
       "23507                       24.0   \n",
       "23508                     3459.0   \n",
       "23509                      854.0   \n",
       "23510                        0.0   \n",
       "\n",
       "                               original_author.image_url original_author.type  \\\n",
       "0      http://pbs.twimg.com/profile_images/5512012677...              twitter   \n",
       "1      http://pbs.twimg.com/profile_images/5432108023...              twitter   \n",
       "2      http://pbs.twimg.com/profile_images/4286917041...              twitter   \n",
       "3      http://pbs.twimg.com/profile_images/5055340279...              twitter   \n",
       "4      http://pbs.twimg.com/profile_images/5534009031...              twitter   \n",
       "...                                                  ...                  ...   \n",
       "23506  http://pbs.twimg.com/profile_images/5584087520...              twitter   \n",
       "23507  http://pbs.twimg.com/profile_images/5561924210...              twitter   \n",
       "23508  http://pbs.twimg.com/profile_images/5572943616...              twitter   \n",
       "23509  http://pbs.twimg.com/profile_images/5127646825...              twitter   \n",
       "23510  http://pbs.twimg.com/profile_images/5639686068...              twitter   \n",
       "\n",
       "      original_author.name  original_author.influence_level  \n",
       "0        Boston Sports Fan                              NaN  \n",
       "1              Mrs. Gronk                               NaN  \n",
       "2        megan wolf, ms rd                              7.0  \n",
       "3        American Heritage                              NaN  \n",
       "4             Necromancer.                              0.0  \n",
       "...                    ...                              ...  \n",
       "23506       Gustavo Rivera                              NaN  \n",
       "23507          Perla Calvo                              NaN  \n",
       "23508       David Dallaire                              1.0  \n",
       "23509  Anuncios Gratis CUN                              1.0  \n",
       "23510         Steven Evans                              NaN  \n",
       "\n",
       "[23511 rows x 9 columns]"
      ]
     },
     "execution_count": 49,
     "metadata": {},
     "output_type": "execute_result"
    }
   ],
   "source": [
    "\n",
    "df_cols = list(tweet_dfs['gopatriots'].columns)\n",
    "selected_cols = [ col for col in df_cols if 'original_author' in col]\n",
    "tweet_dfs['gopatriots'][selected_cols]"
   ]
  },
  {
   "cell_type": "code",
   "execution_count": 144,
   "id": "a776646d-4b46-474e-808c-95fc51759d65",
   "metadata": {},
   "outputs": [
    {
     "name": "stderr",
     "output_type": "stream",
     "text": [
      "/var/folders/t3/qmdm09ls3m5352tkfm05z4hh0000gn/T/ipykernel_18054/256644787.py:3: SettingWithCopyWarning: \n",
      "A value is trying to be set on a copy of a slice from a DataFrame.\n",
      "Try using .loc[row_indexer,col_indexer] = value instead\n",
      "\n",
      "See the caveats in the documentation: https://pandas.pydata.org/pandas-docs/stable/user_guide/indexing.html#returning-a-view-versus-a-copy\n",
      "  tom_brady_text_df['len'] = tom_brady_text_df['title'].apply(lambda x: len(str(x)))\n",
      "/var/folders/t3/qmdm09ls3m5352tkfm05z4hh0000gn/T/ipykernel_18054/256644787.py:5: SettingWithCopyWarning: \n",
      "A value is trying to be set on a copy of a slice from a DataFrame.\n",
      "Try using .loc[row_indexer,col_indexer] = value instead\n",
      "\n",
      "See the caveats in the documentation: https://pandas.pydata.org/pandas-docs/stable/user_guide/indexing.html#returning-a-view-versus-a-copy\n",
      "  tom_brady_text_df['word_count'] = tom_brady_text_df['title'].apply(lambda x: len(x.split(' ')))\n"
     ]
    },
    {
     "data": {
      "text/plain": [
       "(360, 12)"
      ]
     },
     "execution_count": 144,
     "metadata": {},
     "output_type": "execute_result"
    }
   ],
   "source": [
    "player = 'Tom Brady'\n",
    "tom_brady_text_df = tweet_dfs['gopatriots'][tweet_dfs['gopatriots']['title'].str.contains(player)]\n",
    "tom_brady_text_df['len'] = tom_brady_text_df['title'].apply(lambda x: len(str(x)))\n",
    "\n",
    "tom_brady_text_df['word_count'] = tom_brady_text_df['title'].apply(lambda x: len(x.split(' ')))\n",
    "#tom_brady_text_df = tom_brady_text_df.sort_values(by=['metrics.citations.total'],ascending=False)\n",
    "#tom_brady_text_df['word_cum_sum'] = tom_brady_text_df['word_count'].cumsum()\n",
    "#tom_brady_text_df[['tweet.text','metrics.citations.total','len','word_count','word_cum_sum']]\n",
    "tom_brady_text_df.shape"
   ]
  },
  {
   "cell_type": "code",
   "execution_count": 68,
   "id": "193297f2-8624-4a9d-bfc3-4e808018d60e",
   "metadata": {},
   "outputs": [
    {
     "data": {
      "text/plain": [
       "(21, 120)"
      ]
     },
     "execution_count": 68,
     "metadata": {},
     "output_type": "execute_result"
    }
   ],
   "source": [
    "tom_brady_text_df[tom_brady_text_df['word_cum_sum']< 500].shape"
   ]
  },
  {
   "cell_type": "code",
   "execution_count": 69,
   "id": "501e54c5-9e77-4c27-bec7-15042524d158",
   "metadata": {},
   "outputs": [
    {
     "data": {
      "text/plain": [
       "\"It's SuperBowl Sunday 🏈 #Patriots vs #Seahawks Tom Brady vs Russell Wilson #SB49 #SuperBowlXLIX @NFL #NEvsSEA #GoPatriots #GoPats. I'm a Pats fan who loves Richard Sherman and Russell Wilson #truth #SuperBowlXLIX #GoPatriots. Even though Russell Wilson is from Richmond he still went to Collegiate... #GoPatriots. Can someone shut Russell Wilson up. He's so fake and unlikeable it's ridiculous. #gopatriots. Russell Wilson knows Revis Island is a dangerous place to visit. It's why he hasn't thrown that way. #GoPatriots. #patriots #GoPatriots Belichick 1/26: 'Russell Wilson is a winner' http://t.co/HT2tnb4TpF. Russell Wilson is the real MVP #gopatriots. I swear, w/ the exception of Russell Wilson....I can't stand the @Seahawks. &amp; I'm ecstatic that they loss! #GoPatriots 👍🏆🏈. If Russell Wilson doesn't pull this off, everyone at work will be upset! Hahaha #wearehuskies #GoPatriots #bradyistheman. I just can't take all the cheesy Russell Wilson quotes that would follow a Russell Wilson comeback. #GoPatriots. Jingle bells Seahawks smell Russell Wilson is really gay.... Childish? I THINK NOT #GoPatriots. Marshawn Lynch needs to share his skittle power with Russell Wilson - they're struggling! #GoPatriots. As much as I respect Russell Wilson... I hate every single person on their defense #GoPatriots. Russell Wilson wears leg warmers. #GoPatriots. #patriots #GoPatriots Belichick 1/26: 'Russell Wilson is a winner' http://t.co/htZ7RYruHQ. I like Russell Wilson but I loathe Pete Carroll more #GoPatriots #SuperBowlXLIX. #SB49? #GoPatriots #GoSeahawks SUPER BOWL Russell Wilson Vs Tom Brady\\nhttp://t.co/HNwagYSnJS\\nhttp://t.co/53yTiiu0vD. Marshawn Lynch y Russell Wilson juegan impresionante... pero... Tom Brady es el As de la noche, yo se que lo pueden ganar #GoPatriots. Russell Wilson Has Become A Matchup Nightmare By Mastering Two Skills http://t.co/oa6mApT9Ay via @BI_Sports #GOPATRIOTS. @prattprattpratt You're right, there is only ONE Captain America, sorry Russell Wilson but you aint him! #TeamChrisEvans #GoPatriots. #patriots #GoPatriots Russell Wilson: Blame me, I made the throw http://t.co/iZd8wPVuoh\""
      ]
     },
     "execution_count": 69,
     "metadata": {},
     "output_type": "execute_result"
    }
   ],
   "source": [
    "tom_brady_text_list= tom_brady_text_df.head(21)['tweet.text'].tolist()\n",
    "tom_brady_text = '. '.join(tom_brady_text_list)\n",
    "tom_brady_text"
   ]
  },
  {
   "cell_type": "code",
   "execution_count": null,
   "id": "1d4d406f-f394-482c-b447-e5cd29365ae6",
   "metadata": {},
   "outputs": [],
   "source": [
    "# to do clean links, create a column contains link true. "
   ]
  }
 ],
 "metadata": {
  "kernelspec": {
   "display_name": "ece219_p4",
   "language": "python",
   "name": "ece219_p4"
  },
  "language_info": {
   "codemirror_mode": {
    "name": "ipython",
    "version": 3
   },
   "file_extension": ".py",
   "mimetype": "text/x-python",
   "name": "python",
   "nbconvert_exporter": "python",
   "pygments_lexer": "ipython3",
   "version": "3.7.11"
  }
 },
 "nbformat": 4,
 "nbformat_minor": 5
}
